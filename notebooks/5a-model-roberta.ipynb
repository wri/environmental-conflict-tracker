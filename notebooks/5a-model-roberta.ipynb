{
 "cells": [
  {
   "cell_type": "code",
   "execution_count": null,
   "metadata": {},
   "outputs": [],
   "source": [
    "from keras.models import load_model\n",
    "from keras_bert import get_custom_objects\n",
    "import os.path\n",
    "import ktrain.text.preprocessor as tpp\n",
    "import pickle"
   ]
  },
  {
   "cell_type": "code",
   "execution_count": null,
   "metadata": {},
   "outputs": [],
   "source": [
    "bert_model = load_model('omdena_wri/static/coref_bert.hdf5', custom_objects=get_custom_objects())\n",
    "preproc_type = tpp.TEXT_PREPROCESSORS.get('bert', None)\n",
    "preproc = preproc_type(maxlen=350,\n",
    "                        max_features=35000,\n",
    "                        classes = ['pos','neg'],\n",
    "                        lang='en', ngram_range=1)"
   ]
  },
  {
   "cell_type": "code",
   "execution_count": null,
   "metadata": {},
   "outputs": [],
   "source": [
    "def is_land_conflict(text):\n",
    "    \"\"\"Returns True if text is environmental conflict related, otherwise returns False\n",
    "\n",
    "        Parameters:\n",
    "        text (str): news article as a string object\n",
    "\n",
    "        Returns:\n",
    "        is_conflict (bool): True if text is an env/land conflict; false otherwise.\n",
    "\n",
    "    \"\"\"\n",
    "\n",
    "    # preprocess the text\n",
    "    (text_processed,  _) = preproc.preprocess_train([text], verbose=1)\n",
    "\n",
    "    # return model's prediction \n",
    "    return bool(bert_model.predict(text_processed).argmax(axis=1) )"
   ]
  }
 ],
 "metadata": {
  "kernelspec": {
   "display_name": "policy-toolkit",
   "language": "python",
   "name": "policy-toolkit"
  },
  "language_info": {
   "codemirror_mode": {
    "name": "ipython",
    "version": 3
   },
   "file_extension": ".py",
   "mimetype": "text/x-python",
   "name": "python",
   "nbconvert_exporter": "python",
   "pygments_lexer": "ipython3",
   "version": "3.7.3"
  }
 },
 "nbformat": 4,
 "nbformat_minor": 2
}
