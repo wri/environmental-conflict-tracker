{
  "nbformat": 4,
  "nbformat_minor": 0,
  "metadata": {
    "colab": {
      "name": "Task#3 Coreference Resolution Unsupervised.ipynb",
      "provenance": [],
      "collapsed_sections": [],
      "include_colab_link": true
    },
    "kernelspec": {
      "name": "python3",
      "display_name": "Python 3"
    }
  },
  "cells": [
    {
      "cell_type": "markdown",
      "metadata": {
        "id": "view-in-github",
        "colab_type": "text"
      },
      "source": [
        "<a href=\"https://colab.research.google.com/github/omdena/WRI/blob/master/notebooks/Task_3_Coreference_Resolution_Unsupervised.ipynb\" target=\"_parent\"><img src=\"https://colab.research.google.com/assets/colab-badge.svg\" alt=\"Open In Colab\"/></a>"
      ]
    },
    {
      "cell_type": "markdown",
      "metadata": {
        "id": "prCf7VrbA1ys",
        "colab_type": "text"
      },
      "source": [
        "# About \n",
        "- Coref Resolution of articles: Section8 2080-7567; Row 838-977\n",
        "- Output File: [ReferenceChainReplace_ID_2080_7567.csv](https://drive.google.com/file/d/1fM-1zF6hF-TN7j882iNtwC8yZ0XdmCD1/view?usp=sharing)\n",
        "- File Columns: \n",
        "  - ids\t\n",
        "  - month\t\n",
        "  - class\t\n",
        "  - title\t\n",
        "  - text\t\n",
        "  - text_coref"
      ]
    },
    {
      "cell_type": "markdown",
      "metadata": {
        "id": "e1gaG4lRy_MR",
        "colab_type": "text"
      },
      "source": [
        "# Installing All dependencies\n",
        "- spacy 2.1.0 (later versions have some issues with neuralcoref)\n",
        "- neuralcoref \n",
        "- news-please"
      ]
    },
    {
      "cell_type": "code",
      "metadata": {
        "id": "ueMLvsFoy-Yw",
        "colab_type": "code",
        "colab": {}
      },
      "source": [
        "# uninstall default version & install 2.1.0\n",
        "!pip uninstall spacy \n",
        "!pip install spacy==2.1.0\n",
        "\n",
        "# download pretrained english model\n",
        "!python -m spacy download en\n",
        "\n",
        "# install neuralcoref\n",
        "!pip install neuralcoref\n",
        "\n",
        "# pickled articles need this\n",
        "!pip install news-please"
      ],
      "execution_count": 0,
      "outputs": []
    },
    {
      "cell_type": "markdown",
      "metadata": {
        "id": "24TASqSO0i8a",
        "colab_type": "text"
      },
      "source": [
        "# Loading Dependencies"
      ]
    },
    {
      "cell_type": "code",
      "metadata": {
        "id": "90XHSUSX0i0_",
        "colab_type": "code",
        "outputId": "46b35853-05cb-4c9d-b724-1fdb6aeb3dec",
        "colab": {
          "base_uri": "https://localhost:8080/",
          "height": 34
        }
      },
      "source": [
        "\n",
        "import pandas as pd\n",
        "import pickle\n",
        "import spacy\n",
        "import neuralcoref\n",
        "from newsplease import NewsPlease\n",
        "from google.colab import drive"
      ],
      "execution_count": 0,
      "outputs": [
        {
          "output_type": "stream",
          "text": [
            "100%|██████████| 40155833/40155833 [00:01<00:00, 20945232.99B/s]\n"
          ],
          "name": "stderr"
        }
      ]
    },
    {
      "cell_type": "code",
      "metadata": {
        "id": "fnejUc22GYJQ",
        "colab_type": "code",
        "outputId": "f7464b16-f706-42a8-deb8-effb7aea4c56",
        "colab": {
          "base_uri": "https://localhost:8080/",
          "height": 34
        }
      },
      "source": [
        "# mount google drive\n",
        "drive.mount('/content/drive')"
      ],
      "execution_count": 0,
      "outputs": [
        {
          "output_type": "stream",
          "text": [
            "Drive already mounted at /content/drive; to attempt to forcibly remount, call drive.mount(\"/content/drive\", force_remount=True).\n"
          ],
          "name": "stdout"
        }
      ]
    },
    {
      "cell_type": "markdown",
      "metadata": {
        "id": "TbkA9SUlawJ4",
        "colab_type": "text"
      },
      "source": [
        "# Clone WRI Github Repo to Google Drive [Skip if already did]\n",
        "\n",
        "Skip this if you already have WRI repo and the new manually_annotated.csv file"
      ]
    },
    {
      "cell_type": "code",
      "metadata": {
        "id": "Mg0jlNrma1ix",
        "colab_type": "code",
        "colab": {}
      },
      "source": [
        "# dir where WRI repo will be cloned\n",
        "!mkdir '/content/drive/My Drive/WRI'"
      ],
      "execution_count": 0,
      "outputs": []
    },
    {
      "cell_type": "code",
      "metadata": {
        "id": "a97JtzKbbV2A",
        "colab_type": "code",
        "colab": {}
      },
      "source": [
        "!git clone 'https://github.com/omdena/WRI.git' '/content/drive/My Drive/WRI'"
      ],
      "execution_count": 0,
      "outputs": []
    },
    {
      "cell_type": "markdown",
      "metadata": {
        "id": "r8Ll5b51_Z7E",
        "colab_type": "text"
      },
      "source": [
        "# Unzip Article Files [Skip if already did]\n",
        "I'm extracting files to WRI_DATA folder in my Google Drive. It might take 10-15 minutes"
      ]
    },
    {
      "cell_type": "code",
      "metadata": {
        "id": "UUFWGbQ1_aKg",
        "colab_type": "code",
        "colab": {}
      },
      "source": [
        "!mkdir '/content/drive/My Drive/WRI_DATA'\n",
        "!unzip -qq '/content/drive/My Drive/WRI/data/texts/*.zip' -d '/content/drive/My Drive/WRI_DATA'"
      ],
      "execution_count": 0,
      "outputs": []
    },
    {
      "cell_type": "markdown",
      "metadata": {
        "id": "pYB0aIG8lOML",
        "colab_type": "text"
      },
      "source": [
        "# Loading Text Data from Google Drive"
      ]
    },
    {
      "cell_type": "code",
      "metadata": {
        "id": "8B5r_d_1lOf-",
        "colab_type": "code",
        "colab": {}
      },
      "source": [
        "# path where manual text data is located\n",
        "file_path = '/content/drive/My Drive/WRI/data/gold-standard/manually_annotated.csv'"
      ],
      "execution_count": 0,
      "outputs": []
    },
    {
      "cell_type": "code",
      "metadata": {
        "id": "SuFEhBChlOsH",
        "colab_type": "code",
        "outputId": "9727d11e-57c1-4d89-e17a-54bb87544721",
        "colab": {
          "base_uri": "https://localhost:8080/",
          "height": 204
        }
      },
      "source": [
        "gold_df  = pd.read_csv(file_path)\n",
        "gold_df.head()"
      ],
      "execution_count": 0,
      "outputs": [
        {
          "output_type": "execute_result",
          "data": {
            "text/html": [
              "<div>\n",
              "<style scoped>\n",
              "    .dataframe tbody tr th:only-of-type {\n",
              "        vertical-align: middle;\n",
              "    }\n",
              "\n",
              "    .dataframe tbody tr th {\n",
              "        vertical-align: top;\n",
              "    }\n",
              "\n",
              "    .dataframe thead th {\n",
              "        text-align: right;\n",
              "    }\n",
              "</style>\n",
              "<table border=\"1\" class=\"dataframe\">\n",
              "  <thead>\n",
              "    <tr style=\"text-align: right;\">\n",
              "      <th></th>\n",
              "      <th>ids</th>\n",
              "      <th>month</th>\n",
              "      <th>class</th>\n",
              "      <th>title</th>\n",
              "    </tr>\n",
              "  </thead>\n",
              "  <tbody>\n",
              "    <tr>\n",
              "      <th>0</th>\n",
              "      <td>1600</td>\n",
              "      <td>1</td>\n",
              "      <td>negative</td>\n",
              "      <td>BJP won't cower down by CPI-M's violence: Amit...</td>\n",
              "    </tr>\n",
              "    <tr>\n",
              "      <th>1</th>\n",
              "      <td>3335</td>\n",
              "      <td>1</td>\n",
              "      <td>negative</td>\n",
              "      <td>Supreme court: How India handles the civil dis...</td>\n",
              "    </tr>\n",
              "    <tr>\n",
              "      <th>2</th>\n",
              "      <td>3914</td>\n",
              "      <td>1</td>\n",
              "      <td>negative</td>\n",
              "      <td>Trump admins must list for immigrants: skill, ...</td>\n",
              "    </tr>\n",
              "    <tr>\n",
              "      <th>3</th>\n",
              "      <td>1094</td>\n",
              "      <td>1</td>\n",
              "      <td>positive</td>\n",
              "      <td>Discard differences, says RSS chief Mohan Bhag...</td>\n",
              "    </tr>\n",
              "    <tr>\n",
              "      <th>4</th>\n",
              "      <td>4077</td>\n",
              "      <td>1</td>\n",
              "      <td>negative</td>\n",
              "      <td>Doctor found dead in flat</td>\n",
              "    </tr>\n",
              "  </tbody>\n",
              "</table>\n",
              "</div>"
            ],
            "text/plain": [
              "    ids  month     class                                              title\n",
              "0  1600      1  negative  BJP won't cower down by CPI-M's violence: Amit...\n",
              "1  3335      1  negative  Supreme court: How India handles the civil dis...\n",
              "2  3914      1  negative  Trump admins must list for immigrants: skill, ...\n",
              "3  1094      1  positive  Discard differences, says RSS chief Mohan Bhag...\n",
              "4  4077      1  negative                          Doctor found dead in flat"
            ]
          },
          "metadata": {
            "tags": []
          },
          "execution_count": 6
        }
      ]
    },
    {
      "cell_type": "code",
      "metadata": {
        "id": "aVTPcxcqwKaX",
        "colab_type": "code",
        "outputId": "8f9a466f-6982-4cc3-a77f-85f16f4e85df",
        "colab": {
          "base_uri": "https://localhost:8080/",
          "height": 80
        }
      },
      "source": [
        "# starting row #838\n",
        "gold_df[gold_df.ids == 2080 ]"
      ],
      "execution_count": 0,
      "outputs": [
        {
          "output_type": "execute_result",
          "data": {
            "text/html": [
              "<div>\n",
              "<style scoped>\n",
              "    .dataframe tbody tr th:only-of-type {\n",
              "        vertical-align: middle;\n",
              "    }\n",
              "\n",
              "    .dataframe tbody tr th {\n",
              "        vertical-align: top;\n",
              "    }\n",
              "\n",
              "    .dataframe thead th {\n",
              "        text-align: right;\n",
              "    }\n",
              "</style>\n",
              "<table border=\"1\" class=\"dataframe\">\n",
              "  <thead>\n",
              "    <tr style=\"text-align: right;\">\n",
              "      <th></th>\n",
              "      <th>ids</th>\n",
              "      <th>month</th>\n",
              "      <th>class</th>\n",
              "      <th>title</th>\n",
              "    </tr>\n",
              "  </thead>\n",
              "  <tbody>\n",
              "    <tr>\n",
              "      <th>838</th>\n",
              "      <td>2080</td>\n",
              "      <td>1</td>\n",
              "      <td>positive</td>\n",
              "      <td>Gujarat: Massive fire breaks out in a chemical...</td>\n",
              "    </tr>\n",
              "  </tbody>\n",
              "</table>\n",
              "</div>"
            ],
            "text/plain": [
              "      ids  month     class                                              title\n",
              "838  2080      1  positive  Gujarat: Massive fire breaks out in a chemical..."
            ]
          },
          "metadata": {
            "tags": []
          },
          "execution_count": 7
        }
      ]
    },
    {
      "cell_type": "code",
      "metadata": {
        "id": "Q4lvHAbnwmca",
        "colab_type": "code",
        "outputId": "103bbd6c-8929-44c0-d283-f852d1b99523",
        "colab": {
          "base_uri": "https://localhost:8080/",
          "height": 80
        }
      },
      "source": [
        "# end row #977\n",
        "gold_df[gold_df.ids == 7567 ]"
      ],
      "execution_count": 0,
      "outputs": [
        {
          "output_type": "execute_result",
          "data": {
            "text/html": [
              "<div>\n",
              "<style scoped>\n",
              "    .dataframe tbody tr th:only-of-type {\n",
              "        vertical-align: middle;\n",
              "    }\n",
              "\n",
              "    .dataframe tbody tr th {\n",
              "        vertical-align: top;\n",
              "    }\n",
              "\n",
              "    .dataframe thead th {\n",
              "        text-align: right;\n",
              "    }\n",
              "</style>\n",
              "<table border=\"1\" class=\"dataframe\">\n",
              "  <thead>\n",
              "    <tr style=\"text-align: right;\">\n",
              "      <th></th>\n",
              "      <th>ids</th>\n",
              "      <th>month</th>\n",
              "      <th>class</th>\n",
              "      <th>title</th>\n",
              "    </tr>\n",
              "  </thead>\n",
              "  <tbody>\n",
              "    <tr>\n",
              "      <th>977</th>\n",
              "      <td>7567</td>\n",
              "      <td>1</td>\n",
              "      <td>positive</td>\n",
              "      <td>Positively Filipino | Online Magazine for Fili...</td>\n",
              "    </tr>\n",
              "  </tbody>\n",
              "</table>\n",
              "</div>"
            ],
            "text/plain": [
              "      ids  month     class                                              title\n",
              "977  7567      1  positive  Positively Filipino | Online Magazine for Fili..."
            ]
          },
          "metadata": {
            "tags": []
          },
          "execution_count": 8
        }
      ]
    },
    {
      "cell_type": "code",
      "metadata": {
        "id": "z6aGOTJ32BjC",
        "colab_type": "code",
        "colab": {}
      },
      "source": [
        "# change it to rows assigned to you\n",
        "begin_row, end_row = 838, 977"
      ],
      "execution_count": 0,
      "outputs": []
    },
    {
      "cell_type": "markdown",
      "metadata": {
        "id": "x1-utxmr1ZsT",
        "colab_type": "text"
      },
      "source": [
        "# Util Functions"
      ]
    },
    {
      "cell_type": "code",
      "metadata": {
        "id": "-5Gj-kVE1G7K",
        "colab_type": "code",
        "colab": {}
      },
      "source": [
        "# util function to load articles for given month & ids\n",
        "# taken from the WRI repo \n",
        "def load_obj(month, idx):\n",
        "    month = str(month).zfill(2)\n",
        "    idx = str(idx).zfill(5)\n",
        "    with open(\"/content/drive/My Drive/WRI_DATA/{}/{}.pkl\".format(month, idx), \"rb\") as f:\n",
        "        return pickle.load(f)"
      ],
      "execution_count": 0,
      "outputs": []
    },
    {
      "cell_type": "markdown",
      "metadata": {
        "id": "Gsf7yAZC1tk0",
        "colab_type": "text"
      },
      "source": [
        "# Coref Resolution"
      ]
    },
    {
      "cell_type": "code",
      "metadata": {
        "id": "7a-WymKRw3_1",
        "colab_type": "code",
        "outputId": "d4d19369-194e-4bd9-c3b8-d46bbf640c8b",
        "colab": {
          "base_uri": "https://localhost:8080/",
          "height": 34
        }
      },
      "source": [
        "output_df = pd.DataFrame() # DataFrame to store resulted text\n",
        "nlp = spacy.load('en')\n",
        "neuralcoref.add_to_pipe(nlp)"
      ],
      "execution_count": 0,
      "outputs": [
        {
          "output_type": "execute_result",
          "data": {
            "text/plain": [
              "<spacy.lang.en.English at 0x7f79dc541ac8>"
            ]
          },
          "metadata": {
            "tags": []
          },
          "execution_count": 21
        }
      ]
    },
    {
      "cell_type": "code",
      "metadata": {
        "id": "J7-bYCW1xda-",
        "colab_type": "code",
        "outputId": "fa8825e0-70ba-4e29-b6dd-f0cf7a1d78c6",
        "colab": {
          "base_uri": "https://localhost:8080/",
          "height": 527
        }
      },
      "source": [
        "print(f'starting at {begin_row}th row....')\n",
        "for row in range(begin_row, end_row+1):\n",
        "  article = load_obj(gold_df['month'][row], gold_df['ids'][row])\n",
        "  doc = nlp(article.text)\n",
        "  temp_df = pd.DataFrame([\n",
        "      {'ids': gold_df['ids'][row], \n",
        "       'month': gold_df['month'][row], \n",
        "       'class':gold_df['class'][row], \n",
        "       'title': gold_df['title'][row], \n",
        "       'text':article.text, \n",
        "       'text_coref':doc._.coref_resolved}])\n",
        "  output_df = pd.concat([output_df, temp_df])\n",
        "  \n",
        "  if row%5==0:\n",
        "    print(f'Completed Upto {row}th row...')\n",
        "print(f'Done')"
      ],
      "execution_count": 0,
      "outputs": [
        {
          "output_type": "stream",
          "text": [
            "starting at 838th row....\n",
            "Completed Upto 840th row...\n",
            "Completed Upto 845th row...\n",
            "Completed Upto 850th row...\n",
            "Completed Upto 855th row...\n",
            "Completed Upto 860th row...\n",
            "Completed Upto 865th row...\n",
            "Completed Upto 870th row...\n",
            "Completed Upto 875th row...\n",
            "Completed Upto 880th row...\n",
            "Completed Upto 885th row...\n",
            "Completed Upto 890th row...\n",
            "Completed Upto 895th row...\n",
            "Completed Upto 900th row...\n",
            "Completed Upto 905th row...\n",
            "Completed Upto 910th row...\n",
            "Completed Upto 915th row...\n",
            "Completed Upto 920th row...\n",
            "Completed Upto 925th row...\n",
            "Completed Upto 930th row...\n",
            "Completed Upto 935th row...\n",
            "Completed Upto 940th row...\n",
            "Completed Upto 945th row...\n",
            "Completed Upto 950th row...\n",
            "Completed Upto 955th row...\n",
            "Completed Upto 960th row...\n",
            "Completed Upto 965th row...\n",
            "Completed Upto 970th row...\n",
            "Completed Upto 975th row...\n",
            "Done\n"
          ],
          "name": "stdout"
        }
      ]
    },
    {
      "cell_type": "code",
      "metadata": {
        "id": "tS-zbrXK24ku",
        "colab_type": "code",
        "outputId": "5f31b022-9a38-46a5-861f-88c4a98d8a1d",
        "colab": {
          "base_uri": "https://localhost:8080/",
          "height": 204
        }
      },
      "source": [
        "output_df.head()"
      ],
      "execution_count": 0,
      "outputs": [
        {
          "output_type": "execute_result",
          "data": {
            "text/html": [
              "<div>\n",
              "<style scoped>\n",
              "    .dataframe tbody tr th:only-of-type {\n",
              "        vertical-align: middle;\n",
              "    }\n",
              "\n",
              "    .dataframe tbody tr th {\n",
              "        vertical-align: top;\n",
              "    }\n",
              "\n",
              "    .dataframe thead th {\n",
              "        text-align: right;\n",
              "    }\n",
              "</style>\n",
              "<table border=\"1\" class=\"dataframe\">\n",
              "  <thead>\n",
              "    <tr style=\"text-align: right;\">\n",
              "      <th></th>\n",
              "      <th>ids</th>\n",
              "      <th>month</th>\n",
              "      <th>class</th>\n",
              "      <th>title</th>\n",
              "      <th>text</th>\n",
              "      <th>text_coref</th>\n",
              "    </tr>\n",
              "  </thead>\n",
              "  <tbody>\n",
              "    <tr>\n",
              "      <th>0</th>\n",
              "      <td>2080</td>\n",
              "      <td>1</td>\n",
              "      <td>positive</td>\n",
              "      <td>Gujarat: Massive fire breaks out in a chemical...</td>\n",
              "      <td>Image Source : ANI Gujarat: Massive fire break...</td>\n",
              "      <td>Image Source : ANI Gujarat: Massive fire break...</td>\n",
              "    </tr>\n",
              "    <tr>\n",
              "      <th>0</th>\n",
              "      <td>3651</td>\n",
              "      <td>1</td>\n",
              "      <td>negative</td>\n",
              "      <td>BBMP sets January 20 deadline for details on m...</td>\n",
              "      <td>The civic body’s ongoing war against the menac...</td>\n",
              "      <td>The civic body’s ongoing war against the menac...</td>\n",
              "    </tr>\n",
              "    <tr>\n",
              "      <th>0</th>\n",
              "      <td>3439</td>\n",
              "      <td>1</td>\n",
              "      <td>negative</td>\n",
              "      <td>5 Jaish men shot dead on LoC</td>\n",
              "      <td>The security agencies on Monday aborted a “sui...</td>\n",
              "      <td>The security agencies on Monday aborted a “sui...</td>\n",
              "    </tr>\n",
              "    <tr>\n",
              "      <th>0</th>\n",
              "      <td>1549</td>\n",
              "      <td>1</td>\n",
              "      <td>negative</td>\n",
              "      <td>Chidambaram, Sibal attack Modi government over...</td>\n",
              "      <td>New Delhi, Jan 7 (IANS) Congress leader P. Chi...</td>\n",
              "      <td>New Delhi, Jan 7 (IANS) Congress leader P. Chi...</td>\n",
              "    </tr>\n",
              "    <tr>\n",
              "      <th>0</th>\n",
              "      <td>894</td>\n",
              "      <td>1</td>\n",
              "      <td>positive</td>\n",
              "      <td>Wanted: Greater private sector investment in a...</td>\n",
              "      <td>Last updated on: January 04, 2018 17:28 IST\\n'...</td>\n",
              "      <td>Last updated on: January 04, 2018 17:28 IST\\n'...</td>\n",
              "    </tr>\n",
              "  </tbody>\n",
              "</table>\n",
              "</div>"
            ],
            "text/plain": [
              "    ids  ...                                         text_coref\n",
              "0  2080  ...  Image Source : ANI Gujarat: Massive fire break...\n",
              "0  3651  ...  The civic body’s ongoing war against the menac...\n",
              "0  3439  ...  The security agencies on Monday aborted a “sui...\n",
              "0  1549  ...  New Delhi, Jan 7 (IANS) Congress leader P. Chi...\n",
              "0   894  ...  Last updated on: January 04, 2018 17:28 IST\\n'...\n",
              "\n",
              "[5 rows x 6 columns]"
            ]
          },
          "metadata": {
            "tags": []
          },
          "execution_count": 24
        }
      ]
    },
    {
      "cell_type": "markdown",
      "metadata": {
        "id": "2EAotqjL6mXc",
        "colab_type": "text"
      },
      "source": [
        "# Example: For Positive class"
      ]
    },
    {
      "cell_type": "code",
      "metadata": {
        "id": "c2ggaTN_29Rf",
        "colab_type": "code",
        "colab": {}
      },
      "source": [
        "# a random article for comparison\n",
        "p_ex = output_df.loc[output_df['class'] =='positive'].sample(n=1, random_state=1)"
      ],
      "execution_count": 0,
      "outputs": []
    },
    {
      "cell_type": "code",
      "metadata": {
        "id": "JrtlPBWA6lqE",
        "colab_type": "code",
        "outputId": "db4b2563-c753-40de-ae8e-f2dbb48e5151",
        "colab": {
          "base_uri": "https://localhost:8080/",
          "height": 51
        }
      },
      "source": [
        "p_ex.title"
      ],
      "execution_count": 0,
      "outputs": [
        {
          "output_type": "execute_result",
          "data": {
            "text/plain": [
              "0    Fresh push for Delhi-Manesar expressway as HC ...\n",
              "Name: title, dtype: object"
            ]
          },
          "metadata": {
            "tags": []
          },
          "execution_count": 27
        }
      ]
    },
    {
      "cell_type": "code",
      "metadata": {
        "id": "BbG1z4A47Cqp",
        "colab_type": "code",
        "outputId": "d6782dd0-1411-4b33-a471-5542f5aa223e",
        "colab": {
          "base_uri": "https://localhost:8080/",
          "height": 71
        }
      },
      "source": [
        "print(str(p_ex['text'][0]))"
      ],
      "execution_count": 0,
      "outputs": [
        {
          "output_type": "stream",
          "text": [
            "File photo\n",
            "GURUGRAM: PWD minister Rao Narbir Singh on Sunday announced that work on the stalled Greater Southern Peripheral Road (G-SPR) project, to connect Delhi-Gurugram border to IMT Manesar, should gain pace, now that Punjab and Haryana high court has vacated a stay order on land acquisition that it had imposed in 2016.Huda had started acquisition for the 40km-long GSPR in 2016, but faced a challenge from a land owner. Some villagers had filed a case before the high court, challenging the acquisition in Naurangpur village and nearby areas, and got a stay from court.With the stay now vacated, the state will have to issue a fresh notification for acquisition, but Huda is raring to start the process.“The high court has vacated the stay over acquisition by dismissing the case filed by land owners, paving the way for construction of G-SPR as per the Master Plan,” said the PWD minister, adding that once complete, this road would offer an alternative route between Delhi-Gurugram border and IMT Manesar, which are connected only through Delhi-Gurugram expressway (NH-8) at present, and thus reduce congestion on the NH-8.The minister added the road will branch out from NH-8 at IMT Manesar, pass through Badshapur as it proceeds towards Gurugram-Faridabad road, cross MG Road and again merge with NH-8 near Sirhaul on the Delhi-Gurugram border from behind Ambience mall. The road is supposed to be constructed as per Gurugram-Manesar Plan 2031.“This road will be more like an ‘outer ring road’ for the city,” he said, adding they are trying to convince NHAI to build it, for which, he has already met Union minister Nitin Gadkari . The road is expected to benefit villages along the road, while also reducing congestion on NH-8, and thereby pollution in the city.As per sources, NHAI is not keen on building the road, due to high cost of land acquisition. “The initial survey had indicated the project was not viable due to high cost of land acquisition. That’s why a fresh feasibility study is now being carried out, in view of Haryana’s new policy, announced in late 2017, of transit oriented development (TOD), under which land along the road will get additional FAR,” said the source.Around 395 acres has to be acquired in eight villages for G-SPR. They are — Aklimpur (5.95 acre), Tekliki (62.95 acre), Sakatpur (68.90 acre), Sikohour (15.92 acre), Naurangpur (49.40 acre), Bar Gujjar (99.13 acre), Nainwal (59.92 acre) and Manesar (33.15 acre). The road will be 90m-wide with a 30m-green belt on either side. The land will be acquired by Huda and handed over to the developer — which could be NHAI — for construction.\n"
          ],
          "name": "stdout"
        }
      ]
    },
    {
      "cell_type": "code",
      "metadata": {
        "id": "a8CGJSOh7Ct9",
        "colab_type": "code",
        "outputId": "d43050d1-ed29-423e-8116-e1cc0f4aa032",
        "colab": {
          "base_uri": "https://localhost:8080/",
          "height": 71
        }
      },
      "source": [
        "print(str(p_ex['text_coref'][0]))"
      ],
      "execution_count": 0,
      "outputs": [
        {
          "output_type": "stream",
          "text": [
            "File photo\n",
            "GURUGRAM: PWD minister Rao Narbir Singh on Sunday announced that work on the stalled Greater Southern Peripheral Road (G-SPR) project, to connect Delhi-Gurugram border to IMT Manesar, should gain pace, now that Punjab and Haryana high court has vacated a stay order on land acquisition that Punjab and Haryana high court had imposed in 2016.Huda had started acquisition for the 40km-long GSPR in 2016, but faced a challenge from a land owner. Some villagers had filed a case before Punjab and Haryana high court, challenging the acquisition in Naurangpur village and nearby areas, and got a stay from court.With a stay from court now vacated, the state will have to issue a fresh notification for acquisition, but Huda is raring to start Punjab and Haryana high court has vacated the stay over acquisition by dismissing the case filed by land owners, paving the way for construction of G-SPR as per the Master Plan,” said the PWD minister, adding that once complete, this road would offer an alternative route between Delhi-Gurugram border and IMT Manesar, which are connected only through Delhi-Gurugram expressway (NH-8) at present, and thus reduce congestion on the NH-8.The minister added this road will branch out from NH-8 at IMT Manesar, pass through Badshapur as Badshapur proceeds towards Gurugram-Faridabad road, cross MG Road and again merge with NH-8 near Sirhaul on the Delhi-Gurugram border from behind Ambience mall. this road is supposed to be constructed as per Gurugram-Manesar Plan 2031.“This road will be more like an ‘outer ring road’ for the city,” the PWD minister said, adding they are trying to convince NHAI to build NHAI, for which, the PWD minister has already met Union minister Nitin Gadkari . this road is expected to benefit villages along this road, while also reducing congestion on NH-8, and thereby pollution in the city.As per sources, NHAI is not keen on building this road, due to high cost of land acquisition. “The initial survey had indicated the project was not viable due to high cost of land acquisition. That’s why a fresh feasibility study is now being carried out, in view of Haryana’s new policy, announced in late 2017, of transit oriented development (TOD), under which land along this road will get additional FAR,” said the source.Around 395 acres has to be acquired in eight villages for G-SPR. They are — Aklimpur (5.95 acre), Tekliki (62.95 acre), Sakatpur (68.90 acre), Sikohour (15.92 acre), Naurangpur (49.40 acre), Bar Gujjar (99.13 acre), Nainwal (59.92 acre) and Manesar (33.15 acre). this road will be 90m-wide with a 30m-green belt on either side. The land will be acquired by Huda and handed over to the developer — which could be NHAI — for construction.\n"
          ],
          "name": "stdout"
        }
      ]
    },
    {
      "cell_type": "markdown",
      "metadata": {
        "id": "B3QcT5qj7bJ0",
        "colab_type": "text"
      },
      "source": [
        "# Original Text \n",
        "- 🍎Incorrect Replacement\n",
        "- 🍏Correct Replacement\n",
        "\n",
        "\n",
        "GURUGRAM: PWD minister Rao Narbir Singh on Sunday announced that work on the stalled Greater Southern Peripheral Road (G-SPR) project, to connect Delhi-Gurugram border to IMT Manesar, should gain pace, now that Punjab and Haryana high court has vacated a stay order on land acquisition that   🍏it  🍏 had imposed in 2016.Huda had started acquisition for the 40km-long GSPR in 2016, but faced a challenge from a land owner. Some villagers had filed a case before the high court, challenging the acquisition in Naurangpur village and nearby areas, and got a stay from court.With the stay now vacated, the state will have to issue a fresh notification for acquisition, but Huda is raring to start the process.“The high court has vacated the stay over acquisition by dismissing the case filed by land owners, paving the way for construction of G-SPR as per the Master Plan,” said the PWD minister, adding that once complete, this road would offer an alternative route between Delhi-Gurugram border and IMT Manesar, which are connected only through Delhi-Gurugram expressway (NH-8) at present, and thus reduce congestion on the NH-8.The minister added the road will branch out from NH-8 at IMT Manesar, pass through Badshapur as  🍎 it  🍎 proceeds towards Gurugram-Faridabad road, cross MG Road and again merge with NH-8 near Sirhaul on the Delhi-Gurugram border from behind Ambience mall. The road is supposed to be constructed as per Gurugram-Manesar Plan 2031.“This road will be more like an ‘outer ring road’ for the city,”   🍏 he 🍏 said, adding  they are trying to convince NHAI to build  🍎it 🍎, for which,   🍏he  🍏 has already met Union minister Nitin Gadkari . The road is expected to benefit villages along the road, while also reducing congestion on NH-8, and thereby pollution in the city.As per sources, NHAI is not keen on building the road, due to high cost of land acquisition. “The initial survey had indicated the project was not viable due to high cost of land acquisition. That’s why a fresh feasibility study is now being carried out, in view of Haryana’s new policy, announced in late 2017, of transit oriented development (TOD), under which land along the road will get additional FAR,” said the source.Around 395 acres has to be acquired in eight villages for G-SPR.  They are — Aklimpur (5.95 acre), Tekliki (62.95 acre), Sakatpur (68.90 acre), Sikohour (15.92 acre), Naurangpur (49.40 acre), Bar Gujjar (99.13 acre), Nainwal (59.92 acre) and Manesar (33.15 acre). The road will be 90m-wide with a 30m-green belt on either side. The land will be acquired by Huda and handed over to the developer — which could be NHAI — for construction."
      ]
    },
    {
      "cell_type": "markdown",
      "metadata": {
        "id": "L9MPDCKY7soj",
        "colab_type": "text"
      },
      "source": [
        "# Text After Coref Resolution\n",
        "GURUGRAM: PWD minister Rao Narbir Singh on Sunday announced that work on the stalled Greater Southern Peripheral Road (G-SPR) project, to connect Delhi-Gurugram border to IMT Manesar, should gain pace, now that Punjab and Haryana high court has vacated a stay order on land acquisition that   🍏Punjab and Haryana high court  🍏 had imposed in 2016.Huda had started acquisition for the 40km-long GSPR in 2016, but faced a challenge from a land owner. Some villagers had filed a case before Punjab and Haryana high court, challenging the acquisition in Naurangpur village and nearby areas, and got a stay from court.With a stay from court now vacated, the state will have to issue a fresh notification for acquisition, but Huda is raring to start Punjab and Haryana high court has vacated the stay over acquisition by dismissing the case filed by land owners, paving the way for construction of G-SPR as per the Master Plan,” said the PWD minister, adding that once complete, this road would offer an alternative route between Delhi-Gurugram border and IMT Manesar, which are connected only through Delhi-Gurugram expressway (NH-8) at present, and thus reduce congestion on the NH-8.The minister added this road will branch out from NH-8 at IMT Manesar, pass through Badshapur as  🍎Badshapur 🍎 proceeds towards Gurugram-Faridabad road, cross MG Road and again merge with NH-8 near Sirhaul on the Delhi-Gurugram border from behind Ambience mall. this road is supposed to be constructed as per Gurugram-Manesar Plan 2031.“This road will be more like an ‘outer ring road’ for the city,”   🍏the PWD minister  🍏 said, adding they are trying to convince NHAI to build  🍎NHAI 🍎, for which,   🍏the PWD minister  🍏 has already met Union minister Nitin Gadkari . this road is expected to benefit villages along this road, while also reducing congestion on NH-8, and thereby pollution in the city.As per sources, NHAI is not keen on building this road, due to high cost of land acquisition. “The initial survey had indicated the project was not viable due to high cost of land acquisition. That’s why a fresh feasibility study is now being carried out, in view of Haryana’s new policy, announced in late 2017, of transit oriented development (TOD), under which land along this road will get additional FAR,” said the source.Around 395 acres has to be acquired in eight villages for G-SPR. They are — Aklimpur (5.95 acre), Tekliki (62.95 acre), Sakatpur (68.90 acre), Sikohour (15.92 acre), Naurangpur (49.40 acre), Bar Gujjar (99.13 acre), Nainwal (59.92 acre) and Manesar (33.15 acre). this road will be 90m-wide with a 30m-green belt on either side. The land will be acquired by Huda and handed over to the developer — which could be NHAI — for construction."
      ]
    },
    {
      "cell_type": "markdown",
      "metadata": {
        "id": "YyWYdsjM7st9",
        "colab_type": "text"
      },
      "source": [
        "# Saving Coref Resolution DataFrame"
      ]
    },
    {
      "cell_type": "code",
      "metadata": {
        "id": "D3xDBMKHCC3O",
        "colab_type": "code",
        "colab": {}
      },
      "source": [
        "output_df.to_csv('/content/drive/My Drive/WRI_DATA/ReferenceChainReplace_ID_2080_7567.csv')"
      ],
      "execution_count": 0,
      "outputs": []
    },
    {
      "cell_type": "code",
      "metadata": {
        "id": "eKRA0UZVDUSM",
        "colab_type": "code",
        "colab": {}
      },
      "source": [
        "# if saved file takes time to show up in drive then flush data\n",
        "drive.flush_and_unmount()"
      ],
      "execution_count": 0,
      "outputs": []
    }
  ]
}