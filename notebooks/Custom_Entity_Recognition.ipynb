{
  "nbformat": 4,
  "nbformat_minor": 0,
  "metadata": {
    "kernelspec": {
      "name": "python3",
      "display_name": "Python 3"
    },
    "language_info": {
      "codemirror_mode": {
        "name": "ipython",
        "version": 3
      },
      "file_extension": ".py",
      "mimetype": "text/x-python",
      "name": "python",
      "nbconvert_exporter": "python",
      "pygments_lexer": "ipython3",
      "version": "3.7.3"
    },
    "colab": {
      "name": "Custom_Entity_Recognition.ipynb",
      "provenance": [],
      "collapsed_sections": []
    },
    "accelerator": "GPU"
  },
  "cells": [
    {
      "cell_type": "markdown",
      "metadata": {
        "id": "8_gwwJH_sDq2",
        "colab_type": "text"
      },
      "source": [
        "# Mounting drive"
      ]
    },
    {
      "cell_type": "code",
      "metadata": {
        "id": "lgrjd-RFsIf8",
        "colab_type": "code",
        "outputId": "6c5d0bc1-2877-48b2-829b-0c237add71ef",
        "colab": {
          "base_uri": "https://localhost:8080/",
          "height": 35
        }
      },
      "source": [
        "#To login to your googledrive account for file management\n",
        "from google.colab import drive\n",
        "drive.mount('/content/drive')"
      ],
      "execution_count": 40,
      "outputs": [
        {
          "output_type": "stream",
          "text": [
            "Drive already mounted at /content/drive; to attempt to forcibly remount, call drive.mount(\"/content/drive\", force_remount=True).\n"
          ],
          "name": "stdout"
        }
      ]
    },
    {
      "cell_type": "code",
      "metadata": {
        "id": "ztcTZF4wsNhx",
        "colab_type": "code",
        "outputId": "4be0c412-6ce9-4c32-e16d-1db3e2712b22",
        "colab": {
          "base_uri": "https://localhost:8080/",
          "height": 53
        }
      },
      "source": [
        "#CD into the directory you want to be in and clone the repository in\n",
        "% cd drive/My Drive/Colab Notebooks/WRI_Enivronmental_Conflicts/"
      ],
      "execution_count": 41,
      "outputs": [
        {
          "output_type": "stream",
          "text": [
            "[Errno 2] No such file or directory: 'drive/My Drive/Colab Notebooks/WRI_Enivronmental_Conflicts/'\n",
            "/content/drive/My Drive/Colab Notebooks/WRI_Enivronmental_Conflicts\n"
          ],
          "name": "stdout"
        }
      ]
    },
    {
      "cell_type": "code",
      "metadata": {
        "id": "VwPN9US_0FY6",
        "colab_type": "code",
        "outputId": "b57fbbbf-a120-4690-f094-f27ac6c35c40",
        "colab": {
          "base_uri": "https://localhost:8080/",
          "height": 1000
        }
      },
      "source": [
        "#!pip uninstall spacy \n",
        "#!pip uninstall neuralcoref\n",
        "!pip install spacy==2.1.0\n",
        "!pip install neuralcoref\n",
        "!python -m spacy download en"
      ],
      "execution_count": 3,
      "outputs": [
        {
          "output_type": "stream",
          "text": [
            "Collecting spacy==2.1.0\n",
            "\u001b[?25l  Downloading https://files.pythonhosted.org/packages/62/39/4bde5da5f18ab0bdd525760c4fe38808b4bb03907a2aea094000d831afe1/spacy-2.1.0-cp36-cp36m-manylinux1_x86_64.whl (27.7MB)\n",
            "\u001b[K     |████████████████████████████████| 27.7MB 35.3MB/s \n",
            "\u001b[?25hRequirement already satisfied: srsly<1.1.0,>=0.0.5 in /usr/local/lib/python3.6/dist-packages (from spacy==2.1.0) (0.2.0)\n",
            "Requirement already satisfied: plac<1.0.0,>=0.9.6 in /usr/local/lib/python3.6/dist-packages (from spacy==2.1.0) (0.9.6)\n",
            "Requirement already satisfied: thinc<7.1.0,>=7.0.2 in /usr/local/lib/python3.6/dist-packages (from spacy==2.1.0) (7.0.8)\n",
            "Requirement already satisfied: cymem<2.1.0,>=2.0.2 in /usr/local/lib/python3.6/dist-packages (from spacy==2.1.0) (2.0.2)\n",
            "Requirement already satisfied: requests<3.0.0,>=2.13.0 in /usr/local/lib/python3.6/dist-packages (from spacy==2.1.0) (2.21.0)\n",
            "Requirement already satisfied: jsonschema<3.0.0,>=2.6.0 in /usr/local/lib/python3.6/dist-packages (from spacy==2.1.0) (2.6.0)\n",
            "Requirement already satisfied: wasabi<1.1.0,>=0.0.12 in /usr/local/lib/python3.6/dist-packages (from spacy==2.1.0) (0.3.0)\n",
            "Requirement already satisfied: murmurhash<1.1.0,>=0.28.0 in /usr/local/lib/python3.6/dist-packages (from spacy==2.1.0) (1.0.2)\n",
            "Requirement already satisfied: preshed<2.1.0,>=2.0.1 in /usr/local/lib/python3.6/dist-packages (from spacy==2.1.0) (2.0.1)\n",
            "Requirement already satisfied: blis<0.3.0,>=0.2.2 in /usr/local/lib/python3.6/dist-packages (from spacy==2.1.0) (0.2.4)\n",
            "Requirement already satisfied: numpy>=1.15.0 in /usr/local/lib/python3.6/dist-packages (from spacy==2.1.0) (1.17.3)\n",
            "Requirement already satisfied: tqdm<5.0.0,>=4.10.0 in /usr/local/lib/python3.6/dist-packages (from thinc<7.1.0,>=7.0.2->spacy==2.1.0) (4.28.1)\n",
            "Requirement already satisfied: idna<2.9,>=2.5 in /usr/local/lib/python3.6/dist-packages (from requests<3.0.0,>=2.13.0->spacy==2.1.0) (2.8)\n",
            "Requirement already satisfied: chardet<3.1.0,>=3.0.2 in /usr/local/lib/python3.6/dist-packages (from requests<3.0.0,>=2.13.0->spacy==2.1.0) (3.0.4)\n",
            "Requirement already satisfied: urllib3<1.25,>=1.21.1 in /usr/local/lib/python3.6/dist-packages (from requests<3.0.0,>=2.13.0->spacy==2.1.0) (1.24.3)\n",
            "Requirement already satisfied: certifi>=2017.4.17 in /usr/local/lib/python3.6/dist-packages (from requests<3.0.0,>=2.13.0->spacy==2.1.0) (2019.9.11)\n",
            "Installing collected packages: spacy\n",
            "  Found existing installation: spacy 2.1.9\n",
            "    Uninstalling spacy-2.1.9:\n",
            "      Successfully uninstalled spacy-2.1.9\n",
            "Successfully installed spacy-2.1.0\n",
            "Collecting neuralcoref\n",
            "\u001b[?25l  Downloading https://files.pythonhosted.org/packages/ea/24/0ec7845a5b73b637aa691ff4d1b9b48f3a0f3369f4002a59ffd7a7462fdb/neuralcoref-4.0-cp36-cp36m-manylinux1_x86_64.whl (287kB)\n",
            "\u001b[K     |████████████████████████████████| 296kB 3.5MB/s \n",
            "\u001b[?25hRequirement already satisfied: requests<3.0.0,>=2.13.0 in /usr/local/lib/python3.6/dist-packages (from neuralcoref) (2.21.0)\n",
            "Requirement already satisfied: boto3 in /usr/local/lib/python3.6/dist-packages (from neuralcoref) (1.10.7)\n",
            "Requirement already satisfied: numpy>=1.15.0 in /usr/local/lib/python3.6/dist-packages (from neuralcoref) (1.17.3)\n",
            "Requirement already satisfied: spacy>=2.1.0 in /usr/local/lib/python3.6/dist-packages (from neuralcoref) (2.1.0)\n",
            "Requirement already satisfied: urllib3<1.25,>=1.21.1 in /usr/local/lib/python3.6/dist-packages (from requests<3.0.0,>=2.13.0->neuralcoref) (1.24.3)\n",
            "Requirement already satisfied: idna<2.9,>=2.5 in /usr/local/lib/python3.6/dist-packages (from requests<3.0.0,>=2.13.0->neuralcoref) (2.8)\n",
            "Requirement already satisfied: certifi>=2017.4.17 in /usr/local/lib/python3.6/dist-packages (from requests<3.0.0,>=2.13.0->neuralcoref) (2019.9.11)\n",
            "Requirement already satisfied: chardet<3.1.0,>=3.0.2 in /usr/local/lib/python3.6/dist-packages (from requests<3.0.0,>=2.13.0->neuralcoref) (3.0.4)\n",
            "Requirement already satisfied: s3transfer<0.3.0,>=0.2.0 in /usr/local/lib/python3.6/dist-packages (from boto3->neuralcoref) (0.2.1)\n",
            "Requirement already satisfied: jmespath<1.0.0,>=0.7.1 in /usr/local/lib/python3.6/dist-packages (from boto3->neuralcoref) (0.9.4)\n",
            "Requirement already satisfied: botocore<1.14.0,>=1.13.7 in /usr/local/lib/python3.6/dist-packages (from boto3->neuralcoref) (1.13.7)\n",
            "Requirement already satisfied: thinc<7.1.0,>=7.0.2 in /usr/local/lib/python3.6/dist-packages (from spacy>=2.1.0->neuralcoref) (7.0.8)\n",
            "Requirement already satisfied: preshed<2.1.0,>=2.0.1 in /usr/local/lib/python3.6/dist-packages (from spacy>=2.1.0->neuralcoref) (2.0.1)\n",
            "Requirement already satisfied: murmurhash<1.1.0,>=0.28.0 in /usr/local/lib/python3.6/dist-packages (from spacy>=2.1.0->neuralcoref) (1.0.2)\n",
            "Requirement already satisfied: jsonschema<3.0.0,>=2.6.0 in /usr/local/lib/python3.6/dist-packages (from spacy>=2.1.0->neuralcoref) (2.6.0)\n",
            "Requirement already satisfied: srsly<1.1.0,>=0.0.5 in /usr/local/lib/python3.6/dist-packages (from spacy>=2.1.0->neuralcoref) (0.2.0)\n",
            "Requirement already satisfied: cymem<2.1.0,>=2.0.2 in /usr/local/lib/python3.6/dist-packages (from spacy>=2.1.0->neuralcoref) (2.0.2)\n",
            "Requirement already satisfied: blis<0.3.0,>=0.2.2 in /usr/local/lib/python3.6/dist-packages (from spacy>=2.1.0->neuralcoref) (0.2.4)\n",
            "Requirement already satisfied: plac<1.0.0,>=0.9.6 in /usr/local/lib/python3.6/dist-packages (from spacy>=2.1.0->neuralcoref) (0.9.6)\n",
            "Requirement already satisfied: wasabi<1.1.0,>=0.0.12 in /usr/local/lib/python3.6/dist-packages (from spacy>=2.1.0->neuralcoref) (0.3.0)\n",
            "Requirement already satisfied: docutils<0.16,>=0.10 in /usr/local/lib/python3.6/dist-packages (from botocore<1.14.0,>=1.13.7->boto3->neuralcoref) (0.15.2)\n",
            "Requirement already satisfied: python-dateutil<3.0.0,>=2.1; python_version >= \"2.7\" in /usr/local/lib/python3.6/dist-packages (from botocore<1.14.0,>=1.13.7->boto3->neuralcoref) (2.6.1)\n",
            "Requirement already satisfied: tqdm<5.0.0,>=4.10.0 in /usr/local/lib/python3.6/dist-packages (from thinc<7.1.0,>=7.0.2->spacy>=2.1.0->neuralcoref) (4.28.1)\n",
            "Requirement already satisfied: six>=1.5 in /usr/local/lib/python3.6/dist-packages (from python-dateutil<3.0.0,>=2.1; python_version >= \"2.7\"->botocore<1.14.0,>=1.13.7->boto3->neuralcoref) (1.12.0)\n",
            "Installing collected packages: neuralcoref\n",
            "Successfully installed neuralcoref-4.0\n",
            "Requirement already satisfied: en_core_web_sm==2.1.0 from https://github.com/explosion/spacy-models/releases/download/en_core_web_sm-2.1.0/en_core_web_sm-2.1.0.tar.gz#egg=en_core_web_sm==2.1.0 in /usr/local/lib/python3.6/dist-packages (2.1.0)\n",
            "\u001b[38;5;2m✔ Download and installation successful\u001b[0m\n",
            "You can now load the model via spacy.load('en_core_web_sm')\n",
            "\u001b[38;5;2m✔ Linking successful\u001b[0m\n",
            "/usr/local/lib/python3.6/dist-packages/en_core_web_sm -->\n",
            "/usr/local/lib/python3.6/dist-packages/spacy/data/en\n",
            "You can now load the model via spacy.load('en')\n"
          ],
          "name": "stdout"
        }
      ]
    },
    {
      "cell_type": "markdown",
      "metadata": {
        "id": "Oljq0vPSfJnL",
        "colab_type": "text"
      },
      "source": [
        "# Creating custom entity detection"
      ]
    },
    {
      "cell_type": "markdown",
      "metadata": {
        "id": "QvoJsdVGDSod",
        "colab_type": "text"
      },
      "source": [
        "**Loading in the file with prelabeled entities. Splitting into train and test**"
      ]
    },
    {
      "cell_type": "code",
      "metadata": {
        "id": "eksFpMWYH2Zk",
        "colab_type": "code",
        "colab": {}
      },
      "source": [
        "import spacy\n",
        "import neuralcoref\n",
        "import random"
      ],
      "execution_count": 0,
      "outputs": []
    },
    {
      "cell_type": "code",
      "metadata": {
        "id": "BCGpLHQFfJnM",
        "colab_type": "code",
        "colab": {}
      },
      "source": [
        "import json\n",
        "import random\n",
        "\n",
        "#Converting JSON1 files to Spacy tuples format\n",
        "def convert_doccano_to_spacy(filepath):\n",
        "    with open(filepath, 'rb') as fp:\n",
        "        data = fp.readlines()\n",
        "\n",
        "    training_data = []\n",
        "    for record in data:\n",
        "        entities = []\n",
        "        read_record = json.loads(record)\n",
        "        text = read_record['text']\n",
        "        entities_record = read_record['labels']\n",
        "\n",
        "        for start, end, label in entities_record:\n",
        "            entities.append((start, end, label))\n",
        "\n",
        "        training_data.append((text, {\"entities\": entities}))\n",
        "    return training_data"
      ],
      "execution_count": 0,
      "outputs": []
    },
    {
      "cell_type": "code",
      "metadata": {
        "id": "YPacUDbnfJnS",
        "colab_type": "code",
        "colab": {}
      },
      "source": [
        "filepath = 'corefs_positive_second_batch.json1'\n",
        "entities = convert_doccano_to_spacy(filepath)"
      ],
      "execution_count": 0,
      "outputs": []
    },
    {
      "cell_type": "code",
      "metadata": {
        "id": "bXvKe3TNGikL",
        "colab_type": "code",
        "colab": {}
      },
      "source": [
        "#We remove all those articles that haven't been annotated from the training set and put them in the test set\n",
        "test = []\n",
        "train = []\n",
        "for i in range(175):\n",
        "  if (entities[i][1] == {'entities': []}):\n",
        "    test.append(entities[i])\n",
        "  else:\n",
        "    train.append(entities[i]) \n",
        "\n",
        "#Next we add some more news articles from the training set into the test set\n",
        "r = random.randint(0,100)\n",
        "for i in range(r,r+20):\n",
        "  test.append(train[i])\n",
        "  train.remove(train[i])"
      ],
      "execution_count": 0,
      "outputs": []
    },
    {
      "cell_type": "code",
      "metadata": {
        "id": "phoaM4zOfJnZ",
        "colab_type": "code",
        "colab": {}
      },
      "source": [
        "#Restricting our news article to the first four paragraphs. \n",
        "def chop_news(article):\n",
        "    paragraphs = article.splitlines()[:4]\n",
        "    new_text = ' '.join(paragraphs)\n",
        "    return new_text"
      ],
      "execution_count": 0,
      "outputs": []
    },
    {
      "cell_type": "markdown",
      "metadata": {
        "id": "lWmtNcYUZRoE",
        "colab_type": "text"
      },
      "source": [
        "# Training the Model"
      ]
    },
    {
      "cell_type": "code",
      "metadata": {
        "id": "TGDM1dN8fJng",
        "colab_type": "code",
        "outputId": "5128efa8-a0ac-4582-8a95-f2987c79faa7",
        "colab": {
          "base_uri": "https://localhost:8080/",
          "height": 737
        }
      },
      "source": [
        "#Train a blank english model with our custom entities\n",
        "\n",
        "\n",
        "\n",
        "TRAIN_DATA = train\n",
        "\n",
        "\n",
        "def train_spacy(data,iterations):\n",
        "    TRAIN_DATA = data\n",
        "    nlp = spacy.blank('en')  # create blank Language class\n",
        "    # create the built-in pipeline components and add them to the pipeline\n",
        "    # nlp.create_pipe works for built-ins that are registered with spaCy\n",
        "    if 'ner' not in nlp.pipe_names:\n",
        "        ner = nlp.create_pipe('ner')\n",
        "        nlp.add_pipe(ner, last=True)\n",
        "\n",
        "    #nlp.add_pipe(nlp.create_pipe('sentencizer'))  #Adding sentencizer as a prerequisite to coref\n",
        "    #neuralcoref.add_to_pipe(nlp)  #Adding corefering in the pipeline\n",
        "    \n",
        "       \n",
        "\n",
        "    # add labels\n",
        "    for _, annotations in TRAIN_DATA:\n",
        "         for ent in annotations.get('entities'):\n",
        "            ner.add_label(ent[2])\n",
        "\n",
        "    # get names of other pipes to disable them during training\n",
        "    other_pipes = [pipe for pipe in nlp.pipe_names if pipe != 'ner']\n",
        "    with nlp.disable_pipes(*other_pipes):  # only train NER\n",
        "        optimizer = nlp.begin_training()\n",
        "        for itn in range(iterations):\n",
        "            print(\"Starting iteration \" + str(itn))\n",
        "            random.shuffle(TRAIN_DATA)\n",
        "            losses = {}\n",
        "            for text, annotations in TRAIN_DATA:\n",
        "                nlp.update(\n",
        "                    [text],  # batch of texts\n",
        "                    [annotations],  # batch of annotations\n",
        "                    drop=0.2,  # dropout - make it harder to memorise data\n",
        "                    sgd=optimizer,  # callable to update weights\n",
        "                    losses=losses)\n",
        "            print(losses)\n",
        "    return nlp\n",
        "\n",
        "\n",
        "prdnlp = train_spacy(TRAIN_DATA, 20)\n",
        "\n",
        "# Save our trained Model\n",
        "prdnlp.to_disk('Custom_NER_Model')\n",
        "\n"
      ],
      "execution_count": 15,
      "outputs": [
        {
          "output_type": "stream",
          "text": [
            "Starting iteration 0\n",
            "{'ner': 4300.613664205904}\n",
            "Starting iteration 1\n",
            "{'ner': 3483.715545647988}\n",
            "Starting iteration 2\n",
            "{'ner': 3066.367930047882}\n",
            "Starting iteration 3\n",
            "{'ner': 3882.2002377825092}\n",
            "Starting iteration 4\n",
            "{'ner': 4672.098084733583}\n",
            "Starting iteration 5\n",
            "{'ner': 4819.599845553583}\n",
            "Starting iteration 6\n",
            "{'ner': 3704.3698849200946}\n",
            "Starting iteration 7\n",
            "{'ner': 2981.0876494284676}\n",
            "Starting iteration 8\n",
            "{'ner': 4162.778086116408}\n",
            "Starting iteration 9\n",
            "{'ner': 3119.645714613333}\n",
            "Starting iteration 10\n",
            "{'ner': 3552.4204837157126}\n",
            "Starting iteration 11\n",
            "{'ner': 2653.7612100054075}\n",
            "Starting iteration 12\n",
            "{'ner': 3394.2580743349126}\n",
            "Starting iteration 13\n",
            "{'ner': 2766.137148753057}\n",
            "Starting iteration 14\n",
            "{'ner': 2470.7055071779896}\n",
            "Starting iteration 15\n",
            "{'ner': 2483.5799831507843}\n",
            "Starting iteration 16\n",
            "{'ner': 2562.952989585662}\n",
            "Starting iteration 17\n",
            "{'ner': 2216.72741923759}\n",
            "Starting iteration 18\n",
            "{'ner': 2625.7084167746348}\n",
            "Starting iteration 19\n",
            "{'ner': 3033.1273689122977}\n"
          ],
          "name": "stdout"
        }
      ]
    },
    {
      "cell_type": "markdown",
      "metadata": {
        "id": "WIX_ZW1VTn4H",
        "colab_type": "text"
      },
      "source": [
        "# Testing and diplaying"
      ]
    },
    {
      "cell_type": "code",
      "metadata": {
        "id": "mgLJt-hJAX29",
        "colab_type": "code",
        "colab": {}
      },
      "source": [
        "NER_MODEL = spacy.load('Custom_NER_Model')"
      ],
      "execution_count": 0,
      "outputs": []
    },
    {
      "cell_type": "code",
      "metadata": {
        "id": "_5G3wFbGEMON",
        "colab_type": "code",
        "colab": {}
      },
      "source": [
        "def coref(text):\n",
        "  nlp = spacy.load('en')\n",
        "  neuralcoref.add_to_pipe(nlp)\n",
        "  text = nlp(text)\n",
        "  return str(text) "
      ],
      "execution_count": 0,
      "outputs": []
    },
    {
      "cell_type": "code",
      "metadata": {
        "id": "GvDewnMGF-Kq",
        "colab_type": "code",
        "colab": {}
      },
      "source": [
        "# Print the entities\n",
        "import pandas as pd\n",
        "\n",
        "def get_entities_list(text,doc):\n",
        "  actor = []\n",
        "  number = []\n",
        "  action = []\n",
        "  for ents in doc.ents:\n",
        "    if ents.label_ == 'actor':\n",
        "      actor.append(ents.text)\n",
        "    elif ents.label_ == 'number':\n",
        "      number.append(ents.text)\n",
        "    else:\n",
        "      action.append(ents.text) \n",
        "  entities = [actor, action, number]\n",
        "  #removing duplicates\n",
        "  actor = set(actor)\n",
        "  #print('actor',actor)\n",
        "  len_table = max(len(actor), len(action), len(number))\n",
        "  for e in entities:\n",
        "    e += [''] * (len_table - len(e))\n",
        "  #print('Actor', actor)\n",
        "  #print('Action', len(action))\n",
        "  #print('Number', number)   \n",
        "   \n",
        "  entities = ['Actor', 'Number', 'Action'] \n",
        "  data = [entities] + list(zip(actor, number, action))   \n",
        "  for i, d in enumerate(data):\n",
        "    line = '|'.join(str(x).ljust(50) for x in d)  #pretty printing\n",
        "    print(line)\n",
        "    if i == 0:\n",
        "        print('-' * len(line))\n",
        "  return None\n",
        "\n",
        "#get_entities_list('asdfsdf',doc)  "
      ],
      "execution_count": 0,
      "outputs": []
    },
    {
      "cell_type": "code",
      "metadata": {
        "id": "F-nc7an7fJno",
        "colab_type": "code",
        "outputId": "8f468be7-f78e-4f87-9231-5add22ee8caa",
        "colab": {
          "base_uri": "https://localhost:8080/",
          "height": 1000
        }
      },
      "source": [
        "#Test your text\n",
        "from spacy import displacy\n",
        "#test_text = 'Bharatiya Janata Party President Amit Shah on Sunday launched an attack on the Communist Party of India (Marxist) (CPI-M) in Tripura for spreading violence, saying that the former cannot stop them from rising in the Left-ruled state.\\nAhead of the Assembly elections in Tripura, the BJP Chief, while addressing a public rally here, said, \"I would like to tell the Manik government that the BJP will not cower down by violence. The more you spread the mud of violence, the better will be the Lotus blossom\".\\nHe added that more than seven lakh people, out of the 37 lakh population of Tripura, are registered in the unemployment list.\\n\"The health facilities here are inadequate. This is what was done here in the past 25 years by the ruling state government. But not the countdown has begun. The BJP will form the government here in March. Even if the corrupt goes underground, our party will dig the earth and bring them out,\" Shah asserted.\\nHe further said that the Tripura government is not taking any action against the culprits of chit fund because the entire Cabinet of Manik government will be behind the bars.\\nThe Assembly elections in the states will be held in March.\\nBoth Nagaland and Tripura have been two of the few states where the BJP has not formed a government.\\nIn the current Nagaland assembly, the Naga People\\'s Front (NPF) hold the majority.\\nMeanwhile, in Tripura Assembly, the Communist Party of India (Marxist) has been enjoying majority, while Chief Minister Manik Sarkar has been at the helm since 1998.'\n",
        "#test_text = 'Turkey has captured the elder sister of the slain leader of the Islamic State group in north-western Syria, according to a senior Turkish official, who called the arrest an intelligence \"gold mine\". \\n Little is known about the sister of Abu Bakr al-Baghdadi. The Turkish official said the 65-year-old known as Rasmiya Awad is suspected of being affiliated with the extremist group. He did not elaborate. \\n Awad was captured in a raid Monday evening (local time) on a trailer container she was living in with her family near the town of Azaz in Aleppo province. \\n The area is part of the region administered by Turkey after it carried out a military incursion to chase away IS militants and Kurdish fighters starting 2016. Allied Syrian groups manage the area known as the Euphrates Shield zone. \\n The official said the sister was with her husband, daughter-in-law and five children. The adults are being interrogated, he said, speaking on condition of anonymity in line with government protocol.\\n \"This kind of thing is an intelligence gold mine. What she knows about (IS) can significantly expand our understanding of the group and help us catch more bad guys,\" the official said. \\n Al-Baghdadi, an Iraqi from Samarra, was killed in a US raid in the nearby province of Idlib last month. The raid was a major blow to the group, which has lost territories it held in Syria and Iraq in a series of military defeats by the US-led coalition and Syrian and Iraqi allies.'\n",
        "for i in range(0,19):\n",
        "  test_text = chop_news(test[i][0])\n",
        "  test_text = coref(test_text)\n",
        "  doc = prdnlp(test_text)\n",
        "  get_entities_list(test_text,doc)\n",
        "  #for ent in doc.ents:\n",
        "  #  print(ent.text, ent.start_char, ent.end_char, ent.label_)\n",
        "  options = {\"ents\": [\"ACTOR\", \"ACTION\", \"NUMBER\"],\n",
        "           \"colors\": {\"ACTOR\": \"red\", \"ACTION\":\"blue\", \"NUMBER\":\"green\"}}\n",
        "  displacy.render(doc, style=\"ent\", options = options, jupyter = True )             "
      ],
      "execution_count": 46,
      "outputs": [
        {
          "output_type": "stream",
          "text": [
            "Actor                                             |Number                                            |Action                                            \n",
            "--------------------------------------------------------------------------------------------------------------------------------------------------------\n",
            "have                                              |                                                  |                                                  \n",
            "financial industry                                |                                                  |                                                  \n",
            "finance industry                                  |                                                  |                                                  \n"
          ],
          "name": "stdout"
        },
        {
          "output_type": "display_data",
          "data": {
            "text/html": [
              "<div class=\"entities\" style=\"line-height: 2.5; direction: ltr\">The rise of cryptocurrencies like Bitcoin and Ethereum has taken the \n",
              "<mark class=\"entity\" style=\"background: red; padding: 0.45em 0.6em; margin: 0 0.25em; line-height: 1; border-radius: 0.35em; box-decoration-break: clone; -webkit-box-decoration-break: clone\">\n",
              "    financial industry\n",
              "    <span style=\"font-size: 0.8em; font-weight: bold; line-height: 1; border-radius: 0.35em; text-transform: uppercase; vertical-align: middle; margin-left: 0.5rem\">actor</span>\n",
              "</mark>\n",
              " by storm. However, irrespective of what the future holds for bitcoin and its peers. The underlying technology blockchain will most certainly survive and is bound to make inroads in every sector. Even though the blockchain revolution started from banking and \n",
              "<mark class=\"entity\" style=\"background: red; padding: 0.45em 0.6em; margin: 0 0.25em; line-height: 1; border-radius: 0.35em; box-decoration-break: clone; -webkit-box-decoration-break: clone\">\n",
              "    finance industry\n",
              "    <span style=\"font-size: 0.8em; font-weight: bold; line-height: 1; border-radius: 0.35em; text-transform: uppercase; vertical-align: middle; margin-left: 0.5rem\">actor</span>\n",
              "</mark>\n",
              ", other industries like healthcare, energy, retail, governance, supply chain and agriculture are going to be disrupted by blockchain application. What is blockchain and why is it unique? The underlying technology blockchain is a distributed ledger technology that allows all members to record transactions in a decentralised data log maintained on a network of computers, rather than a physical ledger or a single database. Transactions must be approved through consensus, and everything is secured through cryptography. In simpler terms think of blockchain as google sheets versus excel sheet sent through emails. In google sheets, all members \n",
              "<mark class=\"entity\" style=\"background: red; padding: 0.45em 0.6em; margin: 0 0.25em; line-height: 1; border-radius: 0.35em; box-decoration-break: clone; -webkit-box-decoration-break: clone\">\n",
              "    have\n",
              "    <span style=\"font-size: 0.8em; font-weight: bold; line-height: 1; border-radius: 0.35em; text-transform: uppercase; vertical-align: middle; margin-left: 0.5rem\">actor</span>\n",
              "</mark>\n",
              " live access to Data and can independently record/track the updates of every entry being made. Add another layer on top of this, where entry once made is recorded permanently and cannot be edited or erased by any member.</div>"
            ],
            "text/plain": [
              "<IPython.core.display.HTML object>"
            ]
          },
          "metadata": {
            "tags": []
          }
        },
        {
          "output_type": "stream",
          "text": [
            "Actor                                             |Number                                            |Action                                            \n",
            "--------------------------------------------------------------------------------------------------------------------------------------------------------\n"
          ],
          "name": "stdout"
        },
        {
          "output_type": "stream",
          "text": [
            "/usr/lib/python3.6/runpy.py:193: UserWarning: [W006] No entities to visualize found in Doc object. If this is surprising to you, make sure the Doc was processed using a model that supports named entity recognition, and check the `doc.ents` property manually if necessary.\n",
            "  \"__main__\", mod_spec)\n"
          ],
          "name": "stderr"
        },
        {
          "output_type": "display_data",
          "data": {
            "text/html": [
              "<div class=\"entities\" style=\"line-height: 2.5; direction: ltr\">[these: [these, they], we: [we, We], Local Bodies Minister Navjot Singh Sidhu: [Local Bodies Minister Navjot Singh Sidhu, Sidhu, he], regularisation: [regularisation, it], the issue of taking action: [the issue of taking action, The issue], farmers: [farmers, the farmers], We: [We, Our, We], the exercise: [the exercise, it], the Punjab Urban Development Authority (PUDA): [the Punjab Urban Development Authority (PUDA), its], January 31: [January 31, January 31]]</div>"
            ],
            "text/plain": [
              "<IPython.core.display.HTML object>"
            ]
          },
          "metadata": {
            "tags": []
          }
        },
        {
          "output_type": "stream",
          "text": [
            "Actor                                             |Number                                            |Action                                            \n",
            "--------------------------------------------------------------------------------------------------------------------------------------------------------\n",
            "Prime Minister                                    |                                                  |                                                  \n",
            "Narendra Modi                                     |                                                  |                                                  \n",
            "Both leaders                                      |                                                  |                                                  \n",
            "latest technology                                 |                                                  |                                                  \n"
          ],
          "name": "stdout"
        },
        {
          "output_type": "display_data",
          "data": {
            "text/html": [
              "<div class=\"entities\" style=\"line-height: 2.5; direction: ltr\">[The friendship between \n",
              "<mark class=\"entity\" style=\"background: red; padding: 0.45em 0.6em; margin: 0 0.25em; line-height: 1; border-radius: 0.35em; box-decoration-break: clone; -webkit-box-decoration-break: clone\">\n",
              "    Prime Minister\n",
              "    <span style=\"font-size: 0.8em; font-weight: bold; line-height: 1; border-radius: 0.35em; text-transform: uppercase; vertical-align: middle; margin-left: 0.5rem\">actor</span>\n",
              "</mark>\n",
              " Narendra Modi and his Israeli counterpart Benjamin Netanyahu: [The friendship between \n",
              "<mark class=\"entity\" style=\"background: red; padding: 0.45em 0.6em; margin: 0 0.25em; line-height: 1; border-radius: 0.35em; box-decoration-break: clone; -webkit-box-decoration-break: clone\">\n",
              "    Prime Minister\n",
              "    <span style=\"font-size: 0.8em; font-weight: bold; line-height: 1; border-radius: 0.35em; text-transform: uppercase; vertical-align: middle; margin-left: 0.5rem\">actor</span>\n",
              "</mark>\n",
              " Narendra Modi and his Israeli counterpart Benjamin Netanyahu, they], \n",
              "<mark class=\"entity\" style=\"background: red; padding: 0.45em 0.6em; margin: 0 0.25em; line-height: 1; border-radius: 0.35em; box-decoration-break: clone; -webkit-box-decoration-break: clone\">\n",
              "    Narendra Modi\n",
              "    <span style=\"font-size: 0.8em; font-weight: bold; line-height: 1; border-radius: 0.35em; text-transform: uppercase; vertical-align: middle; margin-left: 0.5rem\">actor</span>\n",
              "</mark>\n",
              ": [Narendra Modi, his], \n",
              "<mark class=\"entity\" style=\"background: red; padding: 0.45em 0.6em; margin: 0 0.25em; line-height: 1; border-radius: 0.35em; box-decoration-break: clone; -webkit-box-decoration-break: clone\">\n",
              "    Both leaders\n",
              "    <span style=\"font-size: 0.8em; font-weight: bold; line-height: 1; border-radius: 0.35em; text-transform: uppercase; vertical-align: middle; margin-left: 0.5rem\">actor</span>\n",
              "</mark>\n",
              ": [Both leaders, Both leaders], Netanyahu: [Netanyahu, his, his, Netanyahu, Netanyahu, Netanyahu, He, Netanyahu], a land which was a desert: [a land which was a desert, the land], We: [We, We, We, our, We], crop survival: [crop survival, it], they: [they, we], Mashav: [Mashav, its, Mashav, Mashav], India: [India, itself, India, India], \n",
              "<mark class=\"entity\" style=\"background: red; padding: 0.45em 0.6em; margin: 0 0.25em; line-height: 1; border-radius: 0.35em; box-decoration-break: clone; -webkit-box-decoration-break: clone\">\n",
              "    Narendra Modi\n",
              "    <span style=\"font-size: 0.8em; font-weight: bold; line-height: 1; border-radius: 0.35em; text-transform: uppercase; vertical-align: middle; margin-left: 0.5rem\">actor</span>\n",
              "</mark>\n",
              ": [Narendra Modi, Modi, Modi, He, Modi, He, Modi], Israel: [Israel, its, Israel, Israel itself, Israel], \n",
              "<mark class=\"entity\" style=\"background: red; padding: 0.45em 0.6em; margin: 0 0.25em; line-height: 1; border-radius: 0.35em; box-decoration-break: clone; -webkit-box-decoration-break: clone\">\n",
              "    latest technology\n",
              "    <span style=\"font-size: 0.8em; font-weight: bold; line-height: 1; border-radius: 0.35em; text-transform: uppercase; vertical-align: middle; margin-left: 0.5rem\">actor</span>\n",
              "</mark>\n",
              ": [latest technology, it], India: [India, India], we: [we, Our], Our Kutchi Patels: [Our Kutchi Patels, They]]</div>"
            ],
            "text/plain": [
              "<IPython.core.display.HTML object>"
            ]
          },
          "metadata": {
            "tags": []
          }
        },
        {
          "output_type": "stream",
          "text": [
            "Actor                                             |Number                                            |Action                                            \n",
            "--------------------------------------------------------------------------------------------------------------------------------------------------------\n",
            "Odisha government                                 |                                                  |                                                  \n"
          ],
          "name": "stdout"
        },
        {
          "output_type": "display_data",
          "data": {
            "text/html": [
              "<div class=\"entities\" style=\"line-height: 2.5; direction: ltr\">[Mahanadi water dispute between Odisha and Chhattisgarh: [Mahanadi water dispute between Odisha and Chhattisgarh, the dispute], Union water resources minister Nitin Gadkari: [Union water resources minister Nitin Gadkari, Gadkari], \n",
              "<mark class=\"entity\" style=\"background: red; padding: 0.45em 0.6em; margin: 0 0.25em; line-height: 1; border-radius: 0.35em; box-decoration-break: clone; -webkit-box-decoration-break: clone\">\n",
              "    Odisha government\n",
              "    <span style=\"font-size: 0.8em; font-weight: bold; line-height: 1; border-radius: 0.35em; text-transform: uppercase; vertical-align: middle; margin-left: 0.5rem\">actor</span>\n",
              "</mark>\n",
              ": [Odisha government, the \n",
              "<mark class=\"entity\" style=\"background: red; padding: 0.45em 0.6em; margin: 0 0.25em; line-height: 1; border-radius: 0.35em; box-decoration-break: clone; -webkit-box-decoration-break: clone\">\n",
              "    Odisha government\n",
              "    <span style=\"font-size: 0.8em; font-weight: bold; line-height: 1; border-radius: 0.35em; text-transform: uppercase; vertical-align: middle; margin-left: 0.5rem\">actor</span>\n",
              "</mark>\n",
              "]]</div>"
            ],
            "text/plain": [
              "<IPython.core.display.HTML object>"
            ]
          },
          "metadata": {
            "tags": []
          }
        },
        {
          "output_type": "stream",
          "text": [
            "Actor                                             |Number                                            |Action                                            \n",
            "--------------------------------------------------------------------------------------------------------------------------------------------------------\n",
            "the state government                              |                                                  |                                                  \n",
            "the water                                         |                                                  |                                                  \n",
            "Opposition BJP: [Opposition BJP, BJP], the bandh  |                                                  |                                                  \n",
            "[actor                                            |                                                  |                                                  \n"
          ],
          "name": "stdout"
        },
        {
          "output_type": "display_data",
          "data": {
            "text/html": [
              "<div class=\"entities\" style=\"line-height: 2.5; direction: ltr\">\n",
              "<mark class=\"entity\" style=\"background: red; padding: 0.45em 0.6em; margin: 0 0.25em; line-height: 1; border-radius: 0.35em; box-decoration-break: clone; -webkit-box-decoration-break: clone\">\n",
              "    [actor\n",
              "    <span style=\"font-size: 0.8em; font-weight: bold; line-height: 1; border-radius: 0.35em; text-transform: uppercase; vertical-align: middle; margin-left: 0.5rem\">actor</span>\n",
              "</mark>\n",
              " Prakash Raj: \n",
              "<mark class=\"entity\" style=\"background: red; padding: 0.45em 0.6em; margin: 0 0.25em; line-height: 1; border-radius: 0.35em; box-decoration-break: clone; -webkit-box-decoration-break: clone\">\n",
              "    [actor\n",
              "    <span style=\"font-size: 0.8em; font-weight: bold; line-height: 1; border-radius: 0.35em; text-transform: uppercase; vertical-align: middle; margin-left: 0.5rem\">actor</span>\n",
              "</mark>\n",
              " Prakash Raj, Raj], a political party: [a political party, it, our party, we, We, our, us], \n",
              "<mark class=\"entity\" style=\"background: red; padding: 0.45em 0.6em; margin: 0 0.25em; line-height: 1; border-radius: 0.35em; box-decoration-break: clone; -webkit-box-decoration-break: clone\">\n",
              "    the water\n",
              "    <span style=\"font-size: 0.8em; font-weight: bold; line-height: 1; border-radius: 0.35em; text-transform: uppercase; vertical-align: middle; margin-left: 0.5rem\">actor</span>\n",
              "</mark>\n",
              ": [the water, the water], \n",
              "<mark class=\"entity\" style=\"background: red; padding: 0.45em 0.6em; margin: 0 0.25em; line-height: 1; border-radius: 0.35em; box-decoration-break: clone; -webkit-box-decoration-break: clone\">\n",
              "    Opposition BJP: [Opposition BJP, BJP], the bandh\n",
              "    <span style=\"font-size: 0.8em; font-weight: bold; line-height: 1; border-radius: 0.35em; text-transform: uppercase; vertical-align: middle; margin-left: 0.5rem\">actor</span>\n",
              "</mark>\n",
              ": [the bandh, it], Karnataka: [Karnataka, Karnataka, Karnataka, Karnataka, Karnataka, neighbouring Karnataka, Karnataka, its], Goa: [Goa, Goa, Goa, Goa, it, its], the Mahadayi Water Dispute Tribunal: [the Mahadayi Water Dispute Tribunal, the tribunal, The tribunal], \n",
              "<mark class=\"entity\" style=\"background: red; padding: 0.45em 0.6em; margin: 0 0.25em; line-height: 1; border-radius: 0.35em; box-decoration-break: clone; -webkit-box-decoration-break: clone\">\n",
              "    the state government\n",
              "    <span style=\"font-size: 0.8em; font-weight: bold; line-height: 1; border-radius: 0.35em; text-transform: uppercase; vertical-align: middle; margin-left: 0.5rem\">actor</span>\n",
              "</mark>\n",
              ": [the state government, The Goa government], the work on the construction of the canal, which was aimed at diverting water from the Mahadayi tributary: [the work on the construction of the canal, which was aimed at diverting water from the Mahadayi tributary, the work]]</div>"
            ],
            "text/plain": [
              "<IPython.core.display.HTML object>"
            ]
          },
          "metadata": {
            "tags": []
          }
        },
        {
          "output_type": "stream",
          "text": [
            "Actor                                             |Number                                            |Action                                            \n",
            "--------------------------------------------------------------------------------------------------------------------------------------------------------\n",
            "the government                                    |                                                  |                                                  \n"
          ],
          "name": "stdout"
        },
        {
          "output_type": "display_data",
          "data": {
            "text/html": [
              "<div class=\"entities\" style=\"line-height: 2.5; direction: ltr\">[The son of the 84-year-old farmer from Dhule who consumed poison in Mantralaya last week and died on Sunday: [The son of the 84-year-old farmer from Dhule who consumed poison in Mantralaya last week and died on Sunday, his], his body: [his body, his body], JJ: [JJ, JJ], Narendra Patil, son: [Narendra Patil, son, his], \n",
              "<mark class=\"entity\" style=\"background: red; padding: 0.45em 0.6em; margin: 0 0.25em; line-height: 1; border-radius: 0.35em; box-decoration-break: clone; -webkit-box-decoration-break: clone\">\n",
              "    the government\n",
              "    <span style=\"font-size: 0.8em; font-weight: bold; line-height: 1; border-radius: 0.35em; text-transform: uppercase; vertical-align: middle; margin-left: 0.5rem\">actor</span>\n",
              "</mark>\n",
              ": [the government, the government, the government, the government], my father: [my father, his], Dharma Patil: [Dharma Patil, Dharma Patil, Dharma Patil's, he]]</div>"
            ],
            "text/plain": [
              "<IPython.core.display.HTML object>"
            ]
          },
          "metadata": {
            "tags": []
          }
        },
        {
          "output_type": "stream",
          "text": [
            "Actor                                             |Number                                            |Action                                            \n",
            "--------------------------------------------------------------------------------------------------------------------------------------------------------\n",
            "Chief Justice                                     |                                                  |                                                  \n"
          ],
          "name": "stdout"
        },
        {
          "output_type": "display_data",
          "data": {
            "text/html": [
              "<div class=\"entities\" style=\"line-height: 2.5; direction: ltr\">[the Bench: [A Bench of Acting \n",
              "<mark class=\"entity\" style=\"background: red; padding: 0.45em 0.6em; margin: 0 0.25em; line-height: 1; border-radius: 0.35em; box-decoration-break: clone; -webkit-box-decoration-break: clone\">\n",
              "    Chief Justice\n",
              "    <span style=\"font-size: 0.8em; font-weight: bold; line-height: 1; border-radius: 0.35em; text-transform: uppercase; vertical-align: middle; margin-left: 0.5rem\">actor</span>\n",
              "</mark>\n",
              " Gita Mittal and Justice C. Hari Shankar, the Bench, The Bench], the area: [the area, the area], the deplorable conditions of slum dwellers residing near Kushak Nallah: [the deplorable conditions of slum dwellers residing near Kushak Nallah, The conditions], the petition: [the petition, The petition], some of the residents: [some of the residents, their]]</div>"
            ],
            "text/plain": [
              "<IPython.core.display.HTML object>"
            ]
          },
          "metadata": {
            "tags": []
          }
        },
        {
          "output_type": "stream",
          "text": [
            "Actor                                             |Number                                            |Action                                            \n",
            "--------------------------------------------------------------------------------------------------------------------------------------------------------\n",
            "The former minister                               |                                                  |                                                  \n",
            "Demwe Lower Hydroelectric Project                 |                                                  |                                                  \n",
            "The National Green Tribunal                       |                                                  |                                                  \n",
            "The Demwe Lower Hydroelectric Project             |                                                  |                                                  \n"
          ],
          "name": "stdout"
        },
        {
          "output_type": "display_data",
          "data": {
            "text/html": [
              "<div class=\"entities\" style=\"line-height: 2.5; direction: ltr\">[the 1750-MW \n",
              "<mark class=\"entity\" style=\"background: red; padding: 0.45em 0.6em; margin: 0 0.25em; line-height: 1; border-radius: 0.35em; box-decoration-break: clone; -webkit-box-decoration-break: clone\">\n",
              "    Demwe Lower Hydroelectric Project\n",
              "    <span style=\"font-size: 0.8em; font-weight: bold; line-height: 1; border-radius: 0.35em; text-transform: uppercase; vertical-align: middle; margin-left: 0.5rem\">actor</span>\n",
              "</mark>\n",
              " in Lohit district to re-examine the ecological impacts of the hydro power project: [the 1750-MW \n",
              "<mark class=\"entity\" style=\"background: red; padding: 0.45em 0.6em; margin: 0 0.25em; line-height: 1; border-radius: 0.35em; box-decoration-break: clone; -webkit-box-decoration-break: clone\">\n",
              "    Demwe Lower Hydroelectric Project\n",
              "    <span style=\"font-size: 0.8em; font-weight: bold; line-height: 1; border-radius: 0.35em; text-transform: uppercase; vertical-align: middle; margin-left: 0.5rem\">actor</span>\n",
              "</mark>\n",
              " in Lohit district to re-examine the ecological impacts of the hydro power project, the project], Standing Committee: [Standing Committee, The Standing Committee], \n",
              "<mark class=\"entity\" style=\"background: red; padding: 0.45em 0.6em; margin: 0 0.25em; line-height: 1; border-radius: 0.35em; box-decoration-break: clone; -webkit-box-decoration-break: clone\">\n",
              "    The National Green Tribunal\n",
              "    <span style=\"font-size: 0.8em; font-weight: bold; line-height: 1; border-radius: 0.35em; text-transform: uppercase; vertical-align: middle; margin-left: 0.5rem\">actor</span>\n",
              "</mark>\n",
              " (NGT): [The National Green Tribunal (NGT), the Tribunal, The Tribunal, It], \n",
              "<mark class=\"entity\" style=\"background: red; padding: 0.45em 0.6em; margin: 0 0.25em; line-height: 1; border-radius: 0.35em; box-decoration-break: clone; -webkit-box-decoration-break: clone\">\n",
              "    The former minister\n",
              "    <span style=\"font-size: 0.8em; font-weight: bold; line-height: 1; border-radius: 0.35em; text-transform: uppercase; vertical-align: middle; margin-left: 0.5rem\">actor</span>\n",
              "</mark>\n",
              " in 2012: [The former minister in 2012, the minister], the Arunachal Pradesh Government: [the state government, the Arunachal Pradesh Government], \n",
              "<mark class=\"entity\" style=\"background: red; padding: 0.45em 0.6em; margin: 0 0.25em; line-height: 1; border-radius: 0.35em; box-decoration-break: clone; -webkit-box-decoration-break: clone\">\n",
              "    The Demwe Lower Hydroelectric Project\n",
              "    <span style=\"font-size: 0.8em; font-weight: bold; line-height: 1; border-radius: 0.35em; text-transform: uppercase; vertical-align: middle; margin-left: 0.5rem\">actor</span>\n",
              "</mark>\n",
              ": [the hydel project, The \n",
              "<mark class=\"entity\" style=\"background: red; padding: 0.45em 0.6em; margin: 0 0.25em; line-height: 1; border-radius: 0.35em; box-decoration-break: clone; -webkit-box-decoration-break: clone\">\n",
              "    Demwe Lower Hydroelectric Project\n",
              "    <span style=\"font-size: 0.8em; font-weight: bold; line-height: 1; border-radius: 0.35em; text-transform: uppercase; vertical-align: middle; margin-left: 0.5rem\">actor</span>\n",
              "</mark>\n",
              ", the project]]</div>"
            ],
            "text/plain": [
              "<IPython.core.display.HTML object>"
            ]
          },
          "metadata": {
            "tags": []
          }
        },
        {
          "output_type": "stream",
          "text": [
            "Actor                                             |Number                                            |Action                                            \n",
            "--------------------------------------------------------------------------------------------------------------------------------------------------------\n",
            "the state                                         |                                                  |                                                  \n",
            "unidentified forces                               |                                                  |                                                  \n",
            "the government                                    |                                                  |                                                  \n",
            "several opposition members                        |                                                  |                                                  \n",
            "[Chief Minister                                   |                                                  |                                                  \n",
            "Chief Minister                                    |                                                  |                                                  \n",
            "state government                                  |                                                  |                                                  \n",
            "deputy chief minister                             |                                                  |                                                  \n",
            "MLA Ali Mohammad Sagar                            |                                                  |                                                  \n",
            "NC MLA Ishfaq Jabbar: [NC MLA Ishfaq Jabbar, they], Ganderbal district: [Ganderbal district, the district], the House: [the House, the House], Mir: [Relief and Rehabilitation minister Javaid Mustafa Mir, He, Mir], this government|                                                  |                                                  \n",
            "people of Kashmir                                 |                                                  |                                                  \n"
          ],
          "name": "stdout"
        },
        {
          "output_type": "display_data",
          "data": {
            "text/html": [
              "<div class=\"entities\" style=\"line-height: 2.5; direction: ltr\">[\n",
              "<mark class=\"entity\" style=\"background: red; padding: 0.45em 0.6em; margin: 0 0.25em; line-height: 1; border-radius: 0.35em; box-decoration-break: clone; -webkit-box-decoration-break: clone\">\n",
              "    the government\n",
              "    <span style=\"font-size: 0.8em; font-weight: bold; line-height: 1; border-radius: 0.35em; text-transform: uppercase; vertical-align: middle; margin-left: 0.5rem\">actor</span>\n",
              "</mark>\n",
              ": [the government, the government, the \n",
              "<mark class=\"entity\" style=\"background: red; padding: 0.45em 0.6em; margin: 0 0.25em; line-height: 1; border-radius: 0.35em; box-decoration-break: clone; -webkit-box-decoration-break: clone\">\n",
              "    state government\n",
              "    <span style=\"font-size: 0.8em; font-weight: bold; line-height: 1; border-radius: 0.35em; text-transform: uppercase; vertical-align: middle; margin-left: 0.5rem\">actor</span>\n",
              "</mark>\n",
              ", its, the government, the government], \n",
              "<mark class=\"entity\" style=\"background: red; padding: 0.45em 0.6em; margin: 0 0.25em; line-height: 1; border-radius: 0.35em; box-decoration-break: clone; -webkit-box-decoration-break: clone\">\n",
              "    MLA Ali Mohammad Sagar\n",
              "    <span style=\"font-size: 0.8em; font-weight: bold; line-height: 1; border-radius: 0.35em; text-transform: uppercase; vertical-align: middle; margin-left: 0.5rem\">actor</span>\n",
              "</mark>\n",
              ": [MLA Ali Mohammad Sagar, Sagar, its, Sagar, Sagar, Sagar, Sagar, He, he], the power crisis in the state: [the power crisis in the state, the power crisis in the state], \n",
              "<mark class=\"entity\" style=\"background: red; padding: 0.45em 0.6em; margin: 0 0.25em; line-height: 1; border-radius: 0.35em; box-decoration-break: clone; -webkit-box-decoration-break: clone\">\n",
              "    the state\n",
              "    <span style=\"font-size: 0.8em; font-weight: bold; line-height: 1; border-radius: 0.35em; text-transform: uppercase; vertical-align: middle; margin-left: 0.5rem\">actor</span>\n",
              "</mark>\n",
              ": [the state, the state, the state, it, its, its], Parliamentary Affairs Minister A R Veeri: [Parliamentary Affairs Minister A R Veeri, his], \n",
              "<mark class=\"entity\" style=\"background: red; padding: 0.45em 0.6em; margin: 0 0.25em; line-height: 1; border-radius: 0.35em; box-decoration-break: clone; -webkit-box-decoration-break: clone\">\n",
              "    Chief Minister\n",
              "    <span style=\"font-size: 0.8em; font-weight: bold; line-height: 1; border-radius: 0.35em; text-transform: uppercase; vertical-align: middle; margin-left: 0.5rem\">actor</span>\n",
              "</mark>\n",
              " Mehbooba Mufti: \n",
              "<mark class=\"entity\" style=\"background: red; padding: 0.45em 0.6em; margin: 0 0.25em; line-height: 1; border-radius: 0.35em; box-decoration-break: clone; -webkit-box-decoration-break: clone\">\n",
              "    [Chief Minister\n",
              "    <span style=\"font-size: 0.8em; font-weight: bold; line-height: 1; border-radius: 0.35em; text-transform: uppercase; vertical-align: middle; margin-left: 0.5rem\">actor</span>\n",
              "</mark>\n",
              " Mehbooba Mufti, he, The power minister, the \n",
              "<mark class=\"entity\" style=\"background: red; padding: 0.45em 0.6em; margin: 0 0.25em; line-height: 1; border-radius: 0.35em; box-decoration-break: clone; -webkit-box-decoration-break: clone\">\n",
              "    deputy chief minister\n",
              "    <span style=\"font-size: 0.8em; font-weight: bold; line-height: 1; border-radius: 0.35em; text-transform: uppercase; vertical-align: middle; margin-left: 0.5rem\">actor</span>\n",
              "</mark>\n",
              ", Education Minister Syed Altaf Bukhari], We: [We, we], the House: [the House, the House], the opposition on the directions of \n",
              "<mark class=\"entity\" style=\"background: red; padding: 0.45em 0.6em; margin: 0 0.25em; line-height: 1; border-radius: 0.35em; box-decoration-break: clone; -webkit-box-decoration-break: clone\">\n",
              "    unidentified forces\n",
              "    <span style=\"font-size: 0.8em; font-weight: bold; line-height: 1; border-radius: 0.35em; text-transform: uppercase; vertical-align: middle; margin-left: 0.5rem\">actor</span>\n",
              "</mark>\n",
              ": [the opposition on the directions of unidentified forces, the opposition], the \n",
              "<mark class=\"entity\" style=\"background: red; padding: 0.45em 0.6em; margin: 0 0.25em; line-height: 1; border-radius: 0.35em; box-decoration-break: clone; -webkit-box-decoration-break: clone\">\n",
              "    people of Kashmir\n",
              "    <span style=\"font-size: 0.8em; font-weight: bold; line-height: 1; border-radius: 0.35em; text-transform: uppercase; vertical-align: middle; margin-left: 0.5rem\">actor</span>\n",
              "</mark>\n",
              ": [the people of Kashmir, these projects], Kashmir: [Kashmir, Kashmir], Kashmir and Jammu: [Kashmir and Jammu, Both regions], the valley: [the valley, the valley], \n",
              "<mark class=\"entity\" style=\"background: red; padding: 0.45em 0.6em; margin: 0 0.25em; line-height: 1; border-radius: 0.35em; box-decoration-break: clone; -webkit-box-decoration-break: clone\">\n",
              "    several opposition members\n",
              "    <span style=\"font-size: 0.8em; font-weight: bold; line-height: 1; border-radius: 0.35em; text-transform: uppercase; vertical-align: middle; margin-left: 0.5rem\">actor</span>\n",
              "</mark>\n",
              ": [several opposition members, their], an eight-year-old girl in Kathua district: [an eight-year-old girl in Kathua district, the minor girl, the girl], \n",
              "<mark class=\"entity\" style=\"background: red; padding: 0.45em 0.6em; margin: 0 0.25em; line-height: 1; border-radius: 0.35em; box-decoration-break: clone; -webkit-box-decoration-break: clone\">\n",
              "    NC MLA Ishfaq Jabbar: [NC MLA Ishfaq Jabbar, they], Ganderbal district: [Ganderbal district, the district], the House: [the House, the House], Mir: [Relief and Rehabilitation minister Javaid Mustafa Mir, He, Mir], this government\n",
              "    <span style=\"font-size: 0.8em; font-weight: bold; line-height: 1; border-radius: 0.35em; text-transform: uppercase; vertical-align: middle; margin-left: 0.5rem\">actor</span>\n",
              "</mark>\n",
              ": [this government, the government]]</div>"
            ],
            "text/plain": [
              "<IPython.core.display.HTML object>"
            ]
          },
          "metadata": {
            "tags": []
          }
        },
        {
          "output_type": "stream",
          "text": [
            "Actor                                             |Number                                            |Action                                            \n",
            "--------------------------------------------------------------------------------------------------------------------------------------------------------\n",
            "the TRS government                                |                                                  |                                                  \n"
          ],
          "name": "stdout"
        },
        {
          "output_type": "display_data",
          "data": {
            "text/html": [
              "<div class=\"entities\" style=\"line-height: 2.5; direction: ltr\">[Ex-MLC Arkala Narsa Reddy: [Ex-MLC Arkala Narsa Reddy, he, he, He, he, he], \n",
              "<mark class=\"entity\" style=\"background: red; padding: 0.45em 0.6em; margin: 0 0.25em; line-height: 1; border-radius: 0.35em; box-decoration-break: clone; -webkit-box-decoration-break: clone\">\n",
              "    the TRS government\n",
              "    <span style=\"font-size: 0.8em; font-weight: bold; line-height: 1; border-radius: 0.35em; text-transform: uppercase; vertical-align: middle; margin-left: 0.5rem\">actor</span>\n",
              "</mark>\n",
              ": [the TRS government, the then Congress government, their government], Nizamabad: [Nizamabad, its], its water: [its water, the water], the Pranahitha Packages 20-22: [the Pranahitha Packages 20-22, these packages], TRS: [TRS, the TRS, They, their], Mahabubnagar and Khammam districts: [Mahabubnagar and Khammam districts, their], Narsa Reddy: [Narsa Reddy, He, he], the districts: [the districts, the districts]]</div>"
            ],
            "text/plain": [
              "<IPython.core.display.HTML object>"
            ]
          },
          "metadata": {
            "tags": []
          }
        },
        {
          "output_type": "stream",
          "text": [
            "Actor                                             |Number                                            |Action                                            \n",
            "--------------------------------------------------------------------------------------------------------------------------------------------------------\n"
          ],
          "name": "stdout"
        },
        {
          "output_type": "stream",
          "text": [
            "/usr/lib/python3.6/runpy.py:193: UserWarning: [W006] No entities to visualize found in Doc object. If this is surprising to you, make sure the Doc was processed using a model that supports named entity recognition, and check the `doc.ents` property manually if necessary.\n",
            "  \"__main__\", mod_spec)\n"
          ],
          "name": "stderr"
        },
        {
          "output_type": "display_data",
          "data": {
            "text/html": [
              "<div class=\"entities\" style=\"line-height: 2.5; direction: ltr\">[A cow running across an airport runway in India: [A cow running across an airport runway in India, the plane, its, the cow], India: [India, India, India], Etihad Airways: [Etihad Airways, its], the bizarre incident: [the bizarre incident, the incident]]</div>"
            ],
            "text/plain": [
              "<IPython.core.display.HTML object>"
            ]
          },
          "metadata": {
            "tags": []
          }
        },
        {
          "output_type": "stream",
          "text": [
            "Actor                                             |Number                                            |Action                                            \n",
            "--------------------------------------------------------------------------------------------------------------------------------------------------------\n",
            "the machinery: [the machinery, the machinery], the bench: [the bench, the bench]]|                                                  |                                                  \n",
            "the Centre                                        |                                                  |                                                  \n",
            "Supreme Court                                     |                                                  |                                                  \n"
          ],
          "name": "stdout"
        },
        {
          "output_type": "display_data",
          "data": {
            "text/html": [
              "<div class=\"entities\" style=\"line-height: 2.5; direction: ltr\">[\n",
              "<mark class=\"entity\" style=\"background: red; padding: 0.45em 0.6em; margin: 0 0.25em; line-height: 1; border-radius: 0.35em; box-decoration-break: clone; -webkit-box-decoration-break: clone\">\n",
              "    Supreme Court\n",
              "    <span style=\"font-size: 0.8em; font-weight: bold; line-height: 1; border-radius: 0.35em; text-transform: uppercase; vertical-align: middle; margin-left: 0.5rem\">actor</span>\n",
              "</mark>\n",
              ": [Supreme Court, the \n",
              "<mark class=\"entity\" style=\"background: red; padding: 0.45em 0.6em; margin: 0 0.25em; line-height: 1; border-radius: 0.35em; box-decoration-break: clone; -webkit-box-decoration-break: clone\">\n",
              "    Supreme Court\n",
              "    <span style=\"font-size: 0.8em; font-weight: bold; line-height: 1; border-radius: 0.35em; text-transform: uppercase; vertical-align: middle; margin-left: 0.5rem\">actor</span>\n",
              "</mark>\n",
              ", the \n",
              "<mark class=\"entity\" style=\"background: red; padding: 0.45em 0.6em; margin: 0 0.25em; line-height: 1; border-radius: 0.35em; box-decoration-break: clone; -webkit-box-decoration-break: clone\">\n",
              "    Supreme Court\n",
              "    <span style=\"font-size: 0.8em; font-weight: bold; line-height: 1; border-radius: 0.35em; text-transform: uppercase; vertical-align: middle; margin-left: 0.5rem\">actor</span>\n",
              "</mark>\n",
              ", its], the pollution crisis in the national capital region: [the pollution crisis in the national capital region, the crisis], Delhi: [Delhi, Delhi], the Centre’s comprehensive plan to tackle the problem of stubble burning in neighbouring states of Delhi: [the Centre’s comprehensive plan to tackle the problem of stubble burning in neighbouring states of Delhi, The Centre’s plan to combat air pollution], \n",
              "<mark class=\"entity\" style=\"background: red; padding: 0.45em 0.6em; margin: 0 0.25em; line-height: 1; border-radius: 0.35em; box-decoration-break: clone; -webkit-box-decoration-break: clone\">\n",
              "    the Centre\n",
              "    <span style=\"font-size: 0.8em; font-weight: bold; line-height: 1; border-radius: 0.35em; text-transform: uppercase; vertical-align: middle; margin-left: 0.5rem\">actor</span>\n",
              "</mark>\n",
              ": [the Centre, the Centre, the Centre, the Centre], \n",
              "<mark class=\"entity\" style=\"background: red; padding: 0.45em 0.6em; margin: 0 0.25em; line-height: 1; border-radius: 0.35em; box-decoration-break: clone; -webkit-box-decoration-break: clone\">\n",
              "    the machinery: [the machinery, the machinery], the bench: [the bench, the bench]]\n",
              "    <span style=\"font-size: 0.8em; font-weight: bold; line-height: 1; border-radius: 0.35em; text-transform: uppercase; vertical-align: middle; margin-left: 0.5rem\">actor</span>\n",
              "</mark>\n",
              "</div>"
            ],
            "text/plain": [
              "<IPython.core.display.HTML object>"
            ]
          },
          "metadata": {
            "tags": []
          }
        },
        {
          "output_type": "stream",
          "text": [
            "Actor                                             |Number                                            |Action                                            \n",
            "--------------------------------------------------------------------------------------------------------------------------------------------------------\n",
            "David Littleproud                                 |                                                  |                                                  \n"
          ],
          "name": "stdout"
        },
        {
          "output_type": "display_data",
          "data": {
            "text/html": [
              "<div class=\"entities\" style=\"line-height: 2.5; direction: ltr\">[Australia: [Australia, Australia], Australia’s new Agriculture and Water Minister: [Australia’s new Agriculture and Water Minister, his], \n",
              "<mark class=\"entity\" style=\"background: red; padding: 0.45em 0.6em; margin: 0 0.25em; line-height: 1; border-radius: 0.35em; box-decoration-break: clone; -webkit-box-decoration-break: clone\">\n",
              "    David Littleproud\n",
              "    <span style=\"font-size: 0.8em; font-weight: bold; line-height: 1; border-radius: 0.35em; text-transform: uppercase; vertical-align: middle; margin-left: 0.5rem\">actor</span>\n",
              "</mark>\n",
              ": [David Littleproud, he, David Littleproud]]</div>"
            ],
            "text/plain": [
              "<IPython.core.display.HTML object>"
            ]
          },
          "metadata": {
            "tags": []
          }
        },
        {
          "output_type": "stream",
          "text": [
            "Actor                                             |Number                                            |Action                                            \n",
            "--------------------------------------------------------------------------------------------------------------------------------------------------------\n",
            "farmers                                           |                                                  |protesting                                        \n",
            "The state                                         |                                                  |                                                  \n",
            "Farmers protesting                                |                                                  |                                                  \n",
            "The farmers                                       |                                                  |                                                  \n",
            "potato prices                                     |                                                  |                                                  \n"
          ],
          "name": "stdout"
        },
        {
          "output_type": "display_data",
          "data": {
            "text/html": [
              "<div class=\"entities\" style=\"line-height: 2.5; direction: ltr\">[Lucknow: [Lucknow, Lucknow], \n",
              "<mark class=\"entity\" style=\"background: red; padding: 0.45em 0.6em; margin: 0 0.25em; line-height: 1; border-radius: 0.35em; box-decoration-break: clone; -webkit-box-decoration-break: clone\">\n",
              "    Farmers protesting\n",
              "    <span style=\"font-size: 0.8em; font-weight: bold; line-height: 1; border-radius: 0.35em; text-transform: uppercase; vertical-align: middle; margin-left: 0.5rem\">actor</span>\n",
              "</mark>\n",
              " low \n",
              "<mark class=\"entity\" style=\"background: red; padding: 0.45em 0.6em; margin: 0 0.25em; line-height: 1; border-radius: 0.35em; box-decoration-break: clone; -webkit-box-decoration-break: clone\">\n",
              "    potato prices\n",
              "    <span style=\"font-size: 0.8em; font-weight: bold; line-height: 1; border-radius: 0.35em; text-transform: uppercase; vertical-align: middle; margin-left: 0.5rem\">actor</span>\n",
              "</mark>\n",
              " on Saturday morning: [Farmers \n",
              "<mark class=\"entity\" style=\"background: blue; padding: 0.45em 0.6em; margin: 0 0.25em; line-height: 1; border-radius: 0.35em; box-decoration-break: clone; -webkit-box-decoration-break: clone\">\n",
              "    protesting\n",
              "    <span style=\"font-size: 0.8em; font-weight: bold; line-height: 1; border-radius: 0.35em; text-transform: uppercase; vertical-align: middle; margin-left: 0.5rem\">action</span>\n",
              "</mark>\n",
              " low \n",
              "<mark class=\"entity\" style=\"background: red; padding: 0.45em 0.6em; margin: 0 0.25em; line-height: 1; border-radius: 0.35em; box-decoration-break: clone; -webkit-box-decoration-break: clone\">\n",
              "    potato prices\n",
              "    <span style=\"font-size: 0.8em; font-weight: bold; line-height: 1; border-radius: 0.35em; text-transform: uppercase; vertical-align: middle; margin-left: 0.5rem\">actor</span>\n",
              "</mark>\n",
              " on Saturday morning, their], \n",
              "<mark class=\"entity\" style=\"background: red; padding: 0.45em 0.6em; margin: 0 0.25em; line-height: 1; border-radius: 0.35em; box-decoration-break: clone; -webkit-box-decoration-break: clone\">\n",
              "    The farmers\n",
              "    <span style=\"font-size: 0.8em; font-weight: bold; line-height: 1; border-radius: 0.35em; text-transform: uppercase; vertical-align: middle; margin-left: 0.5rem\">actor</span>\n",
              "</mark>\n",
              ": [The farmers, they], Harnam Singh, a Bharatiya Kisan Union leader: [Harnam Singh, a Bharatiya Kisan Union leader, his, him, he, Singh, he, Singh, he], \n",
              "<mark class=\"entity\" style=\"background: red; padding: 0.45em 0.6em; margin: 0 0.25em; line-height: 1; border-radius: 0.35em; box-decoration-break: clone; -webkit-box-decoration-break: clone\">\n",
              "    farmers\n",
              "    <span style=\"font-size: 0.8em; font-weight: bold; line-height: 1; border-radius: 0.35em; text-transform: uppercase; vertical-align: middle; margin-left: 0.5rem\">actor</span>\n",
              "</mark>\n",
              "': [farmers', the \n",
              "<mark class=\"entity\" style=\"background: red; padding: 0.45em 0.6em; margin: 0 0.25em; line-height: 1; border-radius: 0.35em; box-decoration-break: clone; -webkit-box-decoration-break: clone\">\n",
              "    farmers\n",
              "    <span style=\"font-size: 0.8em; font-weight: bold; line-height: 1; border-radius: 0.35em; text-transform: uppercase; vertical-align: middle; margin-left: 0.5rem\">actor</span>\n",
              "</mark>\n",
              ", the \n",
              "<mark class=\"entity\" style=\"background: red; padding: 0.45em 0.6em; margin: 0 0.25em; line-height: 1; border-radius: 0.35em; box-decoration-break: clone; -webkit-box-decoration-break: clone\">\n",
              "    farmers\n",
              "    <span style=\"font-size: 0.8em; font-weight: bold; line-height: 1; border-radius: 0.35em; text-transform: uppercase; vertical-align: middle; margin-left: 0.5rem\">actor</span>\n",
              "</mark>\n",
              ", their], \n",
              "<mark class=\"entity\" style=\"background: red; padding: 0.45em 0.6em; margin: 0 0.25em; line-height: 1; border-radius: 0.35em; box-decoration-break: clone; -webkit-box-decoration-break: clone\">\n",
              "    The state\n",
              "    <span style=\"font-size: 0.8em; font-weight: bold; line-height: 1; border-radius: 0.35em; text-transform: uppercase; vertical-align: middle; margin-left: 0.5rem\">actor</span>\n",
              "</mark>\n",
              ": [The state, it, the state], BJP: [BJP, the BJP, BJP, them], We: [We, We], Adityanath: [Adityanath, his]]</div>"
            ],
            "text/plain": [
              "<IPython.core.display.HTML object>"
            ]
          },
          "metadata": {
            "tags": []
          }
        },
        {
          "output_type": "stream",
          "text": [
            "Actor                                             |Number                                            |Action                                            \n",
            "--------------------------------------------------------------------------------------------------------------------------------------------------------\n",
            "former President Pratibha Patil: [former President Pratibha Patil, Pratibha Patil, he, me, me], “: [“, “], the charges: [the charges, All charges against me], the then government|                                                  |                                                  \n",
            "Nawab Malik                                       |                                                  |                                                  \n",
            "some land                                         |                                                  |                                                  \n",
            "Patil’s death                                     |                                                  |                                                  \n",
            "state Congress president                          |                                                  |                                                  \n",
            "Patil’s                                           |                                                  |                                                  \n",
            "a land acquisition notification                   |                                                  |                                                  \n",
            "Patil’s demand                                    |                                                  |                                                  \n"
          ],
          "name": "stdout"
        },
        {
          "output_type": "display_data",
          "data": {
            "text/html": [
              "<div class=\"entities\" style=\"line-height: 2.5; direction: ltr\">[the NCP: [the NCP, NCP], tourism minister Jaykumar Rawal: [tourism minister Jaykumar Rawal, his, him, Rawal, Rawal, he, Rawal, Rawal, her, Rawal], NCP spokesperson \n",
              "<mark class=\"entity\" style=\"background: red; padding: 0.45em 0.6em; margin: 0 0.25em; line-height: 1; border-radius: 0.35em; box-decoration-break: clone; -webkit-box-decoration-break: clone\">\n",
              "    Nawab Malik\n",
              "    <span style=\"font-size: 0.8em; font-weight: bold; line-height: 1; border-radius: 0.35em; text-transform: uppercase; vertical-align: middle; margin-left: 0.5rem\">actor</span>\n",
              "</mark>\n",
              ": [NCP spokesperson Nawab Malik, Malik, Malik, He, ” Malik, Malik, Malik], \n",
              "<mark class=\"entity\" style=\"background: red; padding: 0.45em 0.6em; margin: 0 0.25em; line-height: 1; border-radius: 0.35em; box-decoration-break: clone; -webkit-box-decoration-break: clone\">\n",
              "    a land acquisition notification\n",
              "    <span style=\"font-size: 0.8em; font-weight: bold; line-height: 1; border-radius: 0.35em; text-transform: uppercase; vertical-align: middle; margin-left: 0.5rem\">actor</span>\n",
              "</mark>\n",
              ": [a land acquisition notification, the notification], We: [We, We], a high-level meeting: [a high-level meeting, the meeting], \n",
              "<mark class=\"entity\" style=\"background: red; padding: 0.45em 0.6em; margin: 0 0.25em; line-height: 1; border-radius: 0.35em; box-decoration-break: clone; -webkit-box-decoration-break: clone\">\n",
              "    Patil’s\n",
              "    <span style=\"font-size: 0.8em; font-weight: bold; line-height: 1; border-radius: 0.35em; text-transform: uppercase; vertical-align: middle; margin-left: 0.5rem\">actor</span>\n",
              "</mark>\n",
              ": [Patil’s, Patil’s, Patil’s, He, his], \n",
              "<mark class=\"entity\" style=\"background: red; padding: 0.45em 0.6em; margin: 0 0.25em; line-height: 1; border-radius: 0.35em; box-decoration-break: clone; -webkit-box-decoration-break: clone\">\n",
              "    Patil’s demand\n",
              "    <span style=\"font-size: 0.8em; font-weight: bold; line-height: 1; border-radius: 0.35em; text-transform: uppercase; vertical-align: middle; margin-left: 0.5rem\">actor</span>\n",
              "</mark>\n",
              ": [Patil’s demand, it], the Rawal family: [the Rawal family, the family], the CM: [the CM, SP and ACB, the CM], \n",
              "<mark class=\"entity\" style=\"background: red; padding: 0.45em 0.6em; margin: 0 0.25em; line-height: 1; border-radius: 0.35em; box-decoration-break: clone; -webkit-box-decoration-break: clone\">\n",
              "    Patil’s death\n",
              "    <span style=\"font-size: 0.8em; font-weight: bold; line-height: 1; border-radius: 0.35em; text-transform: uppercase; vertical-align: middle; margin-left: 0.5rem\">actor</span>\n",
              "</mark>\n",
              ": [Patil’s death, his death], \n",
              "<mark class=\"entity\" style=\"background: red; padding: 0.45em 0.6em; margin: 0 0.25em; line-height: 1; border-radius: 0.35em; box-decoration-break: clone; -webkit-box-decoration-break: clone\">\n",
              "    former President Pratibha Patil: [former President Pratibha Patil, Pratibha Patil, he, me, me], “: [“, “], the charges: [the charges, All charges against me], the then government\n",
              "    <span style=\"font-size: 0.8em; font-weight: bold; line-height: 1; border-radius: 0.35em; text-transform: uppercase; vertical-align: middle; margin-left: 0.5rem\">actor</span>\n",
              "</mark>\n",
              ": [the then government, the BJP-led government, the government], officials: [officials, these officials], \n",
              "<mark class=\"entity\" style=\"background: red; padding: 0.45em 0.6em; margin: 0 0.25em; line-height: 1; border-radius: 0.35em; box-decoration-break: clone; -webkit-box-decoration-break: clone\">\n",
              "    some land\n",
              "    <span style=\"font-size: 0.8em; font-weight: bold; line-height: 1; border-radius: 0.35em; text-transform: uppercase; vertical-align: middle; margin-left: 0.5rem\">actor</span>\n",
              "</mark>\n",
              ": [some land, it, It], \n",
              "<mark class=\"entity\" style=\"background: red; padding: 0.45em 0.6em; margin: 0 0.25em; line-height: 1; border-radius: 0.35em; box-decoration-break: clone; -webkit-box-decoration-break: clone\">\n",
              "    state Congress president\n",
              "    <span style=\"font-size: 0.8em; font-weight: bold; line-height: 1; border-radius: 0.35em; text-transform: uppercase; vertical-align: middle; margin-left: 0.5rem\">actor</span>\n",
              "</mark>\n",
              " Ashok Chavan: [state Congress president Ashok Chavan, he, Chavan, he, he, Chavan], Patil submitted several memorandums to Bawankule: [Patil submitted several memorandums to Bawankule, they]]</div>"
            ],
            "text/plain": [
              "<IPython.core.display.HTML object>"
            ]
          },
          "metadata": {
            "tags": []
          }
        },
        {
          "output_type": "stream",
          "text": [
            "Actor                                             |Number                                            |Action                                            \n",
            "--------------------------------------------------------------------------------------------------------------------------------------------------------\n",
            "Delhi Jal Board                                   |                                                  |                                                  \n",
            "The Delhi Jal Board                               |                                                  |                                                  \n",
            "New Delhi                                         |                                                  |                                                  \n"
          ],
          "name": "stdout"
        },
        {
          "output_type": "display_data",
          "data": {
            "text/html": [
              "<div class=\"entities\" style=\"line-height: 2.5; direction: ltr\">[\n",
              "<mark class=\"entity\" style=\"background: red; padding: 0.45em 0.6em; margin: 0 0.25em; line-height: 1; border-radius: 0.35em; box-decoration-break: clone; -webkit-box-decoration-break: clone\">\n",
              "    New Delhi\n",
              "    <span style=\"font-size: 0.8em; font-weight: bold; line-height: 1; border-radius: 0.35em; text-transform: uppercase; vertical-align: middle; margin-left: 0.5rem\">actor</span>\n",
              "</mark>\n",
              ": [New Delhi, Delhi, Delhi], Yamuna: [Yamuna, Yamuna], \n",
              "<mark class=\"entity\" style=\"background: red; padding: 0.45em 0.6em; margin: 0 0.25em; line-height: 1; border-radius: 0.35em; box-decoration-break: clone; -webkit-box-decoration-break: clone\">\n",
              "    The Delhi Jal Board\n",
              "    <span style=\"font-size: 0.8em; font-weight: bold; line-height: 1; border-radius: 0.35em; text-transform: uppercase; vertical-align: middle; margin-left: 0.5rem\">actor</span>\n",
              "</mark>\n",
              ": [The \n",
              "<mark class=\"entity\" style=\"background: red; padding: 0.45em 0.6em; margin: 0 0.25em; line-height: 1; border-radius: 0.35em; box-decoration-break: clone; -webkit-box-decoration-break: clone\">\n",
              "    Delhi Jal Board\n",
              "    <span style=\"font-size: 0.8em; font-weight: bold; line-height: 1; border-radius: 0.35em; text-transform: uppercase; vertical-align: middle; margin-left: 0.5rem\">actor</span>\n",
              "</mark>\n",
              ", the board]]</div>"
            ],
            "text/plain": [
              "<IPython.core.display.HTML object>"
            ]
          },
          "metadata": {
            "tags": []
          }
        },
        {
          "output_type": "stream",
          "text": [
            "Actor                                             |Number                                            |Action                                            \n",
            "--------------------------------------------------------------------------------------------------------------------------------------------------------\n",
            "public                                            |                                                  |                                                  \n",
            "Supreme Court                                     |                                                  |                                                  \n"
          ],
          "name": "stdout"
        },
        {
          "output_type": "display_data",
          "data": {
            "text/html": [
              "<div class=\"entities\" style=\"line-height: 2.5; direction: ltr\">The \n",
              "<mark class=\"entity\" style=\"background: red; padding: 0.45em 0.6em; margin: 0 0.25em; line-height: 1; border-radius: 0.35em; box-decoration-break: clone; -webkit-box-decoration-break: clone\">\n",
              "    Supreme Court\n",
              "    <span style=\"font-size: 0.8em; font-weight: bold; line-height: 1; border-radius: 0.35em; text-transform: uppercase; vertical-align: middle; margin-left: 0.5rem\">actor</span>\n",
              "</mark>\n",
              " ban on sand mining has disturbed BJP’s poll calculation. BJP was banking on several big projects in Jaipur to reap benefit in assembly election later this year. However, shortage of bajri has put brakes on most of several big projects in Jaipur except Dravyavati River, which is using crasher dust. Following The \n",
              "<mark class=\"entity\" style=\"background: red; padding: 0.45em 0.6em; margin: 0 0.25em; line-height: 1; border-radius: 0.35em; box-decoration-break: clone; -webkit-box-decoration-break: clone\">\n",
              "    Supreme Court\n",
              "    <span style=\"font-size: 0.8em; font-weight: bold; line-height: 1; border-radius: 0.35em; text-transform: uppercase; vertical-align: middle; margin-left: 0.5rem\">actor</span>\n",
              "</mark>\n",
              " ban on sand mining, sand mining from Banas River has stopped for more than a month. While, every section of the \n",
              "<mark class=\"entity\" style=\"background: red; padding: 0.45em 0.6em; margin: 0 0.25em; line-height: 1; border-radius: 0.35em; box-decoration-break: clone; -webkit-box-decoration-break: clone\">\n",
              "    public\n",
              "    <span style=\"font-size: 0.8em; font-weight: bold; line-height: 1; border-radius: 0.35em; text-transform: uppercase; vertical-align: middle; margin-left: 0.5rem\">actor</span>\n",
              "</mark>\n",
              " has been affected by the ban, Jaipur Development Authority (JDA) is worst affected as work on around half a dozen projects has been stalled. The only project where the work is continuing is Dravyavati River project because the JDC has given permission to use crasher dust. Another project is Sodala elevated road where the work is still on, however, bajri stock here will last only till January 15. With no solution in sight for the bajri problem, it is unlikely that work on these important projects will commence anytime soon. What this means is that they would not be finished before assembly elections and may rob the ruling BJP of a chance to impress upon voters.</div>"
            ],
            "text/plain": [
              "<IPython.core.display.HTML object>"
            ]
          },
          "metadata": {
            "tags": []
          }
        },
        {
          "output_type": "stream",
          "text": [
            "Actor                                             |Number                                            |Action                                            \n",
            "--------------------------------------------------------------------------------------------------------------------------------------------------------\n",
            "forest officials                                  |                                                  |                                                  \n",
            "tiger                                             |                                                  |                                                  \n",
            "farmer                                            |                                                  |                                                  \n"
          ],
          "name": "stdout"
        },
        {
          "output_type": "display_data",
          "data": {
            "text/html": [
              "<div class=\"entities\" style=\"line-height: 2.5; direction: ltr\">Advertisement But the efforts made by the \n",
              "<mark class=\"entity\" style=\"background: red; padding: 0.45em 0.6em; margin: 0 0.25em; line-height: 1; border-radius: 0.35em; box-decoration-break: clone; -webkit-box-decoration-break: clone\">\n",
              "    forest officials\n",
              "    <span style=\"font-size: 0.8em; font-weight: bold; line-height: 1; border-radius: 0.35em; text-transform: uppercase; vertical-align: middle; margin-left: 0.5rem\">actor</span>\n",
              "</mark>\n",
              " bore no fruit. Soon after the incident, an irate mob blocked the road leading from village Loni to Zadgaon in Ralegaon tehsil.The farmer had gone to The farmer farm, situated 2 kms from village Loni along the Loni-Zadgaon road, when the \n",
              "<mark class=\"entity\" style=\"background: red; padding: 0.45em 0.6em; margin: 0 0.25em; line-height: 1; border-radius: 0.35em; box-decoration-break: clone; -webkit-box-decoration-break: clone\">\n",
              "    tiger\n",
              "    <span style=\"font-size: 0.8em; font-weight: bold; line-height: 1; border-radius: 0.35em; text-transform: uppercase; vertical-align: middle; margin-left: 0.5rem\">actor</span>\n",
              "</mark>\n",
              " attacked The \n",
              "<mark class=\"entity\" style=\"background: red; padding: 0.45em 0.6em; margin: 0 0.25em; line-height: 1; border-radius: 0.35em; box-decoration-break: clone; -webkit-box-decoration-break: clone\">\n",
              "    farmer\n",
              "    <span style=\"font-size: 0.8em; font-weight: bold; line-height: 1; border-radius: 0.35em; text-transform: uppercase; vertical-align: middle; margin-left: 0.5rem\">actor</span>\n",
              "</mark>\n",
              ". the \n",
              "<mark class=\"entity\" style=\"background: red; padding: 0.45em 0.6em; margin: 0 0.25em; line-height: 1; border-radius: 0.35em; box-decoration-break: clone; -webkit-box-decoration-break: clone\">\n",
              "    forest officials\n",
              "    <span style=\"font-size: 0.8em; font-weight: bold; line-height: 1; border-radius: 0.35em; text-transform: uppercase; vertical-align: middle; margin-left: 0.5rem\">actor</span>\n",
              "</mark>\n",
              " have already obtained the permission from the \n",
              "<mark class=\"entity\" style=\"background: red; padding: 0.45em 0.6em; margin: 0 0.25em; line-height: 1; border-radius: 0.35em; box-decoration-break: clone; -webkit-box-decoration-break: clone\">\n",
              "    forest officials\n",
              "    <span style=\"font-size: 0.8em; font-weight: bold; line-height: 1; border-radius: 0.35em; text-transform: uppercase; vertical-align: middle; margin-left: 0.5rem\">actor</span>\n",
              "</mark>\n",
              " higher ups to tranquillize the \n",
              "<mark class=\"entity\" style=\"background: red; padding: 0.45em 0.6em; margin: 0 0.25em; line-height: 1; border-radius: 0.35em; box-decoration-break: clone; -webkit-box-decoration-break: clone\">\n",
              "    tiger\n",
              "    <span style=\"font-size: 0.8em; font-weight: bold; line-height: 1; border-radius: 0.35em; text-transform: uppercase; vertical-align: middle; margin-left: 0.5rem\">actor</span>\n",
              "</mark>\n",
              ".A camp was also held at Saki Krishnapur under the leadership of shooter Nawab. The big cat dragged The farmer's body for about 700 metres, severing The farmer head in the process.In December last year, the \n",
              "<mark class=\"entity\" style=\"background: red; padding: 0.45em 0.6em; margin: 0 0.25em; line-height: 1; border-radius: 0.35em; box-decoration-break: clone; -webkit-box-decoration-break: clone\">\n",
              "    tiger\n",
              "    <span style=\"font-size: 0.8em; font-weight: bold; line-height: 1; border-radius: 0.35em; text-transform: uppercase; vertical-align: middle; margin-left: 0.5rem\">actor</span>\n",
              "</mark>\n",
              " had killed Chandku Futki , 50, a resident of village Adan in Ralegaon. A sniffer dog was deployed to track the \n",
              "<mark class=\"entity\" style=\"background: red; padding: 0.45em 0.6em; margin: 0 0.25em; line-height: 1; border-radius: 0.35em; box-decoration-break: clone; -webkit-box-decoration-break: clone\">\n",
              "    tiger\n",
              "    <span style=\"font-size: 0.8em; font-weight: bold; line-height: 1; border-radius: 0.35em; text-transform: uppercase; vertical-align: middle; margin-left: 0.5rem\">actor</span>\n",
              "</mark>\n",
              ".</div>"
            ],
            "text/plain": [
              "<IPython.core.display.HTML object>"
            ]
          },
          "metadata": {
            "tags": []
          }
        },
        {
          "output_type": "stream",
          "text": [
            "Actor                                             |Number                                            |Action                                            \n",
            "--------------------------------------------------------------------------------------------------------------------------------------------------------\n",
            "security forces                                   |                                                  |                                                  \n",
            "state government                                  |                                                  |                                                  \n",
            "Centre                                            |                                                  |                                                  \n",
            "China                                             |                                                  |                                                  \n"
          ],
          "name": "stdout"
        },
        {
          "output_type": "display_data",
          "data": {
            "text/html": [
              "<div class=\"entities\" style=\"line-height: 2.5; direction: ltr\">As part of efforts to improve security along the \n",
              "<mark class=\"entity\" style=\"background: red; padding: 0.45em 0.6em; margin: 0 0.25em; line-height: 1; border-radius: 0.35em; box-decoration-break: clone; -webkit-box-decoration-break: clone\">\n",
              "    China\n",
              "    <span style=\"font-size: 0.8em; font-weight: bold; line-height: 1; border-radius: 0.35em; text-transform: uppercase; vertical-align: middle; margin-left: 0.5rem\">actor</span>\n",
              "</mark>\n",
              " border in Arunachal Pradesh, the \n",
              "<mark class=\"entity\" style=\"background: red; padding: 0.45em 0.6em; margin: 0 0.25em; line-height: 1; border-radius: 0.35em; box-decoration-break: clone; -webkit-box-decoration-break: clone\">\n",
              "    Centre\n",
              "    <span style=\"font-size: 0.8em; font-weight: bold; line-height: 1; border-radius: 0.35em; text-transform: uppercase; vertical-align: middle; margin-left: 0.5rem\">actor</span>\n",
              "</mark>\n",
              " is planning to create model villages to in those areas around which the locals would be settled, providing model villages better amenities. The initiative is being taken under the Border Area Development Plan (BADP) where the \n",
              "<mark class=\"entity\" style=\"background: red; padding: 0.45em 0.6em; margin: 0 0.25em; line-height: 1; border-radius: 0.35em; box-decoration-break: clone; -webkit-box-decoration-break: clone\">\n",
              "    security forces\n",
              "    <span style=\"font-size: 0.8em; font-weight: bold; line-height: 1; border-radius: 0.35em; text-transform: uppercase; vertical-align: middle; margin-left: 0.5rem\">actor</span>\n",
              "</mark>\n",
              " and the \n",
              "<mark class=\"entity\" style=\"background: red; padding: 0.45em 0.6em; margin: 0 0.25em; line-height: 1; border-radius: 0.35em; box-decoration-break: clone; -webkit-box-decoration-break: clone\">\n",
              "    state government\n",
              "    <span style=\"font-size: 0.8em; font-weight: bold; line-height: 1; border-radius: 0.35em; text-transform: uppercase; vertical-align: middle; margin-left: 0.5rem\">actor</span>\n",
              "</mark>\n",
              " are expected to set up around 50 such villages with modern amenities such as health facilities and schooling for the locals, government sources told Mail Today. The aim is to develop villages and habitats where population is sparse and large stretches are barren in areas where both \n",
              "<mark class=\"entity\" style=\"background: red; padding: 0.45em 0.6em; margin: 0 0.25em; line-height: 1; border-radius: 0.35em; box-decoration-break: clone; -webkit-box-decoration-break: clone\">\n",
              "    China\n",
              "    <span style=\"font-size: 0.8em; font-weight: bold; line-height: 1; border-radius: 0.35em; text-transform: uppercase; vertical-align: middle; margin-left: 0.5rem\">actor</span>\n",
              "</mark>\n",
              " and India have different perceptions about both \n",
              "<mark class=\"entity\" style=\"background: red; padding: 0.45em 0.6em; margin: 0 0.25em; line-height: 1; border-radius: 0.35em; box-decoration-break: clone; -webkit-box-decoration-break: clone\">\n",
              "    China\n",
              "    <span style=\"font-size: 0.8em; font-weight: bold; line-height: 1; border-radius: 0.35em; text-transform: uppercase; vertical-align: middle; margin-left: 0.5rem\">actor</span>\n",
              "</mark>\n",
              " and India boundary. &quot;both \n",
              "<mark class=\"entity\" style=\"background: red; padding: 0.45em 0.6em; margin: 0 0.25em; line-height: 1; border-radius: 0.35em; box-decoration-break: clone; -webkit-box-decoration-break: clone\">\n",
              "    China\n",
              "    <span style=\"font-size: 0.8em; font-weight: bold; line-height: 1; border-radius: 0.35em; text-transform: uppercase; vertical-align: middle; margin-left: 0.5rem\">actor</span>\n",
              "</mark>\n",
              " and India also help \n",
              "<mark class=\"entity\" style=\"background: red; padding: 0.45em 0.6em; margin: 0 0.25em; line-height: 1; border-radius: 0.35em; box-decoration-break: clone; -webkit-box-decoration-break: clone\">\n",
              "    China\n",
              "    <span style=\"font-size: 0.8em; font-weight: bold; line-height: 1; border-radius: 0.35em; text-transform: uppercase; vertical-align: middle; margin-left: 0.5rem\">actor</span>\n",
              "</mark>\n",
              " in building up a security infrastructure where both \n",
              "<mark class=\"entity\" style=\"background: red; padding: 0.45em 0.6em; margin: 0 0.25em; line-height: 1; border-radius: 0.35em; box-decoration-break: clone; -webkit-box-decoration-break: clone\">\n",
              "    China\n",
              "    <span style=\"font-size: 0.8em; font-weight: bold; line-height: 1; border-radius: 0.35em; text-transform: uppercase; vertical-align: middle; margin-left: 0.5rem\">actor</span>\n",
              "</mark>\n",
              " and India can be the symbols of Indian authority in the areas close to the perceived boundaries,&quot; the sources said.</div>"
            ],
            "text/plain": [
              "<IPython.core.display.HTML object>"
            ]
          },
          "metadata": {
            "tags": []
          }
        }
      ]
    },
    {
      "cell_type": "code",
      "metadata": {
        "id": "5P6oGVoJCIDa",
        "colab_type": "code",
        "colab": {
          "base_uri": "https://localhost:8080/",
          "height": 1000
        },
        "outputId": "9a4ae9cd-1fe9-456b-a5f5-e06b7af4bcb3"
      },
      "source": [
        "#Testing on gold standard articles\n",
        "import pandas as pd\n",
        "\n",
        "\n",
        "gs = pd.read_csv('environmental-conflict-tracker/gold_standard_text.csv')\n",
        "gs.columns = ['Index','text']\n",
        "gs.head()\n",
        "for i in range(5):\n",
        "  test_text = gs.iloc[i]['text']\n",
        "  test_text = chop_news(test_text)\n",
        "  test_text = coref(test_text)\n",
        "  doc = prdnlp (test_text)\n",
        "  get_entities_list(test_text,doc)\n",
        "  options = {\"ents\": [\"ACTOR\", \"ACTION\", \"NUMBER\"],\n",
        "           \"colors\": {\"ACTOR\": \"red\", \"ACTION\":\"blue\", \"NUMBER\":\"green\"}}\n",
        "  displacy.render(doc, style=\"ent\", options = options, jupyter = True )"
      ],
      "execution_count": 48,
      "outputs": [
        {
          "output_type": "stream",
          "text": [
            "Actor                                             |Number                                            |Action                                            \n",
            "--------------------------------------------------------------------------------------------------------------------------------------------------------\n",
            "Farmers                                           |                                                  |                                                  \n",
            "farms                                             |                                                  |                                                  \n",
            "rains                                             |                                                  |                                                  \n",
            "government                                        |                                                  |                                                  \n",
            "farmer                                            |                                                  |                                                  \n"
          ],
          "name": "stdout"
        },
        {
          "output_type": "display_data",
          "data": {
            "text/html": [
              "<div class=\"entities\" style=\"line-height: 2.5; direction: ltr\">Recent rains in Kerala and the Malnad region of Karnataka have left a trail a destruction in India’s major spice-growing regions. Coupled with landslips, the \n",
              "<mark class=\"entity\" style=\"background: red; padding: 0.45em 0.6em; margin: 0 0.25em; line-height: 1; border-radius: 0.35em; box-decoration-break: clone; -webkit-box-decoration-break: clone\">\n",
              "    rains\n",
              "    <span style=\"font-size: 0.8em; font-weight: bold; line-height: 1; border-radius: 0.35em; text-transform: uppercase; vertical-align: middle; margin-left: 0.5rem\">actor</span>\n",
              "</mark>\n",
              " have adversely affected plantation crops such as ginger, black pepper, cardamom coffee, nutmeg, rubber and tea. Though \n",
              "<mark class=\"entity\" style=\"background: red; padding: 0.45em 0.6em; margin: 0 0.25em; line-height: 1; border-radius: 0.35em; box-decoration-break: clone; -webkit-box-decoration-break: clone\">\n",
              "    government\n",
              "    <span style=\"font-size: 0.8em; font-weight: bold; line-height: 1; border-radius: 0.35em; text-transform: uppercase; vertical-align: middle; margin-left: 0.5rem\">actor</span>\n",
              "</mark>\n",
              " agencies are yet to ascertain the quantum of loss in the plantation sector, farming sources said that the loss incurred by the sector is about ₹2,100 crore in Karnataka and ₹800 crore in Kerala. \n",
              "<mark class=\"entity\" style=\"background: red; padding: 0.45em 0.6em; margin: 0 0.25em; line-height: 1; border-radius: 0.35em; box-decoration-break: clone; -webkit-box-decoration-break: clone\">\n",
              "    Farmers\n",
              "    <span style=\"font-size: 0.8em; font-weight: bold; line-height: 1; border-radius: 0.35em; text-transform: uppercase; vertical-align: middle; margin-left: 0.5rem\">actor</span>\n",
              "</mark>\n",
              " cultivating short term crop such as ginger were relieved when they received good pre-monsoon showers in April. But ginger \n",
              "<mark class=\"entity\" style=\"background: red; padding: 0.45em 0.6em; margin: 0 0.25em; line-height: 1; border-radius: 0.35em; box-decoration-break: clone; -webkit-box-decoration-break: clone\">\n",
              "    farms\n",
              "    <span style=\"font-size: 0.8em; font-weight: bold; line-height: 1; border-radius: 0.35em; text-transform: uppercase; vertical-align: middle; margin-left: 0.5rem\">actor</span>\n",
              "</mark>\n",
              " in Kerala and Karnataka submerging in floods starting June has dampened their hopes. Ginger rhizomes have since been affected by the soft rot disease. Heavy rains in ginger growing regions of Mysuru, Coorg, Chikkamagaluru, Hassan and Shimoga districts in Karnataka and Wayanad, Palakkad, Pathanamthitta and Idukki districts in Kerala in June flooded the fields. “I have spent nearly ₹50 lakh to cultivate ginger on 10 acres of leased land but I am not sure if I can recoup even a quarter of the expense,” said Manjunath, a \n",
              "<mark class=\"entity\" style=\"background: red; padding: 0.45em 0.6em; margin: 0 0.25em; line-height: 1; border-radius: 0.35em; box-decoration-break: clone; -webkit-box-decoration-break: clone\">\n",
              "    farmer\n",
              "    <span style=\"font-size: 0.8em; font-weight: bold; line-height: 1; border-radius: 0.35em; text-transform: uppercase; vertical-align: middle; margin-left: 0.5rem\">actor</span>\n",
              "</mark>\n",
              " at Kushalnagar in Coorg.</div>"
            ],
            "text/plain": [
              "<IPython.core.display.HTML object>"
            ]
          },
          "metadata": {
            "tags": []
          }
        },
        {
          "output_type": "stream",
          "text": [
            "Actor                                             |Number                                            |Action                                            \n",
            "--------------------------------------------------------------------------------------------------------------------------------------------------------\n",
            "central government                                |                                                  |                                                  \n",
            "Indian government                                 |                                                  |                                                  \n",
            "court                                             |                                                  |                                                  \n",
            "Supreme Court                                     |                                                  |                                                  \n",
            "former Prime Minister                             |                                                  |                                                  \n",
            "centre                                            |                                                  |                                                  \n",
            "seven assassination                               |                                                  |                                                  \n"
          ],
          "name": "stdout"
        },
        {
          "output_type": "display_data",
          "data": {
            "text/html": [
              "<div class=\"entities\" style=\"line-height: 2.5; direction: ltr\">The \n",
              "<mark class=\"entity\" style=\"background: red; padding: 0.45em 0.6em; margin: 0 0.25em; line-height: 1; border-radius: 0.35em; box-decoration-break: clone; -webkit-box-decoration-break: clone\">\n",
              "    seven assassination\n",
              "    <span style=\"font-size: 0.8em; font-weight: bold; line-height: 1; border-radius: 0.35em; text-transform: uppercase; vertical-align: middle; margin-left: 0.5rem\">actor</span>\n",
              "</mark>\n",
              " convicts of Rajiv Gandhi, who are jailed in Tamil Nadu cannot be released, the \n",
              "<mark class=\"entity\" style=\"background: red; padding: 0.45em 0.6em; margin: 0 0.25em; line-height: 1; border-radius: 0.35em; box-decoration-break: clone; -webkit-box-decoration-break: clone\">\n",
              "    Indian government\n",
              "    <span style=\"font-size: 0.8em; font-weight: bold; line-height: 1; border-radius: 0.35em; text-transform: uppercase; vertical-align: middle; margin-left: 0.5rem\">actor</span>\n",
              "</mark>\n",
              " told the \n",
              "<mark class=\"entity\" style=\"background: red; padding: 0.45em 0.6em; margin: 0 0.25em; line-height: 1; border-radius: 0.35em; box-decoration-break: clone; -webkit-box-decoration-break: clone\">\n",
              "    Supreme Court\n",
              "    <span style=\"font-size: 0.8em; font-weight: bold; line-height: 1; border-radius: 0.35em; text-transform: uppercase; vertical-align: middle; margin-left: 0.5rem\">actor</span>\n",
              "</mark>\n",
              " on Friday asserting that the case involves the assassination of a \n",
              "<mark class=\"entity\" style=\"background: red; padding: 0.45em 0.6em; margin: 0 0.25em; line-height: 1; border-radius: 0.35em; box-decoration-break: clone; -webkit-box-decoration-break: clone\">\n",
              "    former Prime Minister\n",
              "    <span style=\"font-size: 0.8em; font-weight: bold; line-height: 1; border-radius: 0.35em; text-transform: uppercase; vertical-align: middle; margin-left: 0.5rem\">actor</span>\n",
              "</mark>\n",
              ", the NDTV said today. The Central Bureau of Investigation (CBI) of India, which investigated the case, has opposed the release of the seven convicts, the court was told. Tamil Nadu had been informed of the decision on April 18, the centre told the \n",
              "<mark class=\"entity\" style=\"background: red; padding: 0.45em 0.6em; margin: 0 0.25em; line-height: 1; border-radius: 0.35em; box-decoration-break: clone; -webkit-box-decoration-break: clone\">\n",
              "    court\n",
              "    <span style=\"font-size: 0.8em; font-weight: bold; line-height: 1; border-radius: 0.35em; text-transform: uppercase; vertical-align: middle; margin-left: 0.5rem\">actor</span>\n",
              "</mark>\n",
              ". The seven convicts had been in jail for 27 years. The \n",
              "<mark class=\"entity\" style=\"background: red; padding: 0.45em 0.6em; margin: 0 0.25em; line-height: 1; border-radius: 0.35em; box-decoration-break: clone; -webkit-box-decoration-break: clone\">\n",
              "    court\n",
              "    <span style=\"font-size: 0.8em; font-weight: bold; line-height: 1; border-radius: 0.35em; text-transform: uppercase; vertical-align: middle; margin-left: 0.5rem\">actor</span>\n",
              "</mark>\n",
              " had asked the \n",
              "<mark class=\"entity\" style=\"background: red; padding: 0.45em 0.6em; margin: 0 0.25em; line-height: 1; border-radius: 0.35em; box-decoration-break: clone; -webkit-box-decoration-break: clone\">\n",
              "    centre\n",
              "    <span style=\"font-size: 0.8em; font-weight: bold; line-height: 1; border-radius: 0.35em; text-transform: uppercase; vertical-align: middle; margin-left: 0.5rem\">actor</span>\n",
              "</mark>\n",
              " to decide and respond to Tamil Nadu's request to release them. A constitution bench of top \n",
              "<mark class=\"entity\" style=\"background: red; padding: 0.45em 0.6em; margin: 0 0.25em; line-height: 1; border-radius: 0.35em; box-decoration-break: clone; -webkit-box-decoration-break: clone\">\n",
              "    Supreme Court\n",
              "    <span style=\"font-size: 0.8em; font-weight: bold; line-height: 1; border-radius: 0.35em; text-transform: uppercase; vertical-align: middle; margin-left: 0.5rem\">actor</span>\n",
              "</mark>\n",
              " judges had said in 2015 that the convicts cannot be released without the \n",
              "<mark class=\"entity\" style=\"background: red; padding: 0.45em 0.6em; margin: 0 0.25em; line-height: 1; border-radius: 0.35em; box-decoration-break: clone; -webkit-box-decoration-break: clone\">\n",
              "    central government\n",
              "    <span style=\"font-size: 0.8em; font-weight: bold; line-height: 1; border-radius: 0.35em; text-transform: uppercase; vertical-align: middle; margin-left: 0.5rem\">actor</span>\n",
              "</mark>\n",
              "'s consent.</div>"
            ],
            "text/plain": [
              "<IPython.core.display.HTML object>"
            ]
          },
          "metadata": {
            "tags": []
          }
        },
        {
          "output_type": "stream",
          "text": [
            "Actor                                             |Number                                            |Action                                            \n",
            "--------------------------------------------------------------------------------------------------------------------------------------------------------\n",
            "farmers                                           |                                                  |                                                  \n",
            "government                                        |                                                  |                                                  \n",
            "State government                                  |                                                  |                                                  \n",
            "Minister for Agriculture                          |                                                  |                                                  \n",
            "chemical fertilizer                               |                                                  |                                                  \n"
          ],
          "name": "stdout"
        },
        {
          "output_type": "display_data",
          "data": {
            "text/html": [
              "<div class=\"entities\" style=\"line-height: 2.5; direction: ltr\">The \n",
              "<mark class=\"entity\" style=\"background: red; padding: 0.45em 0.6em; margin: 0 0.25em; line-height: 1; border-radius: 0.35em; box-decoration-break: clone; -webkit-box-decoration-break: clone\">\n",
              "    State government\n",
              "    <span style=\"font-size: 0.8em; font-weight: bold; line-height: 1; border-radius: 0.35em; text-transform: uppercase; vertical-align: middle; margin-left: 0.5rem\">actor</span>\n",
              "</mark>\n",
              " would encourage organic farming by framing a suitable policy to help \n",
              "<mark class=\"entity\" style=\"background: red; padding: 0.45em 0.6em; margin: 0 0.25em; line-height: 1; border-radius: 0.35em; box-decoration-break: clone; -webkit-box-decoration-break: clone\">\n",
              "    farmers\n",
              "    <span style=\"font-size: 0.8em; font-weight: bold; line-height: 1; border-radius: 0.35em; text-transform: uppercase; vertical-align: middle; margin-left: 0.5rem\">actor</span>\n",
              "</mark>\n",
              " get good price for their produce in the market, \n",
              "<mark class=\"entity\" style=\"background: red; padding: 0.45em 0.6em; margin: 0 0.25em; line-height: 1; border-radius: 0.35em; box-decoration-break: clone; -webkit-box-decoration-break: clone\">\n",
              "    Minister for Agriculture\n",
              "    <span style=\"font-size: 0.8em; font-weight: bold; line-height: 1; border-radius: 0.35em; text-transform: uppercase; vertical-align: middle; margin-left: 0.5rem\">actor</span>\n",
              "</mark>\n",
              " Pocharam Srinivas Reddy said here on Monday. Stating that good price to organic farm produce would make more and more \n",
              "<mark class=\"entity\" style=\"background: red; padding: 0.45em 0.6em; margin: 0 0.25em; line-height: 1; border-radius: 0.35em; box-decoration-break: clone; -webkit-box-decoration-break: clone\">\n",
              "    farmers\n",
              "    <span style=\"font-size: 0.8em; font-weight: bold; line-height: 1; border-radius: 0.35em; text-transform: uppercase; vertical-align: middle; margin-left: 0.5rem\">actor</span>\n",
              "</mark>\n",
              " take up environment-friendly organic farming, he announced that the \n",
              "<mark class=\"entity\" style=\"background: red; padding: 0.45em 0.6em; margin: 0 0.25em; line-height: 1; border-radius: 0.35em; box-decoration-break: clone; -webkit-box-decoration-break: clone\">\n",
              "    government\n",
              "    <span style=\"font-size: 0.8em; font-weight: bold; line-height: 1; border-radius: 0.35em; text-transform: uppercase; vertical-align: middle; margin-left: 0.5rem\">actor</span>\n",
              "</mark>\n",
              " would also plan super markets at suitable places to make the organic produce available to consumers. Speaking after launching the certification of organic products by Telangana State Seed and Organic Certification Authority (TSSOCA) after it was accredited by Agricultural and Processed Food Products Export Development Authority (APEDA), the Minister said food produced without the use of chemicals, growing of trees and safe drinking water to be given under Mission Bhagiratha would keep many diseases away from people in the State. Terming the \n",
              "<mark class=\"entity\" style=\"background: red; padding: 0.45em 0.6em; margin: 0 0.25em; line-height: 1; border-radius: 0.35em; box-decoration-break: clone; -webkit-box-decoration-break: clone\">\n",
              "    farmers\n",
              "    <span style=\"font-size: 0.8em; font-weight: bold; line-height: 1; border-radius: 0.35em; text-transform: uppercase; vertical-align: middle; margin-left: 0.5rem\">actor</span>\n",
              "</mark>\n",
              " practising organic farming as a special community, the Minister said there is a huge difference in the quality of food crops grown in organic method compared to crops cultivated by using chemical fertilizer, pesticides and micro-nutrients. On the accreditation secured by TSSOCA for certifying organic products, Mr. Reddy said Telangana is ninth \n",
              "<mark class=\"entity\" style=\"background: red; padding: 0.45em 0.6em; margin: 0 0.25em; line-height: 1; border-radius: 0.35em; box-decoration-break: clone; -webkit-box-decoration-break: clone\">\n",
              "    State government\n",
              "    <span style=\"font-size: 0.8em; font-weight: bold; line-height: 1; border-radius: 0.35em; text-transform: uppercase; vertical-align: middle; margin-left: 0.5rem\">actor</span>\n",
              "</mark>\n",
              " agency in the country to get such status and added that \n",
              "<mark class=\"entity\" style=\"background: red; padding: 0.45em 0.6em; margin: 0 0.25em; line-height: 1; border-radius: 0.35em; box-decoration-break: clone; -webkit-box-decoration-break: clone\">\n",
              "    farmers\n",
              "    <span style=\"font-size: 0.8em; font-weight: bold; line-height: 1; border-radius: 0.35em; text-transform: uppercase; vertical-align: middle; margin-left: 0.5rem\">actor</span>\n",
              "</mark>\n",
              " would get good price for their organic produce only if it is certified. He said \n",
              "<mark class=\"entity\" style=\"background: red; padding: 0.45em 0.6em; margin: 0 0.25em; line-height: 1; border-radius: 0.35em; box-decoration-break: clone; -webkit-box-decoration-break: clone\">\n",
              "    farmers\n",
              "    <span style=\"font-size: 0.8em; font-weight: bold; line-height: 1; border-radius: 0.35em; text-transform: uppercase; vertical-align: middle; margin-left: 0.5rem\">actor</span>\n",
              "</mark>\n",
              " in Sikkim do not use even a spoon of \n",
              "<mark class=\"entity\" style=\"background: red; padding: 0.45em 0.6em; margin: 0 0.25em; line-height: 1; border-radius: 0.35em; box-decoration-break: clone; -webkit-box-decoration-break: clone\">\n",
              "    chemical fertilizer\n",
              "    <span style=\"font-size: 0.8em; font-weight: bold; line-height: 1; border-radius: 0.35em; text-transform: uppercase; vertical-align: middle; margin-left: 0.5rem\">actor</span>\n",
              "</mark>\n",
              ", and the PM announced that State as 100% organic State. Explaining the impact of chemicals on food products, he stated that the number of people suffering with cancer used to be very less in the past but with the increase in the indiscriminate use of chemicals in farming had swelled the incidence of cancer.</div>"
            ],
            "text/plain": [
              "<IPython.core.display.HTML object>"
            ]
          },
          "metadata": {
            "tags": []
          }
        },
        {
          "output_type": "stream",
          "text": [
            "Actor                                             |Number                                            |Action                                            \n",
            "--------------------------------------------------------------------------------------------------------------------------------------------------------\n",
            "persons                                           |Three                                             |detained                                          \n"
          ],
          "name": "stdout"
        },
        {
          "output_type": "display_data",
          "data": {
            "text/html": [
              "<div class=\"entities\" style=\"line-height: 2.5; direction: ltr\">\n",
              "<mark class=\"entity\" style=\"background: green; padding: 0.45em 0.6em; margin: 0 0.25em; line-height: 1; border-radius: 0.35em; box-decoration-break: clone; -webkit-box-decoration-break: clone\">\n",
              "    Three\n",
              "    <span style=\"font-size: 0.8em; font-weight: bold; line-height: 1; border-radius: 0.35em; text-transform: uppercase; vertical-align: middle; margin-left: 0.5rem\">number</span>\n",
              "</mark>\n",
              " \n",
              "<mark class=\"entity\" style=\"background: red; padding: 0.45em 0.6em; margin: 0 0.25em; line-height: 1; border-radius: 0.35em; box-decoration-break: clone; -webkit-box-decoration-break: clone\">\n",
              "    persons\n",
              "    <span style=\"font-size: 0.8em; font-weight: bold; line-height: 1; border-radius: 0.35em; text-transform: uppercase; vertical-align: middle; margin-left: 0.5rem\">actor</span>\n",
              "</mark>\n",
              " have been \n",
              "<mark class=\"entity\" style=\"background: blue; padding: 0.45em 0.6em; margin: 0 0.25em; line-height: 1; border-radius: 0.35em; box-decoration-break: clone; -webkit-box-decoration-break: clone\">\n",
              "    detained\n",
              "    <span style=\"font-size: 0.8em; font-weight: bold; line-height: 1; border-radius: 0.35em; text-transform: uppercase; vertical-align: middle; margin-left: 0.5rem\">action</span>\n",
              "</mark>\n",
              " after police found 10 dead cows in an abattoir in Imlipura area of Madhya Pradesh's Khandwa district, a senior official \n",
              "<mark class=\"entity\" style=\"background: blue; padding: 0.45em 0.6em; margin: 0 0.25em; line-height: 1; border-radius: 0.35em; box-decoration-break: clone; -webkit-box-decoration-break: clone\">\n",
              "    said\n",
              "    <span style=\"font-size: 0.8em; font-weight: bold; line-height: 1; border-radius: 0.35em; text-transform: uppercase; vertical-align: middle; margin-left: 0.5rem\">action</span>\n",
              "</mark>\n",
              " today. The official said that the meat recovered was being sent for testing and further action against the three would be initiated after the test reports come in. The three were detained after police acted on a tip-off and raided a slaughterhouse in Imlipura in the morning today. &quot;Ten dead cows and nine live ones were found in the slaughterhouse and adjoining godowns and houses. The meat that was recovered during the raid has been sent for testing,&quot; said Superintendent of Police Ruchi Vardhan Mishra.</div>"
            ],
            "text/plain": [
              "<IPython.core.display.HTML object>"
            ]
          },
          "metadata": {
            "tags": []
          }
        },
        {
          "output_type": "stream",
          "text": [
            "Actor                                             |Number                                            |Action                                            \n",
            "--------------------------------------------------------------------------------------------------------------------------------------------------------\n",
            "Kerala State Disaster Management Authority        |                                                  |killed                                            \n"
          ],
          "name": "stdout"
        },
        {
          "output_type": "display_data",
          "data": {
            "text/html": [
              "<div class=\"entities\" style=\"line-height: 2.5; direction: ltr\">Source: Deutsche Welle Country: India Torrential rains and landslides have forced over 30,000 people to take shelter in the southern state. The US embassy has advised citizens to avoid the areas due to be hit by more heavy rain over the next few days. Flash floods in the southern Indian state of Kerala have \n",
              "<mark class=\"entity\" style=\"background: blue; padding: 0.45em 0.6em; margin: 0 0.25em; line-height: 1; border-radius: 0.35em; box-decoration-break: clone; -webkit-box-decoration-break: clone\">\n",
              "    killed\n",
              "    <span style=\"font-size: 0.8em; font-weight: bold; line-height: 1; border-radius: 0.35em; text-transform: uppercase; vertical-align: middle; margin-left: 0.5rem\">action</span>\n",
              "</mark>\n",
              " at least 37 people, prompting authorities to place eight of the state's districts on high alert. Torrential rains and landslides during India's ongoing monsoon season have forced over 30,000 people to take shelter in rescue camps, according to the \n",
              "<mark class=\"entity\" style=\"background: red; padding: 0.45em 0.6em; margin: 0 0.25em; line-height: 1; border-radius: 0.35em; box-decoration-break: clone; -webkit-box-decoration-break: clone\">\n",
              "    Kerala State Disaster Management Authority\n",
              "    <span style=\"font-size: 0.8em; font-weight: bold; line-height: 1; border-radius: 0.35em; text-transform: uppercase; vertical-align: middle; margin-left: 0.5rem\">actor</span>\n",
              "</mark>\n",
              "'s (KSDMA) control room in state capital Thiruvananthapuram.</div>"
            ],
            "text/plain": [
              "<IPython.core.display.HTML object>"
            ]
          },
          "metadata": {
            "tags": []
          }
        }
      ]
    },
    {
      "cell_type": "markdown",
      "metadata": {
        "id": "e0v3aNyvECPO",
        "colab_type": "text"
      },
      "source": [
        "# Getting location and date entities"
      ]
    },
    {
      "cell_type": "code",
      "metadata": {
        "id": "GKDYvgXBMTxW",
        "colab_type": "code",
        "colab": {
          "base_uri": "https://localhost:8080/",
          "height": 1000
        },
        "outputId": "15f24013-1657-48da-bc68-8c93cd43fa30"
      },
      "source": [
        "nlp = spacy.load('en')\n",
        "\n",
        "for i in range(5):\n",
        "  date = []\n",
        "  location = []\n",
        "  text = gs.iloc[i]['text']\n",
        "  doc = nlp(text)\n",
        "    #doc.ents has all the entities picked up by the model\n",
        "  for d in doc.ents:\n",
        "    if d.label_ == \"GPE\":\n",
        "      location.append(d.text)\n",
        "    if d.label_ == \"DATE\":\n",
        "      date.append(d.text)\n",
        "  print(location)  \n",
        "  print(date)\n",
        "  options = {\"ents\": [\"GPE\",\"DATE\"],\n",
        "           \"colors\": {\"GPE\": \"orange\", \"DATE\":\"yellow\"}}    \n",
        "  displacy.render(doc, style=\"ent\", options = options, jupyter = True )\n"
      ],
      "execution_count": 58,
      "outputs": [
        {
          "output_type": "stream",
          "text": [
            "['Kerala', 'Karnataka', 'India', 'Karnataka', 'Kerala', 'Kerala', 'Karnataka', 'Karnataka', 'Kerala', 'Karnataka', 'Kerala', 'States', 'Kerala']\n",
            "['April', 'June', 'June', 'the coming season', 'next season', 'the cardamom season', '2018-19', 'July', 'August']\n"
          ],
          "name": "stdout"
        },
        {
          "output_type": "display_data",
          "data": {
            "text/html": [
              "<div class=\"entities\" style=\"line-height: 2.5; direction: ltr\">Recent rains in \n",
              "<mark class=\"entity\" style=\"background: orange; padding: 0.45em 0.6em; margin: 0 0.25em; line-height: 1; border-radius: 0.35em; box-decoration-break: clone; -webkit-box-decoration-break: clone\">\n",
              "    Kerala\n",
              "    <span style=\"font-size: 0.8em; font-weight: bold; line-height: 1; border-radius: 0.35em; text-transform: uppercase; vertical-align: middle; margin-left: 0.5rem\">GPE</span>\n",
              "</mark>\n",
              " and the Malnad region of \n",
              "<mark class=\"entity\" style=\"background: orange; padding: 0.45em 0.6em; margin: 0 0.25em; line-height: 1; border-radius: 0.35em; box-decoration-break: clone; -webkit-box-decoration-break: clone\">\n",
              "    Karnataka\n",
              "    <span style=\"font-size: 0.8em; font-weight: bold; line-height: 1; border-radius: 0.35em; text-transform: uppercase; vertical-align: middle; margin-left: 0.5rem\">GPE</span>\n",
              "</mark>\n",
              " have left a trail a destruction in \n",
              "<mark class=\"entity\" style=\"background: orange; padding: 0.45em 0.6em; margin: 0 0.25em; line-height: 1; border-radius: 0.35em; box-decoration-break: clone; -webkit-box-decoration-break: clone\">\n",
              "    India\n",
              "    <span style=\"font-size: 0.8em; font-weight: bold; line-height: 1; border-radius: 0.35em; text-transform: uppercase; vertical-align: middle; margin-left: 0.5rem\">GPE</span>\n",
              "</mark>\n",
              "’s major spice-growing regions.</br>Coupled with landslips, the rains have adversely affected plantation crops such as ginger, black pepper, cardamom coffee, nutmeg, rubber and tea. Though government agencies are yet to ascertain the quantum of loss in the plantation sector, farming sources said that the loss incurred by the sector is about ₹2,100 crore in \n",
              "<mark class=\"entity\" style=\"background: orange; padding: 0.45em 0.6em; margin: 0 0.25em; line-height: 1; border-radius: 0.35em; box-decoration-break: clone; -webkit-box-decoration-break: clone\">\n",
              "    Karnataka\n",
              "    <span style=\"font-size: 0.8em; font-weight: bold; line-height: 1; border-radius: 0.35em; text-transform: uppercase; vertical-align: middle; margin-left: 0.5rem\">GPE</span>\n",
              "</mark>\n",
              " and ₹800 crore in \n",
              "<mark class=\"entity\" style=\"background: orange; padding: 0.45em 0.6em; margin: 0 0.25em; line-height: 1; border-radius: 0.35em; box-decoration-break: clone; -webkit-box-decoration-break: clone\">\n",
              "    Kerala\n",
              "    <span style=\"font-size: 0.8em; font-weight: bold; line-height: 1; border-radius: 0.35em; text-transform: uppercase; vertical-align: middle; margin-left: 0.5rem\">GPE</span>\n",
              "</mark>\n",
              ".</br>Farmers cultivating short term crop such as ginger were relieved when they received good pre-monsoon showers in \n",
              "<mark class=\"entity\" style=\"background: yellow; padding: 0.45em 0.6em; margin: 0 0.25em; line-height: 1; border-radius: 0.35em; box-decoration-break: clone; -webkit-box-decoration-break: clone\">\n",
              "    April\n",
              "    <span style=\"font-size: 0.8em; font-weight: bold; line-height: 1; border-radius: 0.35em; text-transform: uppercase; vertical-align: middle; margin-left: 0.5rem\">DATE</span>\n",
              "</mark>\n",
              ". But ginger farms in \n",
              "<mark class=\"entity\" style=\"background: orange; padding: 0.45em 0.6em; margin: 0 0.25em; line-height: 1; border-radius: 0.35em; box-decoration-break: clone; -webkit-box-decoration-break: clone\">\n",
              "    Kerala\n",
              "    <span style=\"font-size: 0.8em; font-weight: bold; line-height: 1; border-radius: 0.35em; text-transform: uppercase; vertical-align: middle; margin-left: 0.5rem\">GPE</span>\n",
              "</mark>\n",
              " and \n",
              "<mark class=\"entity\" style=\"background: orange; padding: 0.45em 0.6em; margin: 0 0.25em; line-height: 1; border-radius: 0.35em; box-decoration-break: clone; -webkit-box-decoration-break: clone\">\n",
              "    Karnataka\n",
              "    <span style=\"font-size: 0.8em; font-weight: bold; line-height: 1; border-radius: 0.35em; text-transform: uppercase; vertical-align: middle; margin-left: 0.5rem\">GPE</span>\n",
              "</mark>\n",
              " submerging in floods starting \n",
              "<mark class=\"entity\" style=\"background: yellow; padding: 0.45em 0.6em; margin: 0 0.25em; line-height: 1; border-radius: 0.35em; box-decoration-break: clone; -webkit-box-decoration-break: clone\">\n",
              "    June\n",
              "    <span style=\"font-size: 0.8em; font-weight: bold; line-height: 1; border-radius: 0.35em; text-transform: uppercase; vertical-align: middle; margin-left: 0.5rem\">DATE</span>\n",
              "</mark>\n",
              " has dampened their hopes. Ginger rhizomes have since been affected by the soft rot disease. Heavy rains in ginger growing regions of Mysuru, Coorg, Chikkamagaluru, Hassan and Shimoga districts in \n",
              "<mark class=\"entity\" style=\"background: orange; padding: 0.45em 0.6em; margin: 0 0.25em; line-height: 1; border-radius: 0.35em; box-decoration-break: clone; -webkit-box-decoration-break: clone\">\n",
              "    Karnataka\n",
              "    <span style=\"font-size: 0.8em; font-weight: bold; line-height: 1; border-radius: 0.35em; text-transform: uppercase; vertical-align: middle; margin-left: 0.5rem\">GPE</span>\n",
              "</mark>\n",
              " and Wayanad, Palakkad, Pathanamthitta and Idukki districts in \n",
              "<mark class=\"entity\" style=\"background: orange; padding: 0.45em 0.6em; margin: 0 0.25em; line-height: 1; border-radius: 0.35em; box-decoration-break: clone; -webkit-box-decoration-break: clone\">\n",
              "    Kerala\n",
              "    <span style=\"font-size: 0.8em; font-weight: bold; line-height: 1; border-radius: 0.35em; text-transform: uppercase; vertical-align: middle; margin-left: 0.5rem\">GPE</span>\n",
              "</mark>\n",
              " in \n",
              "<mark class=\"entity\" style=\"background: yellow; padding: 0.45em 0.6em; margin: 0 0.25em; line-height: 1; border-radius: 0.35em; box-decoration-break: clone; -webkit-box-decoration-break: clone\">\n",
              "    June\n",
              "    <span style=\"font-size: 0.8em; font-weight: bold; line-height: 1; border-radius: 0.35em; text-transform: uppercase; vertical-align: middle; margin-left: 0.5rem\">DATE</span>\n",
              "</mark>\n",
              " flooded the fields.</br>“I have spent nearly ₹50 lakh to cultivate ginger on 10 acres of leased land but I am not sure if I can recoup even a quarter of the expense,” said Manjunath, a farmer at Kushalnagar in Coorg.</br>The rains wiped out ginger rhizomes on almost 5,000 hectares in \n",
              "<mark class=\"entity\" style=\"background: orange; padding: 0.45em 0.6em; margin: 0 0.25em; line-height: 1; border-radius: 0.35em; box-decoration-break: clone; -webkit-box-decoration-break: clone\">\n",
              "    Karnataka\n",
              "    <span style=\"font-size: 0.8em; font-weight: bold; line-height: 1; border-radius: 0.35em; text-transform: uppercase; vertical-align: middle; margin-left: 0.5rem\">GPE</span>\n",
              "</mark>\n",
              " and 2,500 hectares in \n",
              "<mark class=\"entity\" style=\"background: orange; padding: 0.45em 0.6em; margin: 0 0.25em; line-height: 1; border-radius: 0.35em; box-decoration-break: clone; -webkit-box-decoration-break: clone\">\n",
              "    Kerala\n",
              "    <span style=\"font-size: 0.8em; font-weight: bold; line-height: 1; border-radius: 0.35em; text-transform: uppercase; vertical-align: middle; margin-left: 0.5rem\">GPE</span>\n",
              "</mark>\n",
              ", Navrang Mohanan, president, South Indian Ginger Growers’ Association told The Hindu.</br>Impact on pepper</br>“Torrential rains have washed off black pepper vines in many parts of the two \n",
              "<mark class=\"entity\" style=\"background: orange; padding: 0.45em 0.6em; margin: 0 0.25em; line-height: 1; border-radius: 0.35em; box-decoration-break: clone; -webkit-box-decoration-break: clone\">\n",
              "    States\n",
              "    <span style=\"font-size: 0.8em; font-weight: bold; line-height: 1; border-radius: 0.35em; text-transform: uppercase; vertical-align: middle; margin-left: 0.5rem\">GPE</span>\n",
              "</mark>\n",
              ". This will adversely affect pepper production in \n",
              "<mark class=\"entity\" style=\"background: yellow; padding: 0.45em 0.6em; margin: 0 0.25em; line-height: 1; border-radius: 0.35em; box-decoration-break: clone; -webkit-box-decoration-break: clone\">\n",
              "    the coming season\n",
              "    <span style=\"font-size: 0.8em; font-weight: bold; line-height: 1; border-radius: 0.35em; text-transform: uppercase; vertical-align: middle; margin-left: 0.5rem\">DATE</span>\n",
              "</mark>\n",
              ",” Kishore Shamji Kuruwa, Cochin Chapter head, Indian Pepper and Spice Traders, Farmers, Producers and Planters Consortium, said.</br>“High moisture content owing to [the] rains has triggered fungal diseases like quick wilt and soft wilt.” Pepper production may fall 40-50% \n",
              "<mark class=\"entity\" style=\"background: yellow; padding: 0.45em 0.6em; margin: 0 0.25em; line-height: 1; border-radius: 0.35em; box-decoration-break: clone; -webkit-box-decoration-break: clone\">\n",
              "    next season\n",
              "    <span style=\"font-size: 0.8em; font-weight: bold; line-height: 1; border-radius: 0.35em; text-transform: uppercase; vertical-align: middle; margin-left: 0.5rem\">DATE</span>\n",
              "</mark>\n",
              ", he added.</br>Cardamom plants cultivated on hundreds of acres have been destroyed even as \n",
              "<mark class=\"entity\" style=\"background: yellow; padding: 0.45em 0.6em; margin: 0 0.25em; line-height: 1; border-radius: 0.35em; box-decoration-break: clone; -webkit-box-decoration-break: clone\">\n",
              "    the cardamom season\n",
              "    <span style=\"font-size: 0.8em; font-weight: bold; line-height: 1; border-radius: 0.35em; text-transform: uppercase; vertical-align: middle; margin-left: 0.5rem\">DATE</span>\n",
              "</mark>\n",
              " has just begun. K.S. Mathew, president, Vandanmedu Green Gold Cardamom farmer Producer Company in Idukki said there would be a 30%-40% fall in total production this season .</br>The floods have also hit nutmeg, a promising crop gaining popularity in \n",
              "<mark class=\"entity\" style=\"background: orange; padding: 0.45em 0.6em; margin: 0 0.25em; line-height: 1; border-radius: 0.35em; box-decoration-break: clone; -webkit-box-decoration-break: clone\">\n",
              "    Kerala\n",
              "    <span style=\"font-size: 0.8em; font-weight: bold; line-height: 1; border-radius: 0.35em; text-transform: uppercase; vertical-align: middle; margin-left: 0.5rem\">GPE</span>\n",
              "</mark>\n",
              ". Close to 80% of the 22,070 hectares of land used for cultivation were also affected.</br>The Coffee Board has launched a comprehensive calamity survey to assess the loss in the coffee sector, including crop loss, damage to plants, green berry dropping and shedding of berries owing to black rot disease, due to the flood, M. Karutha Mani, deputy director, Coffee Board (Extension) said.</br>However coffee industry sources said ‘Arabica’ coffee production is likely to fall about 30% and the Robusta variety by about 20% in the country in \n",
              "<mark class=\"entity\" style=\"background: yellow; padding: 0.45em 0.6em; margin: 0 0.25em; line-height: 1; border-radius: 0.35em; box-decoration-break: clone; -webkit-box-decoration-break: clone\">\n",
              "    2018-19\n",
              "    <span style=\"font-size: 0.8em; font-weight: bold; line-height: 1; border-radius: 0.35em; text-transform: uppercase; vertical-align: middle; margin-left: 0.5rem\">DATE</span>\n",
              "</mark>\n",
              " owing to the flooding and landslips in major coffee growing areas.</br>Tea production in \n",
              "<mark class=\"entity\" style=\"background: yellow; padding: 0.45em 0.6em; margin: 0 0.25em; line-height: 1; border-radius: 0.35em; box-decoration-break: clone; -webkit-box-decoration-break: clone\">\n",
              "    July\n",
              "    <span style=\"font-size: 0.8em; font-weight: bold; line-height: 1; border-radius: 0.35em; text-transform: uppercase; vertical-align: middle; margin-left: 0.5rem\">DATE</span>\n",
              "</mark>\n",
              " and \n",
              "<mark class=\"entity\" style=\"background: yellow; padding: 0.45em 0.6em; margin: 0 0.25em; line-height: 1; border-radius: 0.35em; box-decoration-break: clone; -webkit-box-decoration-break: clone\">\n",
              "    August\n",
              "    <span style=\"font-size: 0.8em; font-weight: bold; line-height: 1; border-radius: 0.35em; text-transform: uppercase; vertical-align: middle; margin-left: 0.5rem\">DATE</span>\n",
              "</mark>\n",
              " is expected to be very low because of the rains in most growing regions, Tea Board sources said.</div>"
            ],
            "text/plain": [
              "<IPython.core.display.HTML object>"
            ]
          },
          "metadata": {
            "tags": []
          }
        },
        {
          "output_type": "stream",
          "text": [
            "['India', 'Murugan', 'Santhan', 'Sriperumbudur']\n",
            "['Friday', 'today', 'April 18', '27 years', '2015', '1991', 'April', 'March', '19', 'weeks', '14 years', '2014', '2014']\n"
          ],
          "name": "stdout"
        },
        {
          "output_type": "display_data",
          "data": {
            "text/html": [
              "<div class=\"entities\" style=\"line-height: 2.5; direction: ltr\">The seven assassination convicts of Rajiv Gandhi, who are jailed in Tamil Nadu cannot be released, the Indian government told the Supreme Court on \n",
              "<mark class=\"entity\" style=\"background: yellow; padding: 0.45em 0.6em; margin: 0 0.25em; line-height: 1; border-radius: 0.35em; box-decoration-break: clone; -webkit-box-decoration-break: clone\">\n",
              "    Friday\n",
              "    <span style=\"font-size: 0.8em; font-weight: bold; line-height: 1; border-radius: 0.35em; text-transform: uppercase; vertical-align: middle; margin-left: 0.5rem\">DATE</span>\n",
              "</mark>\n",
              " asserting that the case involves the assassination of a former Prime Minister, the NDTV said \n",
              "<mark class=\"entity\" style=\"background: yellow; padding: 0.45em 0.6em; margin: 0 0.25em; line-height: 1; border-radius: 0.35em; box-decoration-break: clone; -webkit-box-decoration-break: clone\">\n",
              "    today\n",
              "    <span style=\"font-size: 0.8em; font-weight: bold; line-height: 1; border-radius: 0.35em; text-transform: uppercase; vertical-align: middle; margin-left: 0.5rem\">DATE</span>\n",
              "</mark>\n",
              ".</br>The Central Bureau of Investigation (CBI) of \n",
              "<mark class=\"entity\" style=\"background: orange; padding: 0.45em 0.6em; margin: 0 0.25em; line-height: 1; border-radius: 0.35em; box-decoration-break: clone; -webkit-box-decoration-break: clone\">\n",
              "    India\n",
              "    <span style=\"font-size: 0.8em; font-weight: bold; line-height: 1; border-radius: 0.35em; text-transform: uppercase; vertical-align: middle; margin-left: 0.5rem\">GPE</span>\n",
              "</mark>\n",
              ", which investigated the case, has opposed the release of the seven convicts, the court was told.</br>Tamil Nadu had been informed of the decision on \n",
              "<mark class=\"entity\" style=\"background: yellow; padding: 0.45em 0.6em; margin: 0 0.25em; line-height: 1; border-radius: 0.35em; box-decoration-break: clone; -webkit-box-decoration-break: clone\">\n",
              "    April 18\n",
              "    <span style=\"font-size: 0.8em; font-weight: bold; line-height: 1; border-radius: 0.35em; text-transform: uppercase; vertical-align: middle; margin-left: 0.5rem\">DATE</span>\n",
              "</mark>\n",
              ", the centre told the court. The seven convicts had been in jail for \n",
              "<mark class=\"entity\" style=\"background: yellow; padding: 0.45em 0.6em; margin: 0 0.25em; line-height: 1; border-radius: 0.35em; box-decoration-break: clone; -webkit-box-decoration-break: clone\">\n",
              "    27 years\n",
              "    <span style=\"font-size: 0.8em; font-weight: bold; line-height: 1; border-radius: 0.35em; text-transform: uppercase; vertical-align: middle; margin-left: 0.5rem\">DATE</span>\n",
              "</mark>\n",
              ".</br>The court had asked the centre to decide and respond to Tamil Nadu's request to release them. A constitution bench of top Supreme Court judges had said in \n",
              "<mark class=\"entity\" style=\"background: yellow; padding: 0.45em 0.6em; margin: 0 0.25em; line-height: 1; border-radius: 0.35em; box-decoration-break: clone; -webkit-box-decoration-break: clone\">\n",
              "    2015\n",
              "    <span style=\"font-size: 0.8em; font-weight: bold; line-height: 1; border-radius: 0.35em; text-transform: uppercase; vertical-align: middle; margin-left: 0.5rem\">DATE</span>\n",
              "</mark>\n",
              " that the convicts cannot be released without the central government's consent.</br>The convicts, Perarivalan, \n",
              "<mark class=\"entity\" style=\"background: orange; padding: 0.45em 0.6em; margin: 0 0.25em; line-height: 1; border-radius: 0.35em; box-decoration-break: clone; -webkit-box-decoration-break: clone\">\n",
              "    Murugan\n",
              "    <span style=\"font-size: 0.8em; font-weight: bold; line-height: 1; border-radius: 0.35em; text-transform: uppercase; vertical-align: middle; margin-left: 0.5rem\">GPE</span>\n",
              "</mark>\n",
              ", \n",
              "<mark class=\"entity\" style=\"background: orange; padding: 0.45em 0.6em; margin: 0 0.25em; line-height: 1; border-radius: 0.35em; box-decoration-break: clone; -webkit-box-decoration-break: clone\">\n",
              "    Santhan\n",
              "    <span style=\"font-size: 0.8em; font-weight: bold; line-height: 1; border-radius: 0.35em; text-transform: uppercase; vertical-align: middle; margin-left: 0.5rem\">GPE</span>\n",
              "</mark>\n",
              ", Nalini Sriharan, Robert Pious, Jayakumar and Ravichandran, are serving life terms. Rajiv Gandhi was assassinated in \n",
              "<mark class=\"entity\" style=\"background: yellow; padding: 0.45em 0.6em; margin: 0 0.25em; line-height: 1; border-radius: 0.35em; box-decoration-break: clone; -webkit-box-decoration-break: clone\">\n",
              "    1991\n",
              "    <span style=\"font-size: 0.8em; font-weight: bold; line-height: 1; border-radius: 0.35em; text-transform: uppercase; vertical-align: middle; margin-left: 0.5rem\">DATE</span>\n",
              "</mark>\n",
              " by a woman operative of the LTTE, who greeted him at a rally in \n",
              "<mark class=\"entity\" style=\"background: orange; padding: 0.45em 0.6em; margin: 0 0.25em; line-height: 1; border-radius: 0.35em; box-decoration-break: clone; -webkit-box-decoration-break: clone\">\n",
              "    Sriperumbudur\n",
              "    <span style=\"font-size: 0.8em; font-weight: bold; line-height: 1; border-radius: 0.35em; text-transform: uppercase; vertical-align: middle; margin-left: 0.5rem\">GPE</span>\n",
              "</mark>\n",
              " town with a bomb strapped to her chest.</br>In \n",
              "<mark class=\"entity\" style=\"background: yellow; padding: 0.45em 0.6em; margin: 0 0.25em; line-height: 1; border-radius: 0.35em; box-decoration-break: clone; -webkit-box-decoration-break: clone\">\n",
              "    April\n",
              "    <span style=\"font-size: 0.8em; font-weight: bold; line-height: 1; border-radius: 0.35em; text-transform: uppercase; vertical-align: middle; margin-left: 0.5rem\">DATE</span>\n",
              "</mark>\n",
              ", the Madras High Court rejected Nalini Sriharan's request for early release. Her death sentence had been commuted on the request of Congress leader Sonia, the wife of Rajiv Gandhi.</br>Another convict, Perarivalan, had requested that the case be reopened and his conviction be cancelled. The Supreme Court rejected it in \n",
              "<mark class=\"entity\" style=\"background: yellow; padding: 0.45em 0.6em; margin: 0 0.25em; line-height: 1; border-radius: 0.35em; box-decoration-break: clone; -webkit-box-decoration-break: clone\">\n",
              "    March\n",
              "    <span style=\"font-size: 0.8em; font-weight: bold; line-height: 1; border-radius: 0.35em; text-transform: uppercase; vertical-align: middle; margin-left: 0.5rem\">DATE</span>\n",
              "</mark>\n",
              ".</br>Perarivalan was convicted for supplying two nine-volt batteries for the belt-bomb. He was \n",
              "<mark class=\"entity\" style=\"background: yellow; padding: 0.45em 0.6em; margin: 0 0.25em; line-height: 1; border-radius: 0.35em; box-decoration-break: clone; -webkit-box-decoration-break: clone\">\n",
              "    19\n",
              "    <span style=\"font-size: 0.8em; font-weight: bold; line-height: 1; border-radius: 0.35em; text-transform: uppercase; vertical-align: middle; margin-left: 0.5rem\">DATE</span>\n",
              "</mark>\n",
              " when he was arrested \n",
              "<mark class=\"entity\" style=\"background: yellow; padding: 0.45em 0.6em; margin: 0 0.25em; line-height: 1; border-radius: 0.35em; box-decoration-break: clone; -webkit-box-decoration-break: clone\">\n",
              "    weeks\n",
              "    <span style=\"font-size: 0.8em; font-weight: bold; line-height: 1; border-radius: 0.35em; text-transform: uppercase; vertical-align: middle; margin-left: 0.5rem\">DATE</span>\n",
              "</mark>\n",
              " after the assassination. He told a court that he had no idea what the batteries were for.</br>Perarivalan spent \n",
              "<mark class=\"entity\" style=\"background: yellow; padding: 0.45em 0.6em; margin: 0 0.25em; line-height: 1; border-radius: 0.35em; box-decoration-break: clone; -webkit-box-decoration-break: clone\">\n",
              "    14 years\n",
              "    <span style=\"font-size: 0.8em; font-weight: bold; line-height: 1; border-radius: 0.35em; text-transform: uppercase; vertical-align: middle; margin-left: 0.5rem\">DATE</span>\n",
              "</mark>\n",
              " in solitary confinement after being sentenced to hang. His death sentence was changed to life term by the Supreme Court in \n",
              "<mark class=\"entity\" style=\"background: yellow; padding: 0.45em 0.6em; margin: 0 0.25em; line-height: 1; border-radius: 0.35em; box-decoration-break: clone; -webkit-box-decoration-break: clone\">\n",
              "    2014\n",
              "    <span style=\"font-size: 0.8em; font-weight: bold; line-height: 1; border-radius: 0.35em; text-transform: uppercase; vertical-align: middle; margin-left: 0.5rem\">DATE</span>\n",
              "</mark>\n",
              ".</br>Congress president Rahul Gandhi, the son of Rajiv Gandhi, had said he had no objection to Perarivalan's release, a Tamil film director, PA Ranjith, was quoted as saying recently.</br>In \n",
              "<mark class=\"entity\" style=\"background: yellow; padding: 0.45em 0.6em; margin: 0 0.25em; line-height: 1; border-radius: 0.35em; box-decoration-break: clone; -webkit-box-decoration-break: clone\">\n",
              "    2014\n",
              "    <span style=\"font-size: 0.8em; font-weight: bold; line-height: 1; border-radius: 0.35em; text-transform: uppercase; vertical-align: middle; margin-left: 0.5rem\">DATE</span>\n",
              "</mark>\n",
              ", then Chief Minister J Jayalalithaa decided to release the convicts but the centre - the Congress-led government was in power - challenged her decision. The Supreme Court then said the state could not take such a decision without the centre's sanction, as the case was investigated by the CBI.</div>"
            ],
            "text/plain": [
              "<IPython.core.display.HTML object>"
            ]
          },
          "metadata": {
            "tags": []
          }
        },
        {
          "output_type": "stream",
          "text": [
            "['Telangana', 'Punjab', 'Delhi']\n",
            "['Monday']\n"
          ],
          "name": "stdout"
        },
        {
          "output_type": "display_data",
          "data": {
            "text/html": [
              "<div class=\"entities\" style=\"line-height: 2.5; direction: ltr\">The State government would encourage organic farming by framing a suitable policy to help farmers get good price for their produce in the market, Minister for Agriculture Pocharam Srinivas Reddy said here on \n",
              "<mark class=\"entity\" style=\"background: yellow; padding: 0.45em 0.6em; margin: 0 0.25em; line-height: 1; border-radius: 0.35em; box-decoration-break: clone; -webkit-box-decoration-break: clone\">\n",
              "    Monday\n",
              "    <span style=\"font-size: 0.8em; font-weight: bold; line-height: 1; border-radius: 0.35em; text-transform: uppercase; vertical-align: middle; margin-left: 0.5rem\">DATE</span>\n",
              "</mark>\n",
              ".</br>Stating that good price to organic farm produce would make more and more farmers take up environment-friendly organic farming, he announced that the government would also plan super markets at suitable places to make the organic produce available to consumers.</br>Speaking after launching the certification of organic products by Telangana State Seed and Organic Certification Authority (TSSOCA) after it was accredited by Agricultural and Processed Food Products Export Development Authority (APEDA), the Minister said food produced without the use of chemicals, growing of trees and safe drinking water to be given under Mission Bhagiratha would keep many diseases away from people in the State. Terming the farmers practising organic farming as a special community, the Minister said there is a huge difference in the quality of food crops grown in organic method compared to crops cultivated by using chemical fertilizer, pesticides and micro-nutrients. On the accreditation secured by TSSOCA for certifying organic products, Mr. Reddy said \n",
              "<mark class=\"entity\" style=\"background: orange; padding: 0.45em 0.6em; margin: 0 0.25em; line-height: 1; border-radius: 0.35em; box-decoration-break: clone; -webkit-box-decoration-break: clone\">\n",
              "    Telangana\n",
              "    <span style=\"font-size: 0.8em; font-weight: bold; line-height: 1; border-radius: 0.35em; text-transform: uppercase; vertical-align: middle; margin-left: 0.5rem\">GPE</span>\n",
              "</mark>\n",
              " is ninth State government agency in the country to get such status and added that farmers would get good price for their organic produce only if it is certified. He said farmers in Sikkim do not use even a spoon of chemical fertilizer, and the PM announced that State as 100% organic State.</br>Explaining the impact of chemicals on food products, he stated that the number of people suffering with cancer used to be very less in the past but with the increase in the indiscriminate use of chemicals in farming had swelled the incidence of cancer.</br>Stating that \n",
              "<mark class=\"entity\" style=\"background: orange; padding: 0.45em 0.6em; margin: 0 0.25em; line-height: 1; border-radius: 0.35em; box-decoration-break: clone; -webkit-box-decoration-break: clone\">\n",
              "    Punjab\n",
              "    <span style=\"font-size: 0.8em; font-weight: bold; line-height: 1; border-radius: 0.35em; text-transform: uppercase; vertical-align: middle; margin-left: 0.5rem\">GPE</span>\n",
              "</mark>\n",
              " was the State with the highest use of chemicals in agriculture in the country, the Agriculture Minister said that State Government runs a special train to facilitate cancer patients' visit to \n",
              "<mark class=\"entity\" style=\"background: orange; padding: 0.45em 0.6em; margin: 0 0.25em; line-height: 1; border-radius: 0.35em; box-decoration-break: clone; -webkit-box-decoration-break: clone\">\n",
              "    Delhi\n",
              "    <span style=\"font-size: 0.8em; font-weight: bold; line-height: 1; border-radius: 0.35em; text-transform: uppercase; vertical-align: middle; margin-left: 0.5rem\">GPE</span>\n",
              "</mark>\n",
              " for treatment. Telangana is the second highest chemical fertilizer using State in the country, he noted.</br>Principal Secretary (Agriculture) C. Parthasarathi, Commissioner of Agriculture M. Jaganmohan, Commissioner of Horticulture L. Venkatrami Reddy, Director of TSSOCA K. Keshavulu and organic farmers from different parts of the State attended the event. Several farmers narrated their success in organic farming.</div>"
            ],
            "text/plain": [
              "<IPython.core.display.HTML object>"
            ]
          },
          "metadata": {
            "tags": []
          }
        },
        {
          "output_type": "stream",
          "text": [
            "['Imlipura', \"Madhya Pradesh's\", 'Imlipura']\n",
            "['today', 'today']\n"
          ],
          "name": "stdout"
        },
        {
          "output_type": "display_data",
          "data": {
            "text/html": [
              "<div class=\"entities\" style=\"line-height: 2.5; direction: ltr\">Three persons have been detained after police found 10 dead cows in an abattoir in \n",
              "<mark class=\"entity\" style=\"background: orange; padding: 0.45em 0.6em; margin: 0 0.25em; line-height: 1; border-radius: 0.35em; box-decoration-break: clone; -webkit-box-decoration-break: clone\">\n",
              "    Imlipura\n",
              "    <span style=\"font-size: 0.8em; font-weight: bold; line-height: 1; border-radius: 0.35em; text-transform: uppercase; vertical-align: middle; margin-left: 0.5rem\">GPE</span>\n",
              "</mark>\n",
              " area of \n",
              "<mark class=\"entity\" style=\"background: orange; padding: 0.45em 0.6em; margin: 0 0.25em; line-height: 1; border-radius: 0.35em; box-decoration-break: clone; -webkit-box-decoration-break: clone\">\n",
              "    Madhya Pradesh's\n",
              "    <span style=\"font-size: 0.8em; font-weight: bold; line-height: 1; border-radius: 0.35em; text-transform: uppercase; vertical-align: middle; margin-left: 0.5rem\">GPE</span>\n",
              "</mark>\n",
              " Khandwa district, a senior official said \n",
              "<mark class=\"entity\" style=\"background: yellow; padding: 0.45em 0.6em; margin: 0 0.25em; line-height: 1; border-radius: 0.35em; box-decoration-break: clone; -webkit-box-decoration-break: clone\">\n",
              "    today\n",
              "    <span style=\"font-size: 0.8em; font-weight: bold; line-height: 1; border-radius: 0.35em; text-transform: uppercase; vertical-align: middle; margin-left: 0.5rem\">DATE</span>\n",
              "</mark>\n",
              ".</br>The official said that the meat recovered was being sent for testing and further action against the three would be initiated after the test reports come in.</br>The three were detained after police acted on a tip-off and raided a slaughterhouse in \n",
              "<mark class=\"entity\" style=\"background: orange; padding: 0.45em 0.6em; margin: 0 0.25em; line-height: 1; border-radius: 0.35em; box-decoration-break: clone; -webkit-box-decoration-break: clone\">\n",
              "    Imlipura\n",
              "    <span style=\"font-size: 0.8em; font-weight: bold; line-height: 1; border-radius: 0.35em; text-transform: uppercase; vertical-align: middle; margin-left: 0.5rem\">GPE</span>\n",
              "</mark>\n",
              " in the morning \n",
              "<mark class=\"entity\" style=\"background: yellow; padding: 0.45em 0.6em; margin: 0 0.25em; line-height: 1; border-radius: 0.35em; box-decoration-break: clone; -webkit-box-decoration-break: clone\">\n",
              "    today\n",
              "    <span style=\"font-size: 0.8em; font-weight: bold; line-height: 1; border-radius: 0.35em; text-transform: uppercase; vertical-align: middle; margin-left: 0.5rem\">DATE</span>\n",
              "</mark>\n",
              ".</br>&quot;Ten dead cows and nine live ones were found in the slaughterhouse and adjoining godowns and houses. The meat that was recovered during the raid has been sent for testing,&quot; said Superintendent of Police Ruchi Vardhan Mishra.</br>She said a case under the Madhya Pradesh Prohibition of Cow Slaughter Act 2004 would be taken based on further probe into the incident.</br>(This story has not been edited by Business Standard staff and is auto-generated from a syndicated feed.)</div>"
            ],
            "text/plain": [
              "<IPython.core.display.HTML object>"
            ]
          },
          "metadata": {
            "tags": []
          }
        },
        {
          "output_type": "stream",
          "text": [
            "['India', 'US', 'Kerala', 'India', 'Thiruvananthapuram', 'Kerala', 'US']\n",
            "['the next few days', 'next Wednesday']\n"
          ],
          "name": "stdout"
        },
        {
          "output_type": "display_data",
          "data": {
            "text/html": [
              "<div class=\"entities\" style=\"line-height: 2.5; direction: ltr\">Source: Deutsche Welle Country: \n",
              "<mark class=\"entity\" style=\"background: orange; padding: 0.45em 0.6em; margin: 0 0.25em; line-height: 1; border-radius: 0.35em; box-decoration-break: clone; -webkit-box-decoration-break: clone\">\n",
              "    India\n",
              "    <span style=\"font-size: 0.8em; font-weight: bold; line-height: 1; border-radius: 0.35em; text-transform: uppercase; vertical-align: middle; margin-left: 0.5rem\">GPE</span>\n",
              "</mark>\n",
              "</br>Torrential rains and landslides have forced over 30,000 people to take shelter in the southern state. The \n",
              "<mark class=\"entity\" style=\"background: orange; padding: 0.45em 0.6em; margin: 0 0.25em; line-height: 1; border-radius: 0.35em; box-decoration-break: clone; -webkit-box-decoration-break: clone\">\n",
              "    US\n",
              "    <span style=\"font-size: 0.8em; font-weight: bold; line-height: 1; border-radius: 0.35em; text-transform: uppercase; vertical-align: middle; margin-left: 0.5rem\">GPE</span>\n",
              "</mark>\n",
              " embassy has advised citizens to avoid the areas due to be hit by more heavy rain over \n",
              "<mark class=\"entity\" style=\"background: yellow; padding: 0.45em 0.6em; margin: 0 0.25em; line-height: 1; border-radius: 0.35em; box-decoration-break: clone; -webkit-box-decoration-break: clone\">\n",
              "    the next few days\n",
              "    <span style=\"font-size: 0.8em; font-weight: bold; line-height: 1; border-radius: 0.35em; text-transform: uppercase; vertical-align: middle; margin-left: 0.5rem\">DATE</span>\n",
              "</mark>\n",
              ".</br>Flash floods in the southern Indian state of \n",
              "<mark class=\"entity\" style=\"background: orange; padding: 0.45em 0.6em; margin: 0 0.25em; line-height: 1; border-radius: 0.35em; box-decoration-break: clone; -webkit-box-decoration-break: clone\">\n",
              "    Kerala\n",
              "    <span style=\"font-size: 0.8em; font-weight: bold; line-height: 1; border-radius: 0.35em; text-transform: uppercase; vertical-align: middle; margin-left: 0.5rem\">GPE</span>\n",
              "</mark>\n",
              " have killed at least 37 people, prompting authorities to place eight of the state's districts on high alert.</br>Torrential rains and landslides during \n",
              "<mark class=\"entity\" style=\"background: orange; padding: 0.45em 0.6em; margin: 0 0.25em; line-height: 1; border-radius: 0.35em; box-decoration-break: clone; -webkit-box-decoration-break: clone\">\n",
              "    India\n",
              "    <span style=\"font-size: 0.8em; font-weight: bold; line-height: 1; border-radius: 0.35em; text-transform: uppercase; vertical-align: middle; margin-left: 0.5rem\">GPE</span>\n",
              "</mark>\n",
              "'s ongoing monsoon season have forced over 30,000 people to take shelter in rescue camps, according to the Kerala State Disaster Management Authority's (KSDMA) control room in state capital \n",
              "<mark class=\"entity\" style=\"background: orange; padding: 0.45em 0.6em; margin: 0 0.25em; line-height: 1; border-radius: 0.35em; box-decoration-break: clone; -webkit-box-decoration-break: clone\">\n",
              "    Thiruvananthapuram\n",
              "    <span style=\"font-size: 0.8em; font-weight: bold; line-height: 1; border-radius: 0.35em; text-transform: uppercase; vertical-align: middle; margin-left: 0.5rem\">GPE</span>\n",
              "</mark>\n",
              ".</br>The army has been called in to help with rescue efforts in \n",
              "<mark class=\"entity\" style=\"background: orange; padding: 0.45em 0.6em; margin: 0 0.25em; line-height: 1; border-radius: 0.35em; box-decoration-break: clone; -webkit-box-decoration-break: clone\">\n",
              "    Kerala\n",
              "    <span style=\"font-size: 0.8em; font-weight: bold; line-height: 1; border-radius: 0.35em; text-transform: uppercase; vertical-align: middle; margin-left: 0.5rem\">GPE</span>\n",
              "</mark>\n",
              ", popular among tourists for its pristine, palm-lined beaches, backwaters and traditional medical therapies.</br>The \n",
              "<mark class=\"entity\" style=\"background: orange; padding: 0.45em 0.6em; margin: 0 0.25em; line-height: 1; border-radius: 0.35em; box-decoration-break: clone; -webkit-box-decoration-break: clone\">\n",
              "    US\n",
              "    <span style=\"font-size: 0.8em; font-weight: bold; line-height: 1; border-radius: 0.35em; text-transform: uppercase; vertical-align: middle; margin-left: 0.5rem\">GPE</span>\n",
              "</mark>\n",
              " embassy has advised its citizens to avoid the affected districts and monitor local media for weather updates.</br>The weather department expects heavy rains to continue until \n",
              "<mark class=\"entity\" style=\"background: yellow; padding: 0.45em 0.6em; margin: 0 0.25em; line-height: 1; border-radius: 0.35em; box-decoration-break: clone; -webkit-box-decoration-break: clone\">\n",
              "    next Wednesday\n",
              "    <span style=\"font-size: 0.8em; font-weight: bold; line-height: 1; border-radius: 0.35em; text-transform: uppercase; vertical-align: middle; margin-left: 0.5rem\">DATE</span>\n",
              "</mark>\n",
              ", leaving the low-lying coastal areas particularly vulnerable.\n",
              "'Unprecedented flood[...]\n",
              "[Published in AidNews - Read the original article]</div>"
            ],
            "text/plain": [
              "<IPython.core.display.HTML object>"
            ]
          },
          "metadata": {
            "tags": []
          }
        }
      ]
    },
    {
      "cell_type": "code",
      "metadata": {
        "id": "fm0y42SSM2eL",
        "colab_type": "code",
        "colab": {}
      },
      "source": [
        ""
      ],
      "execution_count": 0,
      "outputs": []
    }
  ]
}