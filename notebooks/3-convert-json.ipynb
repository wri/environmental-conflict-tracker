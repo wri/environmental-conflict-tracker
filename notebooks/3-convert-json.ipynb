{
 "cells": [
  {
   "cell_type": "markdown",
   "metadata": {},
   "source": [
    "# 1 Introduction\n",
    "## 1.0 Package imports"
   ]
  },
  {
   "cell_type": "code",
   "execution_count": 1,
   "metadata": {},
   "outputs": [],
   "source": [
    "import numpy as np\n",
    "import pandas as pd\n",
    "import pickle\n",
    "import os\n",
    "import json\n",
    "from newsplease import NewsPlease\n",
    "from tqdm import tnrange"
   ]
  },
  {
   "cell_type": "markdown",
   "metadata": {},
   "source": [
    "# 2 Definitions\n",
    "\n",
    "## 2.0 Parameter definitions"
   ]
  },
  {
   "cell_type": "code",
   "execution_count": 2,
   "metadata": {},
   "outputs": [],
   "source": [
    "country = 'indonesia'\n",
    "year = 2017\n",
    "month = 1\n",
    "path = \"../data/{}/\".format(country)\n",
    "\n",
    "def set_params(country, year, month):\n",
    "    metadata_path = (path + \"metadata/\" + str(year) + \"/\"\n",
    "                     + str(month).zfill(2) + \".csv\")\n",
    "\n",
    "    fulltext_path = (path + \"text/\" + str(year) + \"/\"\n",
    "                     + str(month).zfill(2) + \"/\")\n",
    "\n",
    "    json_path = (path + \"json/\" + str(year) + \"/\"\n",
    "                     + str(month).zfill(2) + \"/\")\n",
    "    return metadata_path, fulltext_path, json_path\n",
    "\n",
    "metadata_path, fulltext_path, json_path = set_params(country, year, month)\n",
    "\n",
    "if not os.path.exists(json_path):\n",
    "    os.makedirs(json_path)\n",
    "\n",
    "cols_to_keep = ['Actor1Code', 'Actor1Name', 'Actor2Code', 'IsRootEvent', 'EventCode', 'CAMEOCodeDescription',\n",
    "                'EventRootCode', 'QuadClass', 'GoldsteinScale', 'NumMentions', 'AvgTone', 'ActionGeo_FullName',\n",
    "                'ActionGeo_Lat', 'ActionGeo_Long', 'SOURCEURL', 'title']"
   ]
  },
  {
   "cell_type": "markdown",
   "metadata": {},
   "source": [
    "## 2.1 Function definitions"
   ]
  },
  {
   "cell_type": "code",
   "execution_count": 3,
   "metadata": {},
   "outputs": [],
   "source": [
    "def load_obj(idx: int, path: str = fulltext_path) -> \"NewsPlease object\":\n",
    "    idx = str(idx).zfill(5)\n",
    "    with open(path + idx + \".pkl\", \"rb\") as f:\n",
    "        return pickle.load(f)\n",
    "    \n",
    "def save_obj(obj: dict, idx: int, path: str = json_path) -> None:\n",
    "    idx = str(idx).zfill(5)\n",
    "    with open(path + idx + \".pkl\", 'wb') as fp:\n",
    "         pickle.dump(obj, fp)\n",
    "    "
   ]
  },
  {
   "cell_type": "markdown",
   "metadata": {},
   "source": [
    "# 3 Execution\n",
    "\n",
    "Merge the `dataframe` row with the `NewsPlease` text to create a `JSON` object as such:\n",
    "\n",
    "```javascript\n",
    "{ \"id\": \"00001\",\n",
    "  \"country\": \"IN\",\n",
    "  \"url\": \"https://\",\n",
    "  \"date\": \"MM-DD-YYYY\",\n",
    "  \"full_text\": string,\n",
    "  \"article_title\": string,\n",
    "  \"number_actions\": int,\n",
    "  \"actions\": {\n",
    "      1: {'latitude', 'longitude', 'action_type', \"goldstein\", ...},\n",
    "      2: {'latitude', 'longitude', 'action_type', \"goldstein\", ...},\n",
    "      3: {'latitude', 'longitude', 'action_type', \"goldstein\", ...},\n",
    "          },\n",
    "  }\n",
    "```"
   ]
  },
  {
   "cell_type": "markdown",
   "metadata": {},
   "source": [
    "`mapping_dictionary` maps: `{ \"url_idx\": \"dataframe_idx\"}`, `url_idx.zfill(5)` is the file name of the NewsPlease article in the `texts` folder."
   ]
  },
  {
   "cell_type": "code",
   "execution_count": 44,
   "metadata": {},
   "outputs": [],
   "source": [
    "action_dict = dict(zip(cols_to_keep[:-2], [None] * (len(cols_to_keep) - 2)))\n",
    "\n",
    "base_dict = {\n",
    "    'id': None,\n",
    "    'country': None,\n",
    "    'url': None,\n",
    "    'full_text': None,\n",
    "    'article_title': None,\n",
    "    'number_actions': None,\n",
    "    'actions': dict()\n",
    "}\n",
    "\n",
    "def process_month(metadata_path, fulltext_path, json_path):\n",
    "    data = pd.read_csv(metadata_path)\n",
    "\n",
    "    urls = data['to_scrape'].unique()\n",
    "    mapping_dictionary = {}\n",
    "    for i, val in enumerate(urls):\n",
    "        match = data.index[data['to_scrape'] == urls[i]].tolist()\n",
    "        mapping_dictionary[i] = match \n",
    "\n",
    "    for i, val in enumerate(urls):\n",
    "        if os.path.exists(fulltext_path + str(i).zfill(5) + \".pkl\"):\n",
    "            #print(fulltext_path + str(i).zfill(5) + \".pkl\")\n",
    "            fulltext = load_obj(i, path = fulltext_path)\n",
    "            metadata = data.iloc[mapping_dictionary[i]]\n",
    "            metadata = metadata[cols_to_keep].reset_index()\n",
    "\n",
    "            item_dict = base_dict.copy()\n",
    "            item_dict['id'] = str(i).zfill(5)\n",
    "            item_dict['country'] = country\n",
    "            item_dict['url'] = fulltext.url\n",
    "            item_dict['article_title'] = fulltext.title\n",
    "            item_dict['date'] = fulltext.date_publish\n",
    "            item_dict['language'] = fulltext.language\n",
    "            item_dict['number_actions'] = len(metadata)\n",
    "            item_dict['text'] = fulltext.text\n",
    "\n",
    "            actions_dict = {}\n",
    "            for action in range(len(metadata)):\n",
    "                metadata_i = list(metadata.iloc[action][1:])\n",
    "                action_dict_i = dict(zip(cols_to_keep, metadata_i))\n",
    "                actions_dict[action] = action_dict_i\n",
    "\n",
    "            item_dict['actions'] = actions_dict\n",
    "            save_obj(item_dict, i, json_path)"
   ]
  },
  {
   "cell_type": "code",
   "execution_count": 45,
   "metadata": {},
   "outputs": [
    {
     "name": "stderr",
     "output_type": "stream",
     "text": [
      "/Users/john.brandt/anaconda3/lib/python3.7/site-packages/ipykernel_launcher.py:2: TqdmDeprecationWarning: Please use `tqdm.notebook.trange` instead of `tqdm.tnrange`\n",
      "  \n"
     ]
    },
    {
     "data": {
      "application/vnd.jupyter.widget-view+json": {
       "model_id": "5a719e34af9e4695a3c2f7e0be03a759",
       "version_major": 2,
       "version_minor": 0
      },
      "text/plain": [
       "HBox(children=(FloatProgress(value=0.0, max=11.0), HTML(value='')))"
      ]
     },
     "metadata": {},
     "output_type": "display_data"
    },
    {
     "name": "stdout",
     "output_type": "stream",
     "text": [
      "\n"
     ]
    },
    {
     "data": {
      "application/vnd.jupyter.widget-view+json": {
       "model_id": "fe21dabb720a40e2aa4309f1caffa051",
       "version_major": 2,
       "version_minor": 0
      },
      "text/plain": [
       "HBox(children=(FloatProgress(value=0.0, max=11.0), HTML(value='')))"
      ]
     },
     "metadata": {},
     "output_type": "display_data"
    },
    {
     "name": "stdout",
     "output_type": "stream",
     "text": [
      "\n"
     ]
    },
    {
     "data": {
      "application/vnd.jupyter.widget-view+json": {
       "model_id": "241f7a1f360f4762bb8324ff45c5b4f1",
       "version_major": 2,
       "version_minor": 0
      },
      "text/plain": [
       "HBox(children=(FloatProgress(value=0.0, max=11.0), HTML(value='')))"
      ]
     },
     "metadata": {},
     "output_type": "display_data"
    },
    {
     "name": "stdout",
     "output_type": "stream",
     "text": [
      "\n"
     ]
    }
   ],
   "source": [
    "for year in [2017, 2018, 2019]:\n",
    "    for month in tnrange(1, 12):\n",
    "        metadata_path, fulltext_path, json_path = set_params(country, year, month)\n",
    "        process_month(metadata_path, fulltext_path, json_path)\n"
   ]
  },
  {
   "cell_type": "code",
   "execution_count": 95,
   "metadata": {
    "scrolled": false
   },
   "outputs": [
    {
     "name": "stdout",
     "output_type": "stream",
     "text": [
      "{'id': '00475', 'country': 'brazil', 'url': 'http://www.dailymail.co.uk/news/article-4445800/Amazonian-protesters-hurl-spears-Brazilian-riot-police.html', 'full_text': None, 'article_title': 'Amazonian protesters hurl spears at Brazilian riot police', 'number_actions': 1, 'actions': {0: {'Actor1Code': 'BRA', 'Actor1Name': 'BRASILIA', 'Actor2Code': nan, 'IsRootEvent': 1, 'EventCode': 141, 'CAMEOCodeDescription': ' Demonstrate or rally', 'EventRootCode': 14, 'QuadClass': 3, 'GoldsteinScale': -6.5, 'NumMentions': 10, 'AvgTone': -8.91089108910891, 'ActionGeo_FullName': 'Amapa, MaranhãBR, Brazil', 'ActionGeo_Lat': -3.14056, 'ActionGeo_Long': -43.2933, 'SOURCEURL': 'http://www.dailymail.co.uk/news/article-4445800/Amazonian-protesters-hurl-spears-Brazilian-riot-police.html', 'title': 'Amazonian protesters hurl spears Brazilian riot police'}}, 'date': datetime.datetime(2017, 4, 26, 0, 58, 25), 'language': 'en', 'text': \"Advertisement\\nThousands of members of an indigenous Brazilian tribe are clashing with riot police, responding to tear gas with bows and arrows.\\nThe tribe is demonstrating in Brasilia for greater rights, and have been carrying coffins representing the indigenous dead in the take over of their ancestral lands. Some allegedly tried to break into the Congress building during the riots.\\nThe protest took place in what's dubbed Indigenous Week, a series of activities in the capital highlighting the tribes' many problems as they attempt to coexist with an ever expanding agricultural industry and try to enforce their land rights.\\nMany attended the protest dressed in traditional garb, including feathers and body paint.\\n'The coffins represent all the indigenous people from 305 ethic groups who have died over the years,' said Marize de Oliveira, 58 a historian of the Guarani people.\\n'The agricultural and evangelical lobby want to destroy our rights and turn Brazil into the world's breadbasket, ending biodiversity.'\\nProtesters said at least four people were arrested in the clash. Police did not provide details.\\n'The Indians did not comply with the agreement they made with police' about the boundaries of the protest, a police statement said. 'They were threatening to invade Congress.'\\nDemonstrators denied that, saying police were just looking for an excuse to remove them. They said that police had agreed the protesters could come close to the fountain and that the march was peaceful.\\n'Unfortunately, the brute force of the police caused this,' said Kleber Karipuna, a protester who came to Brasilia from the northern state of Amapa.\\n'It's natural that three thousand Indians are going to respond with spears and arrows.'\\nSonia Guajajara, a coordinator for the march, said some 4,000 indigenous people and supporters took part in the protest. She said the violent police response was nothing compared to that suffered by indigenous people in territories where deadly clashes continue over disputed land.\\nIt focused on legislation that would give the last word on deciding land boundaries for indigenous reservations to Congress, where a powerful farm lobby holds sway. Currently, Brazil's president retains the power to set such boundaries.\\nA member of an indigenous tribe in Brazil aims a slingshot at police during rioting and clashes in the capital on Tuesday\\nA police officer stands in front of his 4x4 and aims his gun at a tribe member, who in turn, aims his bow and arrow back at him\\nA Brazilian Indian in traditional headdress, appears to hold his hands in surrender to police as he confronts him during riots\\nLines of police form a blockade against the rows of thousands of indigenous people as they rally outside Brazil's national congress\\nTribe members in traditional costume and dress use traditional weaponry in a stand-off with police in Brasilia, during the annual march for rights\\nA man in traditional paint and costume, holding what appears to be an iPhone, shouts out as police surround him during the demonstration\\nOne of the demonstrators throws one of the coffins the protesters carried as a symbol of all the members of the tribe who have died\\nPolice in Brasilia, the capital of Brazil, stand together and keep their shields close as members of the tribe stand poised with ancient weaponry\\nThe protest took place in what's dubbed Indigenous Week, a series of activities in the capital highlighting the tribes' many problems as they attempt to coexist with ever an ever expanding agricultural industry\\nThe protesters carried coffins, simple black boxes with a white cross on top of each one, to show how they had been impacted by the expansion of the agricultural industry\\nA man stands on his own as smoke billows around him during the protests. The police have used tear gas against the protesters, claiming they got too close to Congress\\nTear gas canisters have been used against the protesters as police attempt to calm the demonstrations. There will be activities all week during a week of action\\nTribesmen duck from tear gas, taking protection from the parked cars as they jump into water to get away from the gas\\nMany attended the protest dressed in traditional garb, including feathers and body paint, alongside elements of modern life, like denim jeans\\nClashes with ranchers, logging companies and other businesses operating near or on their lands are common. However, indigenous leaders say the violence has worsened in the last year amid Brazil's economic crisis\\nThe tribal people have said the coffins represent all the indigenous people from 305 ethic groups who have died over the years\\nRaoni Metuktire, a leader of the Brazilian indigenous ethnic Kayapo people, gestures as he takes part in a demonstration against the violation of indigenous people's rights, in Brasilia\\nPolice fire tear gas canisters at protesters as they huddle underneath huge shields while they face off with demonstrators\\nThe demonstrators have chosen to use traditional weapons to represent their struggle to push back against encroaching industry into their land\\nRaoni Metuktire, a leader of the Brazilian indigenous ethnic Kayapo people, is one of those leading and supporting the marches through the capital this week\\nA female tribe member in traditional paint and headdress looks on during the protesting which will take place all week\\nIndigenous from various ethnic groups negotiate with police as they protest in favor of the demarcation of indigenous lands outside the National Congress\\nThe tribespeople are forced to run through water as they escape tear gas which police have been using against them in ongoing clashes\\nOne of the men returns a tear gas canister to the police by kicking it into the sky. Indigenous leaders say the government of President Michel Temer is working to roll back protections in various parts of the Amazon\\nAn indigenous man aims his arrow at police outside the National Congress, alongside fellow members of tribes who have united for the march\\nBrazilian indigenous people carry dozens of coffins replicas in a protest at Explanada dos Ministerios in Brasilia. Close to 2,000 indigenous people of several tribes of the country gathered in Brasilia to demand for the demarcation of their lands, which they claim as their own\\nPolice refused to confirm, but the tribes claim that four people were arrested during the clashes. Police said they did not 'comply with the agreement' previously set up\\nA member of the Brazilian police gathers arrows fired by Brazilian natives during the protest. According to police, no officers were hurt during the protest\\nIndigenous women protest in traditional costume. Some indigenous people suffered light injuries in the scuffles, which ended around dusk in Brasilia\\nAn indigenous man returns a tear gas canister to police. Sonia Guajajara, a coordinator for the march, said some 4,000 indigenous people and supporters took part in the protest\\nGuajajara said the violent police response was nothing compared to that suffered by indigenous people in territories where deadly clashes continue over disputed land\\nA Kayapo paints the face of her daughter during an assembly in Brasilia. The march has brought together several tribes to demand education and health\\nA number of men take aim ready to fire their arrows in the direction of Congress as they march for greater rights and to seek protection for the Amazon\\nA Brazilian indigenous person with a bow and arrow, dressed in traditional headdress. The protests carried on until the sun began to set over the capital city\\nThe protest is focused on legislation that would give the last word on deciding land boundaries for indigenous reservations to Congress, where a powerful farm lobby holds sway. Currently, Brazil's president retains the power to set such boundaries\\nDozens of indigenous people are killed each year in Brazil in fights with farmers and ranchers over land, often in the relatively lawless Amazon region, where hired gunmen have been used to push the indigenous off resource-rich reserves\\nAn indigenous man aims his arrow at police. The tribes say President Michel Temer is working to allow ranchers and other big-money interest to steal their lands\\nThe tribesmen wear a mixture of traditional clothing and modern garb during the clashes which have been sparked over their desire to protect their long-held land\\nAn indigenous man, left, stands amid tear gas fired by police. The tribes have said there will be a week of activities in the capital highlighting the tribes' many problems\\nA young man bends down to scoop up a canister to throw back, while a friend covers his nose and mouth to avoid the worst of the pain\"}\n"
     ]
    }
   ],
   "source": [
    "import pickle as pkl\n",
    "#x = pkl.load(\"../data/indonesia/json/2017/01/00002.pkl\")\n",
    "with open(\"../data/brazil/json/2017/04/00475.pkl\", \"rb\") as f:\n",
    "    print(pkl.load(f))"
   ]
  },
  {
   "cell_type": "code",
   "execution_count": 6,
   "metadata": {},
   "outputs": [
    {
     "data": {
      "text/plain": [
       "<NewsArticle.NewsArticle at 0x122b0cf28>"
      ]
     },
     "execution_count": 6,
     "metadata": {},
     "output_type": "execute_result"
    }
   ],
   "source": [
    "x"
   ]
  },
  {
   "cell_type": "code",
   "execution_count": null,
   "metadata": {},
   "outputs": [],
   "source": []
  }
 ],
 "metadata": {
  "kernelspec": {
   "display_name": "policy-toolkit",
   "language": "python",
   "name": "policy-toolkit"
  },
  "language_info": {
   "codemirror_mode": {
    "name": "ipython",
    "version": 3
   },
   "file_extension": ".py",
   "mimetype": "text/x-python",
   "name": "python",
   "nbconvert_exporter": "python",
   "pygments_lexer": "ipython3",
   "version": "3.7.3"
  }
 },
 "nbformat": 4,
 "nbformat_minor": 2
}
