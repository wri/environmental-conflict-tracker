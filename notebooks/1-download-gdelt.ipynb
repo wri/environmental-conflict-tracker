{
 "cells": [
  {
   "cell_type": "markdown",
   "metadata": {},
   "source": [
    "# 1 Introduction"
   ]
  },
  {
   "cell_type": "markdown",
   "metadata": {},
   "source": [
    "This notebook scrapes [GDELT](https://www.gdeltproject.org) for all news events on an input day, and saves to a CSV file all events that were geolocated to an input country.\n",
    "\n",
    "\n",
    "On Mac OSX, multiprocessing can cause a segfault in one of the workers which hangs the process. This can either be fixed by running Python 3.8, or by setting `os.environ['no_proxy'] = \"*\"`\n",
    "\n",
    "Additionally, multiprocessing does not work well in Jupyter notebooks. It is not suggested to run this notebook. Rather, run `download.py` from the terminal instead, otherwise the multiprocessing subcalls by `gdelt` may hang up."
   ]
  },
  {
   "cell_type": "markdown",
   "metadata": {},
   "source": [
    "## 1.0 Package imports"
   ]
  },
  {
   "cell_type": "code",
   "execution_count": 2,
   "metadata": {},
   "outputs": [],
   "source": [
    "import gdelt\n",
    "import os\n",
    "from tqdm import tnrange\n",
    "import sys\n",
    "import warnings\n",
    "import pandas as pd\n",
    "import requests\n",
    "import urllib3\n",
    "import time\n",
    "\n",
    "os.environ['no_proxy'] = \"*\"\n",
    "%load_ext autoreload\n",
    "%autoreload 2\n",
    "\n",
    "if not sys.warnoptions:\n",
    "    warnings.simplefilter(\"ignore\")"
   ]
  },
  {
   "cell_type": "markdown",
   "metadata": {},
   "source": [
    "## 1.1 Debugger template"
   ]
  },
  {
   "cell_type": "code",
   "execution_count": 3,
   "metadata": {},
   "outputs": [],
   "source": [
    "class Debugger(object):\n",
    "    enabled = False\n",
    "    def __init__(self, func):\n",
    "        self.func = func\n",
    "\n",
    "    def __call__(self, *args, **kwargs):\n",
    "        if self.enabled:\n",
    "            print('Entering', self.func.__name__)\n",
    "            print('    args:', args, kwargs)\n",
    "        return self.func(*args, **kwargs)\n",
    "\n",
    "Debugger.enabled = True"
   ]
  },
  {
   "cell_type": "markdown",
   "metadata": {},
   "source": [
    "# 2 Data downloading"
   ]
  },
  {
   "cell_type": "markdown",
   "metadata": {},
   "source": [
    "## 2.0 Constants"
   ]
  },
  {
   "cell_type": "code",
   "execution_count": 4,
   "metadata": {},
   "outputs": [],
   "source": [
    "lengths = [31, 28, 31, 30, 31, 30, 31, 31, 30, 31, 30, 31]\n",
    "gd2 = gdelt.gdelt(version=2)"
   ]
  },
  {
   "cell_type": "markdown",
   "metadata": {},
   "source": [
    "## 2.1 Parameters"
   ]
  },
  {
   "cell_type": "code",
   "execution_count": 5,
   "metadata": {},
   "outputs": [],
   "source": [
    "countries = {\"brazil\": \"BR\",\n",
    "            \"indonesia\" :\"ID\",\n",
    "            \"mexico\": \"MX\",}\n",
    "\n",
    "year = \"2019\"\n",
    "\n",
    "folders = {\"brazil\": \"../data/brazil/raw/{}\".format(year),\n",
    "           \"indonesia\": \"../data/indonesia/raw/{}\".format(year),\n",
    "           \"mexico\": \"../data/mexico/raw/{}\".format(year),\n",
    "          }"
   ]
  },
  {
   "cell_type": "markdown",
   "metadata": {},
   "source": [
    "## 2.3 Function definitions"
   ]
  },
  {
   "cell_type": "code",
   "execution_count": 8,
   "metadata": {},
   "outputs": [],
   "source": [
    "@Debugger\n",
    "def pull_day(year, month, day, folders):\n",
    "    for country, folder in folders.items():\n",
    "        if not os.path.exists(folder):\n",
    "            os.makedirs(folder)\n",
    "\n",
    "    day = str(day).zfill(2)\n",
    "    if not os.path.exists(\"{}/2019{}{}.csv\".format(out_folder,\n",
    "                                                       month,\n",
    "                                                       day)):\n",
    "        gd2 = gdelt.gdelt(version=2)\n",
    "        results = gd2.Search(['{} {} {}'.format(year, month, day)],\n",
    "                                 table='events',coverage=True)\n",
    "        return results"
   ]
  },
  {
   "cell_type": "code",
   "execution_count": 9,
   "metadata": {},
   "outputs": [],
   "source": [
    "def pull_month(month, \n",
    "               countries = countries,\n",
    "               year = year,\n",
    "               folders = folders):\n",
    "    '''Scrapes GDELT for each day in the input month,\n",
    "       saving results to a specified output folder for each day\n",
    "    '''\n",
    "    \n",
    "    for country, folder in folders.items():\n",
    "        if not os.path.exists(folder):\n",
    "            os.makedirs(folder)\n",
    "    \n",
    "    for date in tnrange(1, lengths[month - 1] + 1):\n",
    "        month = str(month).zfill(2)\n",
    "        for attempt in range(5):\n",
    "            try:\n",
    "                date = str(date).zfill(2)\n",
    "                if not os.path.exists(\"{}/{}{}{}.csv\".format(folders['brazil'],\n",
    "                                                             year,\n",
    "                                                             month,\n",
    "                                                             date)):\n",
    "                    results = gd2.Search(['{} {} {}'.format(year, month, date)],\n",
    "                                         table='events',coverage=True)\n",
    "                    \n",
    "                    for country, idx in countries.items():\n",
    "                        print(results['ActionGeo_CountryCode'].unique())\n",
    "                        \n",
    "                        temp = results[results['ActionGeo_CountryCode'] == idx]\n",
    "                        print(temp.shape)\n",
    "                        temp.to_csv(\"{}/{}{}{}.csv\".format(folders[country], year, month, date))\n",
    "\n",
    "            except (requests.exceptions.ReadTimeout, \n",
    "                    requests.exceptions.ConnectionError,\n",
    "                    urllib3.exceptions.MaxRetryError) as e:\n",
    "                print(e, attempt)\n",
    "                time.sleep(attempt*10)\n",
    "                continue    "
   ]
  },
  {
   "cell_type": "markdown",
   "metadata": {},
   "source": [
    "## 2.4 Function execution"
   ]
  },
  {
   "cell_type": "code",
   "execution_count": null,
   "metadata": {},
   "outputs": [],
   "source": [
    "[pull_month(x) for x in range(1, 13)]"
   ]
  }
 ],
 "metadata": {
  "kernelspec": {
   "display_name": "policy-toolkit",
   "language": "python",
   "name": "policy-toolkit"
  },
  "language_info": {
   "codemirror_mode": {
    "name": "ipython",
    "version": 3
   },
   "file_extension": ".py",
   "mimetype": "text/x-python",
   "name": "python",
   "nbconvert_exporter": "python",
   "pygments_lexer": "ipython3",
   "version": "3.7.3"
  }
 },
 "nbformat": 4,
 "nbformat_minor": 2
}
