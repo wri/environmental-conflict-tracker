{
 "cells": [
  {
   "cell_type": "markdown",
   "metadata": {},
   "source": [
    "# 1 Introduction\n",
    "## 1.0 Package imports"
   ]
  },
  {
   "cell_type": "code",
   "execution_count": 131,
   "metadata": {},
   "outputs": [],
   "source": [
    "import numpy as np\n",
    "import pandas as pd\n",
    "import pickle\n",
    "import os\n",
    "from newsplease import NewsPlease"
   ]
  },
  {
   "cell_type": "markdown",
   "metadata": {},
   "source": [
    "# 2 Definitions\n",
    "\n",
    "## 2.0 Parameter definitions"
   ]
  },
  {
   "cell_type": "code",
   "execution_count": 132,
   "metadata": {},
   "outputs": [],
   "source": [
    "country = 'indonesia'\n",
    "year = 2019\n",
    "month = 1\n",
    "path = \"../data/{}/\".format(country)\n",
    "metadata_path = (path + \"metadata/\" + str(year) + \"/\"\n",
    "                 + str(month).zfill(2) + \".csv\")\n",
    "\n",
    "fulltext_path = (path + \"text/\" + str(year) + \"/\"\n",
    "                 + str(month).zfill(2) + \"/\")\n",
    "\n",
    "cols_to_keep = ['Actor1Code', 'Actor1Name', 'Actor2Code', 'IsRootEvent', 'EventCode', 'CAMEOCodeDescription',\n",
    "                'EventRootCode', 'QuadClass', 'GoldsteinScale', 'NumMentions', 'AvgTone', 'ActionGeo_FullName',\n",
    "                'ActionGeo_Lat', 'ActionGeo_Long', 'SOURCEURL', 'title']"
   ]
  },
  {
   "cell_type": "markdown",
   "metadata": {},
   "source": [
    "## 2.1 Function definitions"
   ]
  },
  {
   "cell_type": "code",
   "execution_count": 133,
   "metadata": {},
   "outputs": [],
   "source": [
    "def load_obj(idx: int, path: str = fulltext_path) -> \"NewsPlease object\":\n",
    "    idx = str(idx).zfill(5)\n",
    "    with open(path + idx + \".pkl\", \"rb\") as f:\n",
    "        return pickle.load(f)\n",
    "\n",
    "def match_metadata(gs_sample):\n",
    "    month = str(gs_sample['month']).zfill(2)\n",
    "    idx = gs_sample['ids']\n",
    "    matching_dictionary = load_dict(month)\n",
    "    print('This sample matches these rows in {}.csv: {}'.format(month, matching_dictionary[idx]))\n",
    "    df = pd.read_csv(\"../data/metadata/variables/{}.csv\".format(month))\n",
    "    return df.iloc[matching_dictionary[idx]]\n",
    "\n",
    "def convert_json():\n",
    "    pass\n",
    "\n",
    "def save_json():\n",
    "    pass"
   ]
  },
  {
   "cell_type": "markdown",
   "metadata": {},
   "source": [
    "# 3 Execution\n",
    "\n",
    "Merge the `dataframe` row with the `NewsPlease` text to create a `JSON` object as such:\n",
    "\n",
    "```javascript\n",
    "{ \"id\": \"00001\",\n",
    "  \"country\": \"IN\",\n",
    "  \"url\": \"https://\",\n",
    "  \"date\": \"MM-DD-YYYY\",\n",
    "  \"full_text\": string,\n",
    "  \"article_title\": string,\n",
    "  \"number_actions\": int,\n",
    "  \"actions\": {\n",
    "      1: {'latitude', 'longitude', 'action_type', \"goldstein\", ...},\n",
    "      2: {'latitude', 'longitude', 'action_type', \"goldstein\", ...},\n",
    "      3: {'latitude', 'longitude', 'action_type', \"goldstein\", ...},\n",
    "          },\n",
    "  }\n",
    "```"
   ]
  },
  {
   "cell_type": "markdown",
   "metadata": {},
   "source": [
    "`mapping_dictionary` maps: `{ \"url_idx\": \"dataframe_idx\"}`, `url_idx.zfill(5)` is the file name of the NewsPlease article in the `texts` folder."
   ]
  },
  {
   "cell_type": "code",
   "execution_count": 134,
   "metadata": {},
   "outputs": [],
   "source": [
    "action_dict = dict(zip(cols_to_keep[:-2], [None] * (len(cols_to_keep) - 2)))\n",
    "\n",
    "base_dict = {\n",
    "    'id': None,\n",
    "    'country': None,\n",
    "    'url': None,\n",
    "    'full_text': None,\n",
    "    'article_title': None,\n",
    "    'number_actions': None,\n",
    "    'actions': dict()\n",
    "}"
   ]
  },
  {
   "cell_type": "code",
   "execution_count": 135,
   "metadata": {},
   "outputs": [],
   "source": [
    "data = pd.read_csv(metadata_path)\n",
    "\n",
    "urls = data['to_scrape'].unique()\n",
    "mapping_dictionary = {}\n",
    "for i, val in enumerate(urls):\n",
    "    match = data.index[data['to_scrape'] == urls[i]].tolist()\n",
    "    mapping_dictionary[i] = match "
   ]
  },
  {
   "cell_type": "code",
   "execution_count": null,
   "metadata": {},
   "outputs": [],
   "source": [
    "for i, val in enumerate(urls):\n",
    "    if os.path.exists(fulltext_path + str(i).zfill(5) + \".pkl\"):\n",
    "        fulltext = load_obj(i)\n",
    "        text = fulltext.text\n",
    "        date = fulltext.date_publish\n",
    "        language = fulltext.language\n",
    "        metadata = data.iloc[mapping_dictionary[i]]\n",
    "        metadata = metadata[cols_to_keep].reset_index()\n",
    "\n",
    "        item_dict = base_dict.copy()\n",
    "        item_dict['id'] = str(i).zfill(5)\n",
    "        item_dict['country'] = country\n",
    "        item_dict['url'] = fulltext.url\n",
    "        item_dict['article_title'] = fulltext.title\n",
    "        item_dict['date'] = date\n",
    "        item_dict['language'] = language\n",
    "        item_dict['number_actions'] = len(metadata)\n",
    "        item_dict['text'] = text\n",
    "\n",
    "        actions_dict = {}\n",
    "        for action in range(len(metadata)):\n",
    "            metadata_i = list(metadata.iloc[action])\n",
    "            action_dict_i = dict(zip(cols_to_keep[:-2], metadata_i))\n",
    "            actions_dict[action] = action_dict_i\n",
    "\n",
    "        item_dict['actions'] = actions_dict\n",
    "        "
   ]
  }
 ],
 "metadata": {
  "kernelspec": {
   "display_name": "policy-toolkit",
   "language": "python",
   "name": "policy-toolkit"
  },
  "language_info": {
   "codemirror_mode": {
    "name": "ipython",
    "version": 3
   },
   "file_extension": ".py",
   "mimetype": "text/x-python",
   "name": "python",
   "nbconvert_exporter": "python",
   "pygments_lexer": "ipython3",
   "version": "3.7.3"
  }
 },
 "nbformat": 4,
 "nbformat_minor": 2
}
