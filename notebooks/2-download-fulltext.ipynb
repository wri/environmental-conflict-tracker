{
 "cells": [
  {
   "cell_type": "markdown",
   "metadata": {},
   "source": [
    "# 1 Introduction"
   ]
  },
  {
   "cell_type": "markdown",
   "metadata": {},
   "source": [
    "## 1.0 Package imports"
   ]
  },
  {
   "cell_type": "code",
   "execution_count": 1,
   "metadata": {},
   "outputs": [],
   "source": [
    "from newsplease import NewsPlease\n",
    "import pandas as pd\n",
    "import nltk\n",
    "from tqdm import tnrange\n",
    "import re\n",
    "import multiprocessing\n",
    "import pickle\n",
    "import os"
   ]
  },
  {
   "cell_type": "markdown",
   "metadata": {},
   "source": [
    "# 2 Data Download\n",
    "\n",
    "## 2.0 Constants"
   ]
  },
  {
   "cell_type": "code",
   "execution_count": 3,
   "metadata": {},
   "outputs": [],
   "source": [
    "lengths = [31, 28, 31, 30, 31, 30, 31, 31, 30, 31, 30 ,31]\n",
    "lengths = [x + 1 for x in lengths]\n",
    "\n",
    "relevant_words = ['land', 'forest', 'agriculture', \n",
    "                  'farm', 'farmer', 'plantation', 'agrarian',\n",
    "                  'smallholder', 'grazing', 'development', 'habitat', \n",
    "                  'resource', 'cattle', 'dispute', 'strife', 'peat',\n",
    "                  'rice', 'palm oil', 'sugarcane', 'cassava', 'coconut',\n",
    "                  'corn', 'mango', 'orange', 'maize', 'wheat', 'sorghum',\n",
    "                  'bananas', 'tomatoes', 'citrus',\n",
    "                  'livestock', 'kill', 'dead', 'airport',\n",
    "                  'aluminum', 'mining', 'agro', 'dam',\n",
    "                  'road', 'infrastructure', 'transmission', \n",
    "                  'conservation', 'settlement', 'displace',\n",
    "                  'exile', 'caste', 'conflict', 'relocation',\n",
    "                  'village', 'encroach', 'fertilizer', 'mine',\n",
    "                  'illegal mining', 'malnutrition', 'contamination',\n",
    "                  'mangrove', 'water', 'cow', 'cattle', 'appropriation', \n",
    "                  'appropriated', 'protest', 'environmental', 'pollution',\n",
    "                  'copper', 'iron', 'timber', 'acre', 'hectare', ]"
   ]
  },
  {
   "cell_type": "markdown",
   "metadata": {},
   "source": [
    "## 2.1 Function definitions"
   ]
  },
  {
   "cell_type": "code",
   "execution_count": 9,
   "metadata": {},
   "outputs": [],
   "source": [
    "def load_month(month):\n",
    "    month_str = str(month).zfill(2)\n",
    "    df_paths = [\"2018{}{}.csv\".format(month_str, str(x).zfill(2)) for x in range(1, lengths[month - 1])]\n",
    "    df_list = [pd.read_csv(\"data/\" + x) for x in df_paths]\n",
    "    return df_list\n",
    "\n",
    "def save_obj(obj, name):\n",
    "    'Helper function using pickle to save and load objects'\n",
    "    with open('text/' + str(month) + '/' + name + '.pkl', 'wb+') as f:\n",
    "        pickle.dump(obj, f, pickle.HIGHEST_PROTOCOL)\n",
    "\n",
    "def find_link_to_scrape(df):\n",
    "    df['to_scrape'] = ''\n",
    "    df['title'] = ''\n",
    "    for i in range(len(df)):\n",
    "        links = df['SOURCEURL'][i]\n",
    "        l = re.findall(r'\\w+(?:-\\w+)+', links)\n",
    "        if l:\n",
    "            title = max(l, key = len)\n",
    "            title = title.replace('-', ' ')\n",
    "            df['title'][i] = title\n",
    "            if any(word in title for word in relevant_words):\n",
    "                df['to_scrape'][i] = str(links)\n",
    "    return df\n",
    "\n",
    "def combine_days(dfs):\n",
    "    df_parsed = [find_link_to_scrape(dfs[x]) for x in tnrange(len(dfs))]\n",
    "    df_month = pd.concat(df_parsed)\n",
    "    df_subs = df_month[df_month['to_scrape'] != '']\n",
    "    df_subs = df_subs.reset_index()\n",
    "    return df_subs"
   ]
  },
  {
   "cell_type": "markdown",
   "metadata": {},
   "source": [
    "## 2.2 Function execution"
   ]
  },
  {
   "cell_type": "code",
   "execution_count": null,
   "metadata": {},
   "outputs": [],
   "source": [
    "for i in range(1, 11):\n",
    "    month = load_month(i)\n",
    "    df = combine_days(month)\n",
    "    df.to_csv(\"interim/{}.csv\".format(str(i).zfill(2)))"
   ]
  },
  {
   "cell_type": "code",
   "execution_count": 31,
   "metadata": {},
   "outputs": [
    {
     "name": "stderr",
     "output_type": "stream",
     "text": [
      "/Users/john.brandt/anaconda3/lib/python3.7/site-packages/IPython/core/interactiveshell.py:3057: DtypeWarning: Columns (17,24,27) have mixed types. Specify dtype option on import or set low_memory=False.\n",
      "  interactivity=interactivity, compiler=compiler, result=result)\n"
     ]
    }
   ],
   "source": [
    "month = '01'\n",
    "\n",
    "def save_obj(obj, name):\n",
    "    'Helper function using pickle to save and load objects'\n",
    "    with open('../data/metadata/matching/' + name + '.pkl', 'wb+') as f:\n",
    "        pickle.dump(obj, f, pickle.HIGHEST_PROTOCOL)\n",
    "\n",
    "df = pd.read_csv(\"../data/metadata/variables/{}.csv\".format(month))\n",
    "urls = df['to_scrape'].unique()\n",
    "\n",
    "# create a dictionary mapping urls to the month's csv\n",
    "mapping_dictionary = {}\n",
    "for i, val in enumerate(urls):\n",
    "    match = df.index[df['to_scrape'] == urls[i]].tolist()\n",
    "    mapping_dictionary[i] = match\n",
    "    \n",
    "save_obj(mapping_dictionary, month)"
   ]
  },
  {
   "cell_type": "code",
   "execution_count": null,
   "metadata": {},
   "outputs": [],
   "source": [
    "month = 11\n",
    "\n",
    "if not os.path.exists(\"text/{}\".format(str(month))):\n",
    "    os.makedirs(\"text/{}\".format(str(month)))\n",
    "\n",
    "    \n",
    "def download_url(i):\n",
    "    try:\n",
    "        article = NewsPlease.from_url(urls[i])\n",
    "        save_obj(article, str(i).zfill(5))\n",
    "        return 1\n",
    "    except Exception as ex:\n",
    "        print(i, ex)\n",
    "        return 0\n",
    "\n",
    "potential = range(0, len(urls))\n",
    "existing = os.listdir(\"text/{}/\".format(str(month)))\n",
    "existing = [int(x[:5]) for x in existing if \".DS\" not in x]\n",
    "potential = [x for x in potential if x not in existing]\n",
    "print(len(potential))\n",
    "pool = multiprocessing.Pool(16)\n",
    "zip(*pool.map(download_url, potential))"
   ]
  },
  {
   "cell_type": "code",
   "execution_count": null,
   "metadata": {},
   "outputs": [],
   "source": [
    "pool.close()\n",
    "pool.join()"
   ]
  }
 ],
 "metadata": {
  "kernelspec": {
   "display_name": "policy-toolkit",
   "language": "python",
   "name": "policy-toolkit"
  },
  "language_info": {
   "codemirror_mode": {
    "name": "ipython",
    "version": 3
   },
   "file_extension": ".py",
   "mimetype": "text/x-python",
   "name": "python",
   "nbconvert_exporter": "python",
   "pygments_lexer": "ipython3",
   "version": "3.7.3"
  }
 },
 "nbformat": 4,
 "nbformat_minor": 2
}
