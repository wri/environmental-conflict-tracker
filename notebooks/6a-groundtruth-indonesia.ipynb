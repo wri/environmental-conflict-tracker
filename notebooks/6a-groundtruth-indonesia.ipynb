{
 "cells": [
  {
   "cell_type": "markdown",
   "metadata": {},
   "source": [
    "# 1 Introduction\n",
    "\n",
    "## 1.0 Package imports"
   ]
  },
  {
   "cell_type": "code",
   "execution_count": 3,
   "metadata": {},
   "outputs": [],
   "source": [
    "import numpy as np\n",
    "import pandas as pd\n",
    "from googletrans import Translator\n",
    "import time\n",
    "import warnings\n",
    "from pandas_profiling import ProfileReport"
   ]
  },
  {
   "cell_type": "markdown",
   "metadata": {},
   "source": [
    "# 2 Definitions\n",
    "\n",
    "## 2.0 Parameter definitions"
   ]
  },
  {
   "cell_type": "code",
   "execution_count": 4,
   "metadata": {},
   "outputs": [],
   "source": [
    "data_location = '../data/indonesia/groundtruth-indonesia.csv'\n",
    "data_location_en = '../data/indonesia/groundtruth-indonesia-en.csv'"
   ]
  },
  {
   "cell_type": "markdown",
   "metadata": {},
   "source": [
    "## 2.1 Function definitions"
   ]
  },
  {
   "cell_type": "code",
   "execution_count": 34,
   "metadata": {},
   "outputs": [],
   "source": [
    "translator = Translator()\n",
    "\n",
    "def translate_worker(string: str, translator: 'Translator' = translator) -> str:\n",
    "    if string == 'nan' or pd.isna(string):\n",
    "        return string\n",
    "    \n",
    "    language = translator.detect(string)\n",
    "    if language.lang != 'en':\n",
    "        time.sleep(3)\n",
    "        string_trans = translator.translate(string)\n",
    "        if string_trans.src in ['id', 'ms', 'jw', 'su', 'gu']:\n",
    "        #assert (string.src in ['id', 'ms', 'jw', 'su', 'gu']), f'Incorrect input language of {string.src}'\n",
    "            string = string_trans.text\n",
    "        else:\n",
    "            warnings.warn(f'Incorrect language of {string_trans.src}')\n",
    "    return string\n",
    "    "
   ]
  },
  {
   "cell_type": "markdown",
   "metadata": {},
   "source": [
    "# 3 Execution"
   ]
  },
  {
   "cell_type": "markdown",
   "metadata": {},
   "source": [
    "## 3.1 Translate Indonesian to English"
   ]
  },
  {
   "cell_type": "code",
   "execution_count": 4,
   "metadata": {},
   "outputs": [],
   "source": [
    "data = pd.read_csv(data_location)\n",
    "cols_to_drop = [x for x in data.columns if 'Unnamed' in x]\n",
    "data = data.drop(cols_to_drop, axis = 1)\n",
    "data.columns = ['Publication date', 'Month', 'Year', 'Headline',\n",
    "                'Media', 'Tone', 'Province',  'Disputing Parties',\n",
    "                'Issue', 'Similar', 'Summary']"
   ]
  },
  {
   "cell_type": "code",
   "execution_count": 6,
   "metadata": {},
   "outputs": [
    {
     "data": {
      "text/html": [
       "<div>\n",
       "<style scoped>\n",
       "    .dataframe tbody tr th:only-of-type {\n",
       "        vertical-align: middle;\n",
       "    }\n",
       "\n",
       "    .dataframe tbody tr th {\n",
       "        vertical-align: top;\n",
       "    }\n",
       "\n",
       "    .dataframe thead th {\n",
       "        text-align: right;\n",
       "    }\n",
       "</style>\n",
       "<table border=\"1\" class=\"dataframe\">\n",
       "  <thead>\n",
       "    <tr style=\"text-align: right;\">\n",
       "      <th></th>\n",
       "      <th>Publication date</th>\n",
       "      <th>Month</th>\n",
       "      <th>Year</th>\n",
       "      <th>Headline</th>\n",
       "      <th>Media</th>\n",
       "      <th>Tone</th>\n",
       "      <th>Province</th>\n",
       "      <th>Issue</th>\n",
       "      <th>Similar</th>\n",
       "      <th>Summary</th>\n",
       "      <th>Party One</th>\n",
       "      <th>Party Two</th>\n",
       "    </tr>\n",
       "  </thead>\n",
       "  <tbody>\n",
       "    <tr>\n",
       "      <th>0</th>\n",
       "      <td>13 Apr 2017</td>\n",
       "      <td>Apr</td>\n",
       "      <td>2017</td>\n",
       "      <td>FSC conditionally approves plan to end suspens...</td>\n",
       "      <td>Eco-business.com</td>\n",
       "      <td>Negatif</td>\n",
       "      <td>Sumatera Utara</td>\n",
       "      <td>Perambahan hutan</td>\n",
       "      <td>APP</td>\n",
       "      <td>Satu dekade setelah Forest Stewardship Council...</td>\n",
       "      <td>PT APP</td>\n",
       "      <td>Aktivis lingkungan</td>\n",
       "    </tr>\n",
       "    <tr>\n",
       "      <th>1</th>\n",
       "      <td>09 Jun 2017</td>\n",
       "      <td>Jun</td>\n",
       "      <td>2017</td>\n",
       "      <td>'Give us back our land': paper giants struggle...</td>\n",
       "      <td>Mongabay.com</td>\n",
       "      <td>Negatif</td>\n",
       "      <td>Jambi</td>\n",
       "      <td>Alih fungsi lahan</td>\n",
       "      <td>APP</td>\n",
       "      <td>Rainforest Action Network (RAN) merilis platfo...</td>\n",
       "      <td>Asia Pulp and Paper</td>\n",
       "      <td>. Toba Pulp Lestari</td>\n",
       "    </tr>\n",
       "    <tr>\n",
       "      <th>2</th>\n",
       "      <td>10 Oct 2017</td>\n",
       "      <td>Oct</td>\n",
       "      <td>2017</td>\n",
       "      <td>Indonesia dijual : Mengungkap relasi tersembun...</td>\n",
       "      <td>Mongabay.co.id</td>\n",
       "      <td>Negatif</td>\n",
       "      <td>Indonesia</td>\n",
       "      <td>Lahan sawit</td>\n",
       "      <td>Investigasi \"Indonesia Dijual\"</td>\n",
       "      <td>Dalam seri investigasi “Indonesia Dijual”, “Mo...</td>\n",
       "      <td>Perusahaan kelapa sawit</td>\n",
       "      <td>Masyarakat</td>\n",
       "    </tr>\n",
       "  </tbody>\n",
       "</table>\n",
       "</div>"
      ],
      "text/plain": [
       "  Publication date Month  Year  \\\n",
       "0      13 Apr 2017   Apr  2017   \n",
       "1      09 Jun 2017   Jun  2017   \n",
       "2      10 Oct 2017   Oct  2017   \n",
       "\n",
       "                                            Headline             Media  \\\n",
       "0  FSC conditionally approves plan to end suspens...  Eco-business.com   \n",
       "1  'Give us back our land': paper giants struggle...      Mongabay.com   \n",
       "2  Indonesia dijual : Mengungkap relasi tersembun...    Mongabay.co.id   \n",
       "\n",
       "      Tone        Province              Issue                         Similar  \\\n",
       "0  Negatif  Sumatera Utara   Perambahan hutan                             APP   \n",
       "1  Negatif           Jambi  Alih fungsi lahan                             APP   \n",
       "2  Negatif       Indonesia        Lahan sawit  Investigasi \"Indonesia Dijual\"   \n",
       "\n",
       "                                             Summary                Party One  \\\n",
       "0  Satu dekade setelah Forest Stewardship Council...                   PT APP   \n",
       "1  Rainforest Action Network (RAN) merilis platfo...     Asia Pulp and Paper    \n",
       "2  Dalam seri investigasi “Indonesia Dijual”, “Mo...  Perusahaan kelapa sawit   \n",
       "\n",
       "             Party Two  \n",
       "0   Aktivis lingkungan  \n",
       "1  . Toba Pulp Lestari  \n",
       "2           Masyarakat  "
      ]
     },
     "execution_count": 6,
     "metadata": {},
     "output_type": "execute_result"
    }
   ],
   "source": [
    "party_one = []\n",
    "party_two = []\n",
    "for row in range(0, len(data)):\n",
    "    src = data['Disputing Parties'][row]\n",
    "    if not pd.isna(src):\n",
    "        if '\\n' in src:\n",
    "            parties = src.split('\\n')\n",
    "        elif '2' in src:\n",
    "            parties = src.split('2')\n",
    "        if len(parties) == 2:\n",
    "            party_one.append(parties[0].replace(\"1. \", \"\"))\n",
    "            party_two.append(parties[1].replace(\"2. \", \"\"))\n",
    "        else:\n",
    "            party_one.append(parties[0].replace(\"1. \", \"\"))\n",
    "            party_two.append(np.nan)\n",
    "    else:\n",
    "        party_one.append(np.nan)\n",
    "        party_two.append(np.nan)\n",
    "\n",
    "data['Party One'] = party_one\n",
    "data['Party Two'] = party_two\n",
    "\n",
    "data = data.drop(['Disputing Parties'], axis = 1)\n",
    "data.head(3)"
   ]
  },
  {
   "cell_type": "code",
   "execution_count": 27,
   "metadata": {},
   "outputs": [],
   "source": [
    "data_eng = pd.read_csv(data_location_en)\n",
    "cols_to_translate = ['Headline', 'Issue', 'Similar', 'Summary', 'Party One', 'Party Two']"
   ]
  },
  {
   "cell_type": "code",
   "execution_count": null,
   "metadata": {},
   "outputs": [],
   "source": [
    "for col in cols_to_translate[5:6]:\n",
    "    print(col)\n",
    "    for row in range(0, len(data_eng)):\n",
    "        print(row)\n",
    "        text = translate_worker(data_eng[col][row])\n",
    "        print(f'Translated {data_eng[col][row]} to {text} for column {col}, row {row}')\n",
    "        print('\\n')\n",
    "        data_eng[col][row] = text"
   ]
  },
  {
   "cell_type": "code",
   "execution_count": 49,
   "metadata": {},
   "outputs": [],
   "source": [
    "data_eng.to_csv(\"../data/indonesia/groundtruth-indonesia-en.csv\", index = False)"
   ]
  },
  {
   "cell_type": "markdown",
   "metadata": {},
   "source": [
    "# Visualize results"
   ]
  },
  {
   "cell_type": "code",
   "execution_count": 5,
   "metadata": {},
   "outputs": [],
   "source": [
    "data_eng = pd.read_csv(data_location_en)\n",
    "profile = ProfileReport(data_eng)"
   ]
  },
  {
   "cell_type": "code",
   "execution_count": 13,
   "metadata": {},
   "outputs": [],
   "source": [
    "#profile.to_widgets()"
   ]
  }
 ],
 "metadata": {
  "kernelspec": {
   "display_name": "policy-toolkit",
   "language": "python",
   "name": "policy-toolkit"
  },
  "language_info": {
   "codemirror_mode": {
    "name": "ipython",
    "version": 3
   },
   "file_extension": ".py",
   "mimetype": "text/x-python",
   "name": "python",
   "nbconvert_exporter": "python",
   "pygments_lexer": "ipython3",
   "version": "3.7.3"
  }
 },
 "nbformat": 4,
 "nbformat_minor": 2
}
